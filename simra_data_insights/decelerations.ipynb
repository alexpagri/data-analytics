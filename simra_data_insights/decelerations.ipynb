{
 "cells": [
  {
   "cell_type": "code",
   "execution_count": null,
   "metadata": {},
   "outputs": [],
   "source": [
    "import psycopg2\n",
    "from postgis.psycopg import register\n",
    "import project_path\n",
    "from db_importer.settings import *\n",
    "import pandas as pd\n",
    "import math\n",
    "import matplotlib.pyplot as plt\n",
    "import numpy as np\n",
    "\n",
    "class DatabaseConnection(object):\n",
    "    def __enter__(self):\n",
    "        self.conn = psycopg2.connect(f\"dbname='{DB_NAME}' user='{DB_USER}' password='{DB_PASSWORD}' host='{DB_HOST}' port='{DB_PORT}'\")\n",
    "        self.conn.autocommit = True\n",
    "\n",
    "        register(self.conn)\n",
    "        self.cur = self.conn.cursor()\n",
    "\n",
    "        return self.cur\n",
    "\n",
    "    def __exit__(self, exc_type, exc_val, exc_tb):\n",
    "        if exc_tb is None:\n",
    "            self.conn.commit()\n",
    "            self.cur.close()\n",
    "            self.conn.close()\n",
    "        else:\n",
    "            self.conn.rollback()\n",
    "            self.cur.close()\n",
    "            self.conn.close()\n"
   ]
  },
  {
   "cell_type": "code",
   "execution_count": null,
   "metadata": {},
   "outputs": [],
   "source": [
    "# Histogram of decel durations\n",
    "\n",
    "with DatabaseConnection() as cur:\n",
    "    cur.execute(\"\"\"select seg_id, sum(duration) from accels where type='d' group by seg_id\"\"\")\n",
    "    res = cur.fetchall()\n",
    "    df = pd.DataFrame(res, columns=['seg_id', 'duration'])\n",
    "    df.duration.hist(bins=34, legend=True)\n",
    "    plt.savefig(\"images/decel_duration.png\", bbox_inches='tight')\n",
    "print(df.duration.mean())\n",
    "    \n"
   ]
  },
  {
   "cell_type": "code",
   "execution_count": null,
   "metadata": {},
   "outputs": [],
   "source": [
    "# Histogram of decel distance\n",
    "\n",
    "with DatabaseConnection() as cur:\n",
    "    cur.execute(\"\"\"select seg_id, sum(dist) from accels where type='d' group by seg_id having sum(dist)<350 and sum(dist)>10\"\"\")\n",
    "    res = cur.fetchall()\n",
    "    df = pd.DataFrame(res, columns=['seg_id', 'distance'])\n",
    "    df.distance.hist(bins=100, legend=True)\n",
    "    plt.savefig(\"images/decel_distance.png\", bbox_inches='tight')\n",
    "print(df.distance.mean())"
   ]
  },
  {
   "cell_type": "code",
   "execution_count": null,
   "metadata": {},
   "outputs": [],
   "source": [
    "with DatabaseConnection() as cur:\n",
    "    cur.execute(\"\"\"select seg_id, min(accel), sum(duration), sum(dist) from accels where type='d' group by seg_id having sum(dist)<350 and min(velo) < 1\"\"\")\n",
    "    res = cur.fetchall()\n",
    "    df = pd.DataFrame(res, columns=['seg_id', 'min_a', 'duration', 'distance'])\n",
    "    print(df.min_a.mean())\n",
    "    df.min_a.hist(bins=120, legend=True)\n",
    "    plt.title('min(a) if min(velo) < 1')\n",
    "    plt.savefig(\"images/decel_min_a_1.png\", bbox_inches='tight')\n"
   ]
  },
  {
   "cell_type": "code",
   "execution_count": null,
   "metadata": {},
   "outputs": [],
   "source": [
    "# Histogram of Delta velo\n",
    "\n",
    "with DatabaseConnection() as cur:\n",
    "    cur.execute(\"\"\"select seg_id, max(velo) - min(velo) from accels where type = 'd' group by seg_id having sum(dist)>20\"\"\")\n",
    "    res = cur.fetchall()\n",
    "    df = pd.DataFrame(res, columns=['seg_id', 'delta_velo'])\n",
    "    df.delta_velo.hist(bins=100)\n",
    "\n"
   ]
  },
  {
   "cell_type": "code",
   "execution_count": null,
   "metadata": {},
   "outputs": [],
   "source": [
    "# Plot of representative decel processes \n",
    "\n",
    "from scipy.interpolate import make_interp_spline, BSpline\n",
    "\n",
    "\n",
    "def plot_accels(x, one_plot):\n",
    "    \n",
    "    last_entry = pd.DataFrame(\n",
    "                {\"a\":[0],\n",
    "                 \"duration\":[3],\n",
    "                 \"seg_id\":[42],\n",
    "                 \"velo\": [0]})\n",
    "    \n",
    "    x = x.append(last_entry)\n",
    "    \n",
    "    x['cum_duration'] = x.duration.cumsum()\n",
    "\n",
    "    x = x[~x.a.isnull()]\n",
    "    \n",
    "    xnew = np.linspace(x.cum_duration.min(), x.cum_duration.max(), 1000) \n",
    "    \n",
    "    spl_a = make_interp_spline(x.cum_duration, x.a)  # type: BSpline\n",
    "    #spl_v = make_interp_spline(x.cum_duration, x.velo)  # type: BSpline\n",
    "    smooth_a = spl_a(xnew)\n",
    "    #smooth_v = spl_v(xnew)\n",
    "\n",
    "    plt.plot(xnew, smooth_a)\n",
    "    #plt.plot(xnew, smooth_v)\n",
    "    plt.scatter(x.cum_duration, x.a)\n",
    "    #plt.scatter(x.cum_duration, x.velo)\n",
    "    plt.show()\n",
    "    \n",
    "with DatabaseConnection() as cur:\n",
    "    cur.execute(\"\"\"select seg_id, accel, duration, velo from accels where type = 'd' Limit 20\"\"\")\n",
    "    res = cur.fetchall()\n",
    "    df = pd.DataFrame(res, columns=['seg_id','a', 'duration', 'velo'])\n",
    "    df.groupby('seg_id', as_index=False).apply(lambda x: plot_accels(x, False))"
   ]
  },
  {
   "cell_type": "code",
   "execution_count": null,
   "metadata": {},
   "outputs": [],
   "source": [
    "import scipy.stats\n",
    "from matplotlib import rc\n",
    "\n",
    "with DatabaseConnection() as cur:\n",
    "    cur.execute(\"\"\"select seg_id, min(accel), sum(duration), sum(dist) from accels where type='d' group by seg_id having sum(dist)<350 and min(velo) < 1\"\"\")\n",
    "    res = cur.fetchall()\n",
    "    df = pd.DataFrame(res, columns=['seg_id', 'min_a', 'duration', 'distance'])\n",
    "\n",
    "    plt.figure(figsize=(8,8))\n",
    "    rc('font', **{'family': 'serif', 'serif': ['Computer Modern'], 'size': 16})\n",
    "    rc('text', usetex=True)\n",
    "    plt.hist(df.min_a, bins=120, density=True, label=r'$a_{min}^{SimRa}$')\n",
    "\n",
    "    c,d,loc,scale= scipy.stats.burr12.fit(df.min_a)\n",
    "    x = np.linspace(-2.5, 0.5, 500)\n",
    "    y = scipy.stats.burr12.pdf(x, c,d,loc,scale)\n",
    "\n",
    "    plt.plot(x, y, linewidth=3, label='B(' + r'$a_{min}; \\Phi^*$' + ')')\n",
    "    plt.xlim(-2.5, 0.5)\n",
    "    plt.xlabel(r'$a_{min}$ in m/s²')\n",
    "    plt.ylabel('Relative frequency')\n",
    "    plt.legend()\n",
    "    plt.savefig('images/max_deceleration_dist_fit',dpi=300, bbox_inches='tight')\n",
    "\n",
    "print(c, d, loc, scale)\n",
    "print(scipy.stats.burr12(c,d,loc,scale).ppf(0.95))"
   ]
  },
  {
   "cell_type": "code",
   "execution_count": null,
   "metadata": {},
   "outputs": [],
   "source": [
    "# Find best distribution fit\n",
    "\n",
    "list_of_dists = ['powernorm','norm','exponnorm','beta','betaprime','bradford','burr','burr12','cauchy','chi','chi2','cosine','dgamma','dweibull','erlang','expon','exponnorm','exponweib','exponpow','f','fatiguelife','fisk','foldcauchy','foldnorm','frechet_r','frechet_l','genlogistic','genpareto','gennorm','genexpon','genextreme','gausshyper','gamma','gengamma','genhalflogistic','gilbrat','gompertz','gumbel_r','gumbel_l','halfcauchy','halflogistic','halfnorm','halfgennorm','hypsecant','invgamma','invgauss','invweibull','johnsonsb','johnsonsu','kstwobign','laplace','levy','levy_l','logistic','loggamma','loglaplace','lognorm','lomax','maxwell','mielke','nakagami','ncx2','ncf','nct','norm','pareto','pearson3','powerlaw','powerlognorm','powernorm','rdist','reciprocal','rayleigh','rice','recipinvgauss','semicircular','t','triang','truncexpon','truncnorm','tukeylambda','uniform','vonmises','vonmises_line','wald','weibull_min','weibull_max']\n",
    "results=[]\n",
    "for i in list_of_dists:\n",
    "    dist = getattr(scipy.stats, i)\n",
    "    param = dist.fit(df.min_a)\n",
    "    a = scipy.stats.kstest(df.min_a, i, args=param)\n",
    "    results.append((i,a[0],a[1]))\n",
    "    \n",
    "    \n",
    "results.sort(key=lambda x:float(x[2]), reverse=True)\n",
    "for j in results:\n",
    "    print(\"{}: statistic={}, pvalue={}\".format(j[0], j[1], j[2]))"
   ]
  }
 ],
 "metadata": {
  "kernelspec": {
   "display_name": "Python 3",
   "language": "python",
   "name": "python3"
  },
  "language_info": {
   "codemirror_mode": {
    "name": "ipython",
    "version": 3
   },
   "file_extension": ".py",
   "mimetype": "text/x-python",
   "name": "python",
   "nbconvert_exporter": "python",
   "pygments_lexer": "ipython3"
  }
 },
 "nbformat": 4,
 "nbformat_minor": 4
}
