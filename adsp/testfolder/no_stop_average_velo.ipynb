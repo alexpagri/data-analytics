{
 "cells": [
  {
   "cell_type": "code",
   "execution_count": null,
   "metadata": {},
   "outputs": [],
   "source": [
    "from db_con import DatabaseConnection\n",
    "import pandas as pd\n",
    "import matplotlib.pyplot as plt\n",
    "from matplotlib.animation import FuncAnimation\n",
    "from matplotlib.widgets import Slider\n",
    "from matplotlib import ticker\n",
    "import contextily as cx\n",
    "\n",
    "with DatabaseConnection() as cur:\n",
    "    cur.execute(\"\"\"\n",
    "\n",
    "        SELECT two.fn, AVG(two.ve) FROM (\n",
    "        SELECT one.fn as fn, unnest(one.v) as ve FROM (\n",
    "        SELECT filename as fn, durations as t, distances as d, velos as v, (((ST_Points(geom::geometry))::json) -> 'coordinates') as pts from ride\n",
    "        ) as one\n",
    "        ) as two WHERE two.ve > 0.2 AND two.ve != 'NaN' AND two.ve < 15 GROUP BY (two.fn)\n",
    "\n",
    "    \"\"\")\n",
    "    objs = cur.fetchall()"
   ]
  },
  {
   "cell_type": "code",
   "execution_count": null,
   "metadata": {},
   "outputs": [],
   "source": [
    "import numpy as np\n",
    "import scipy.stats as st\n",
    "\n",
    "pdf = pd.DataFrame(objs, columns=['file', 'avg_speed'])\n",
    "\n",
    "fig = plt.figure(figsize=[20, 10])\n",
    "\n",
    "ax = plt.axes()\n",
    "ax.grid()\n",
    "ax.xaxis.set_major_locator(ticker.LinearLocator(numticks=30))\n",
    "\n",
    "plt.hist(pdf['avg_speed'] * 3.6, 200, density=True, histtype='step')\n",
    "#plt.plot(pdf.sort_values('avg_speed').reset_index()['avg_speed'])\n",
    "\n",
    "#plt.ylim([0, 10])\n",
    "\n",
    "mn, mx = plt.xlim()\n",
    "#plt.xlim(mn, mx)\n",
    "kde_xs = np.linspace(mn, mx, 200)\n",
    "kde = st.gaussian_kde(pdf['avg_speed'] * 3.6)\n",
    "plt.plot(kde_xs, kde.pdf(kde_xs), label=\"PDF\")\n",
    "\n",
    "plt.show()"
   ]
  }
 ],
 "metadata": {
  "kernelspec": {
   "display_name": "Python 3.8.10 64-bit",
   "language": "python",
   "name": "python3"
  },
  "language_info": {
   "codemirror_mode": {
    "name": "ipython",
    "version": 3
   },
   "file_extension": ".py",
   "mimetype": "text/x-python",
   "name": "python",
   "nbconvert_exporter": "python",
   "pygments_lexer": "ipython3"
  },
  "vscode": {
   "interpreter": {
    "hash": "916dbcbb3f70747c44a77c7bcd40155683ae19c65e1c03b4aa3499c5328201f1"
   }
  }
 },
 "nbformat": 4,
 "nbformat_minor": 2
}
