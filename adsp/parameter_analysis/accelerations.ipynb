{
 "cells": [
  {
   "cell_type": "code",
   "execution_count": null,
   "metadata": {},
   "outputs": [],
   "source": [
    "import sys\n",
    "# add parent directory to sys.path so that python finds the modules\n",
    "sys.path.append('..')\n",
    "\n",
    "import pandas as pd\n",
    "import scipy.stats\n",
    "import numpy as np\n",
    "from matplotlib import rc\n",
    "from matplotlib import pyplot as plt\n",
    "\n",
    "from db_utils import DatabaseConnection"
   ]
  },
  {
   "cell_type": "code",
   "execution_count": null,
   "metadata": {},
   "outputs": [],
   "source": [
    "with DatabaseConnection() as cur:\n",
    "    cur.execute(\"\"\"\n",
    "        select seg_id, max(accel), sum(duration), sum(dist)\n",
    "        from accels \n",
    "        where type='a' \n",
    "        group by seg_id, filename \n",
    "        having max(accel)<2 and sum(dist)<350 and sum(dist)>20 and min(velo)=0\n",
    "    \"\"\")\n",
    "    res = cur.fetchall()\n",
    "df = pd.DataFrame(res, columns=['seg_id', 'max_a', 'duration', 'distance'])"
   ]
  },
  {
   "cell_type": "code",
   "execution_count": null,
   "metadata": {},
   "outputs": [],
   "source": [
    "# Normal distribution\n",
    "\n",
    "SUMO_DEFAULT_VALUE = 1.2\n",
    "\n",
    "plt.figure(figsize=(8,8))\n",
    "rc('font', **{'family': 'serif', 'serif': ['Computer Modern'], 'size': 16})\n",
    "rc('text', usetex=True)\n",
    "plt.xlabel(r'$a_{max}$ in m/s²')\n",
    "plt.ylabel('Relative frequency')\n",
    "\n",
    "plt.hist(df.max_a, bins=100, density=True, alpha=0.5, label=r'$a_{max}^{SimRa}$')\n",
    "\n",
    "plt.vlines(SUMO_DEFAULT_VALUE, 0, 4, colors='green', linewidth=3, label=r'$a_{max}^{SUMO}$')\n",
    "\n",
    "mean, std = scipy.stats.norm.fit(df.max_a)\n",
    "x = np.linspace(0, 3, 1000)\n",
    "y = scipy.stats.norm.pdf(x, mean, std)\n",
    "plt.plot(x, y, color='orange', linewidth=3, label=\"$\\mathcal{N}$\" + f\"$({mean:.2f}, {std:.2f})$\", alpha=0.5, zorder=2)\n",
    "plt.fill_between(x, y, [0] * len(x), color='orange', alpha=0.5, zorder=2)\n",
    "\n",
    "\n",
    "plt.xlim(0, 2.2)\n",
    "plt.ylim(0, 1.8)\n",
    "\n",
    "plt.title(\"Maximum Acceleration\")\n",
    "plt.legend()\n",
    "plt.savefig(\"max_accel_analysis.png\", dpi=300, bbox_inches='tight')\n",
    "\n",
    "print(f\"Mean: {mean}, Std: {std}\")\n",
    "print(f\"Median: {df.max_a.median()}\")\n",
    "\n",
    "print(f\"Lower cutoff (0.05 percentile): {scipy.stats.norm.ppf(0.05, mean, std)}\")\n",
    "print(f\"Upper cutoff (0.95 percentile): {scipy.stats.norm.ppf(0.95, mean, std)}\")\n",
    "\n",
    "print(f\"CDF at SUMO default value: {scipy.stats.norm(mean, std).cdf(SUMO_DEFAULT_VALUE)}\")"
   ]
  },
  {
   "cell_type": "code",
   "execution_count": null,
   "metadata": {},
   "outputs": [],
   "source": [
    "# plot representative Acc maneuvers\n",
    "\n",
    "from scipy.interpolate import make_interp_spline, BSpline\n",
    "\n",
    "def plot_accels(x, one_plot):\n",
    "    \n",
    "    x['cum_duration'] = x.duration.cumsum()\n",
    "\n",
    "    x = x[~x.a.isnull()]\n",
    "\n",
    "    xnew = np.linspace(x.cum_duration.min(), x.cum_duration.max(), 1000) \n",
    "    try:\n",
    "        spl_a = make_interp_spline(x.cum_duration, x.a)\n",
    "        smooth_a = spl_a(xnew)\n",
    "    except: \n",
    "        return\n",
    "    \n",
    "    plt.figure(figsize=(7,7))\n",
    "\n",
    "    plt.plot(xnew, smooth_a, label='Acceleration profile')\n",
    "    plt.scatter(x.cum_duration, x.a)\n",
    "\n",
    "    plt.xlabel('Duration in seconds')\n",
    "    plt.ylabel('Acceleration in m/s²')\n",
    "    plt.title(f\"{list(x.filename)[0]} {list(x.seg_id)[0]}\")\n",
    "    plt.legend()\n",
    "\n",
    "    #plt.plot(xnew, smooth_v)\n",
    "    #plt.scatter(x.cum_duration, x.velo)\n",
    "    # plt.savefig('images/acc_processes/%i.png'%x.seg_id.values[0],dpi=300, bbox_inches='tight')\n",
    "    plt.show()\n",
    "    \n",
    "\n",
    "with DatabaseConnection() as cur:\n",
    "    cur.execute(\"\"\"select filename, seg_id, accel, duration, velo from accels where type = 'a' Limit 50\"\"\")\n",
    "    res = cur.fetchall()\n",
    "    df = pd.DataFrame(res, columns=['filename', 'seg_id','a', 'duration', 'velo'])\n",
    "    display(df)\n",
    "    df.groupby(['seg_id', 'filename'], as_index=False).apply(lambda x: plot_accels(x, False))"
   ]
  }
 ],
 "metadata": {
  "kernelspec": {
   "display_name": "Python 3.8.10 64-bit",
   "language": "python",
   "name": "python3"
  },
  "language_info": {
   "codemirror_mode": {
    "name": "ipython",
    "version": 3
   },
   "file_extension": ".py",
   "mimetype": "text/x-python",
   "name": "python",
   "nbconvert_exporter": "python",
   "pygments_lexer": "ipython3"
  },
  "vscode": {
   "interpreter": {
    "hash": "916dbcbb3f70747c44a77c7bcd40155683ae19c65e1c03b4aa3499c5328201f1"
   }
  }
 },
 "nbformat": 4,
 "nbformat_minor": 4
}
