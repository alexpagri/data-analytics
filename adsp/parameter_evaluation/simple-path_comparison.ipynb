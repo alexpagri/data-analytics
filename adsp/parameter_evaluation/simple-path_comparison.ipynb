{
 "cells": [
  {
   "cell_type": "code",
   "execution_count": null,
   "metadata": {},
   "outputs": [],
   "source": [
    "import contextily as cx\n",
    "from comparison_utils import get_ride_data, analyze_and_plot_ride_data"
   ]
  },
  {
   "cell_type": "code",
   "execution_count": null,
   "metadata": {},
   "outputs": [],
   "source": [
    "SUMO_SIM_DATA_FOLDER = \"./sim_data\""
   ]
  },
  {
   "cell_type": "code",
   "execution_count": null,
   "metadata": {},
   "outputs": [],
   "source": [
    "comparison_data = [\n",
    "    {\n",
    "        \"scenario_name\": \"Frankfurter Allee (Alfredstr. to Ruschestr.)\",\n",
    "        \"sumo_sim_files\": [\"B1_new_params_all.csv\", \"B1_new_params_slow.csv\", \"B1_new_params_medium.csv\", \"B1_new_params_fast.csv\", \"B1_default.csv\"],\n",
    "        # \"sumo_sim_files\": [\"B1_new_params.csv\", \"B1_default.csv\"],\n",
    "        \"start_rect_coords\": (13.489109,52.512004,13.48953,52.512492),\n",
    "        \"end_rect_coords\": (13.484732,52.512494,13.485153,52.512982)\n",
    "    },\n",
    "    {\n",
    "        \"scenario_name\": \"Frankfurter Allee (Rathausstr. to Möllendorfstr.)\",\n",
    "        \"sumo_sim_files\": [\"B1_new_params.csv\", \"B1_default.csv\"],\n",
    "        \"start_rect_coords\": (13.481105,52.513004,13.481526,52.513374),\n",
    "        \"end_rect_coords\": (13.477682,52.513305,13.478103,52.513675)\n",
    "    },\n",
    "    {\n",
    "        \"scenario_name\": \"Einsteinufer (Marchbrücke to Charlotenburger Brücke)\",\n",
    "        \"sumo_sim_files\": [\"CHB_new_params.csv\", \"CHB_default.csv\"],\n",
    "        \"start_rect_coords\": (13.324764,52.516524,13.32511,52.517017),\n",
    "        \"end_rect_coords\": (13.329785,52.513501,13.330475,52.513615)\n",
    "    },\n",
    "    {\n",
    "        \"scenario_name\": \"Einsteinufer (Charlotenburger Brücke to Hardenbergstr.)\",\n",
    "        \"sumo_sim_files\": [\"CHB_new_params.csv\", \"CHB_default.csv\"],\n",
    "        \"start_rect_coords\": (13.330096,52.51275,13.330786,52.512864),\n",
    "        \"end_rect_coords\": (13.328176,52.508454,13.328866,52.508568)\n",
    "    },\n",
    "    {\n",
    "        \"scenario_name\": \"Prinzenstr (Annenstr. to Moritzplatz)\",\n",
    "        \"sumo_sim_files\": [\"prinzenstr_new_params.csv\", \"prinzenstr_default.csv\"],\n",
    "        \"start_rect_coords\": (13.413598,52.507573,13.414164,52.507822),\n",
    "        \"end_rect_coords\": (13.410895,52.504089,13.411461,52.504338)\n",
    "    },\n",
    "    {\n",
    "        \"scenario_name\": \"Prinzenstr (Dresdener Str. to Sebastianstr.)\",\n",
    "        \"sumo_sim_files\": [\"prinzenstr_new_params.csv\", \"prinzenstr_default.csv\"],\n",
    "        \"start_rect_coords\": (13.412877,52.506571,13.413298,52.506765),\n",
    "        \"end_rect_coords\": (13.411595,52.504951,13.412016,52.505145)\n",
    "    },\n",
    "    {\n",
    "        \"scenario_name\": \"Oranienstr (Mariannenstr. to Adalbertstr.)\",\n",
    "        \"sumo_sim_files\": [\"oranienstr_new_params.csv\", \"oranienstr_default.csv\"],\n",
    "        \"start_rect_coords\": (13.422222,52.500212,13.422505,52.500645),\n",
    "        \"end_rect_coords\": (13.419491,52.500976,13.419774,52.501409)\n",
    "    },\n",
    "    {\n",
    "        \"scenario_name\": \"Oranienstr (Adalbertstr. to Oranienplatz)\",\n",
    "        \"sumo_sim_files\": [\"oranienstr_new_params.csv\", \"oranienstr_default.csv\"],\n",
    "        \"start_rect_coords\": (13.418756,52.501182,13.419039,52.501615),\n",
    "        \"end_rect_coords\": (13.416766,52.501724,13.417049,52.502157)\n",
    "    },\n",
    "    {\n",
    "        \"scenario_name\": \"Waldstr. (Turmstr. to Siemensstr.)\",\n",
    "        \"sumo_sim_files\": [\"moabit_new_params.csv\", \"moabit_default.csv\"],\n",
    "        \"start_rect_coords\": (13.329907,52.527466,13.331534,52.527762),\n",
    "        \"end_rect_coords\": (13.331344,52.532257,13.332392,52.532553)\n",
    "    }\n",
    "]"
   ]
  },
  {
   "cell_type": "code",
   "execution_count": null,
   "metadata": {},
   "outputs": [],
   "source": [
    "duration_divergences = {}\n",
    "scenario_data = {}\n",
    "\n",
    "for comp_idx, comp_data in enumerate(comparison_data[0:2]):\n",
    "    scenario_name = comp_data['scenario_name']\n",
    "    ride_data = get_ride_data(SUMO_SIM_DATA_FOLDER, **comp_data)\n",
    "    \n",
    "    parent_scenario_name = comp_data['sumo_sim_files'][0].split('_')[0]\n",
    "    n_rides_simra = len(ride_data['SimRa'].groupby('ride_id').groups)\n",
    "    avg_duration_simra = ride_data['SimRa'].duration.mean().total_seconds()\n",
    "    scenario_data[comp_idx] = {\n",
    "        'Scenario Name': scenario_name,\n",
    "        # 'Parent Scenario': parent_scenario_name, \n",
    "        'Number of SimRa Rides': n_rides_simra, \n",
    "        # 'Avg. SimRa Ride Duration (in s)': round(avg_duration_simra, 2)\n",
    "    }\n",
    "\n",
    "    duration_divergences[comp_idx] = analyze_and_plot_ride_data(ride_data, str(comp_idx + 1) + \": \" + scenario_name)"
   ]
  },
  {
   "cell_type": "code",
   "execution_count": null,
   "metadata": {},
   "outputs": [],
   "source": [
    "duration_divergences"
   ]
  },
  {
   "cell_type": "code",
   "execution_count": null,
   "metadata": {},
   "outputs": [],
   "source": [
    "divergences_default = []\n",
    "divergences_new_params = []\n",
    "\n",
    "for scenario_name, scenario_divergences in duration_divergences.items():\n",
    "    for data_name, divergence in scenario_divergences.items():\n",
    "        if data_name.endswith('_default'):\n",
    "            divergences_default.append(divergence)\n",
    "        elif data_name.endswith('_new-params'):\n",
    "            divergences_new_params.append(divergence)\n",
    "\n",
    "print(divergences_default)\n",
    "print(divergences_new_params)\n"
   ]
  },
  {
   "cell_type": "code",
   "execution_count": null,
   "metadata": {},
   "outputs": [],
   "source": [
    "import matplotlib.pyplot as plt\n",
    "from brokenaxes import brokenaxes\n",
    "\n",
    "x_values = [idx + 1 for idx in duration_divergences.keys()]\n",
    "\n",
    "fig = plt.figure(figsize=(14, 6))\n",
    "bax = brokenaxes(ylims=((0, .1), (.4, .9)), hspace=.2)\n",
    "bax.scatter(x_values, divergences_default, label=\"SUMO default parameters\", color='green', s=80)\n",
    "bax.scatter(x_values, divergences_new_params, label=\"SimRa-based re-parameterization\", color='orange', s=80)\n",
    "\n",
    "bax.legend(loc=3, frameon=True)\n",
    "bax.set_xlabel('Scenario number')\n",
    "bax.set_ylabel('JS divergence from SimRa data')\n",
    "bax.set_title(\"Jensen–Shannon divergence beteween empirical distributions of ride durations for selected scenarios\")\n",
    "\n",
    "# plt.savefig(\"duration_js_divergence.png\", bbox_inches=\"tight\")\n",
    "plt.show()"
   ]
  },
  {
   "cell_type": "code",
   "execution_count": null,
   "metadata": {},
   "outputs": [],
   "source": [
    "fig = plt.figure(figsize=(14, 6))\n",
    "\n",
    "plt.bar(x_values, divergences_default, label=\"SUMO default parameters\", color='green', align='edge', width=0.2)\n",
    "plt.bar(x_values, divergences_new_params, label=\"SUMO re-parameterization\", color='orange', align='edge', width=-0.2)\n",
    "\n",
    "plt.xticks(x_values)\n",
    "plt.legend(loc=3, frameon=True)\n",
    "plt.xlabel('Scenario number')\n",
    "plt.ylabel('JS divergence')\n",
    "plt.title(\"Jensen–Shannon (JS) divergence\\n of simulated ride durations from SimRa data\")\n",
    "# fig.suptitle(\"Jensen–Shannon (JS) divergence\")\n",
    "\n",
    "plt.savefig(\"./images/duration_js_divergence.png\", bbox_inches=\"tight\")\n",
    "plt.show()"
   ]
  },
  {
   "cell_type": "code",
   "execution_count": null,
   "metadata": {},
   "outputs": [],
   "source": [
    "import pandas as pd\n",
    "\n",
    "df_scenario_data = pd.DataFrame.from_dict(scenario_data).transpose()\n",
    "# df_scenario_data.drop('Parent Scenario', axis='columns', inplace=True)\n",
    "# df_scenario_data.drop('Avg. SimRa Ride Duration (in s)', axis='columns', inplace=True)\n",
    "# df_scenario_data['Scenario Name'] = df_scenario_data['Scenario Name'].apply(lambda s: '\\n('.join(s.split(' (')),)\n",
    "\n",
    "\n",
    "display(df_scenario_data)\n",
    "print(df_scenario_data.to_latex(escape=False))"
   ]
  }
 ],
 "metadata": {
  "kernelspec": {
   "display_name": "Python 3 (ipykernel)",
   "language": "python",
   "name": "python3"
  },
  "language_info": {
   "codemirror_mode": {
    "name": "ipython",
    "version": 3
   },
   "file_extension": ".py",
   "mimetype": "text/x-python",
   "name": "python",
   "nbconvert_exporter": "python",
   "pygments_lexer": "ipython3"
  },
  "vscode": {
   "interpreter": {
    "hash": "916dbcbb3f70747c44a77c7bcd40155683ae19c65e1c03b4aa3499c5328201f1"
   }
  }
 },
 "nbformat": 4,
 "nbformat_minor": 2
}
