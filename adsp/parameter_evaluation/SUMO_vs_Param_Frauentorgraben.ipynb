{
 "cells": [
  {
   "cell_type": "code",
   "execution_count": 29,
   "metadata": {},
   "outputs": [],
   "source": [
    "import pandas as pd\n",
    "import matplotlib\n",
    "import matplotlib.pyplot as plt\n",
    "import numpy as np\n",
    "from scipy.stats import ks_2samp\n",
    "import psycopg2\n",
    "import sys\n",
    "sys.path.extend(['..', '../..'])\n",
    "from postgis.psycopg import register\n",
    "from shapely.geometry import Point\n",
    "from shapely.geometry.polygon import Polygon\n",
    "from shapely.geometry import box\n",
    "from db_importer.settings import *\n",
    "from adsp.db_utils import build_and_execute_query, getUncutRideLocationStatisticsAccel, getUncutRideLocationWGrouping, getRideLocation\n",
    "\n",
    "class DatabaseConnection(object):\n",
    "    def __enter__(self):\n",
    "        self.conn = psycopg2.connect(f\"dbname='{DB_NAME}' user='{DB_USER}' password='{DB_PASSWORD}' host='{DB_HOST}' port='{DB_PORT}'\")\n",
    "        self.conn.autocommit = True\n",
    "\n",
    "        register(self.conn)\n",
    "        self.cur = self.conn.cursor()\n",
    "\n",
    "        return self.cur\n",
    "\n",
    "    def __exit__(self, exc_type, exc_val, exc_tb):\n",
    "        if exc_tb is None:\n",
    "            self.conn.commit()\n",
    "            self.cur.close()\n",
    "            self.conn.close()\n",
    "        else:\n",
    "            self.conn.rollback()\n",
    "            self.cur.close()\n",
    "            self.conn.close()"
   ]
  },
  {
   "cell_type": "code",
   "execution_count": 2,
   "metadata": {},
   "outputs": [
    {
     "name": "stdout",
     "output_type": "stream",
     "text": [
      "sim_data/frauentorgraben_new_params_all.csv\n",
      "sim_data/frauentorgraben_new_params_slow.csv\n",
      "sim_data/frauentorgraben_new_params_medium.csv\n",
      "sim_data/frauentorgraben_new_params_fast.csv\n",
      "sim_data/frauentorgraben_default.csv\n"
     ]
    }
   ],
   "source": [
    "#files= ['sim_data/b1_default.csv', 'sim_data/b1_default_ped.csv', 'sim_data/b1_new_params.csv', 'sim_data/b1_new_params_ped.csv']\n",
    "files = ['sim_data/frauentorgraben_new_params_all.csv', 'sim_data/frauentorgraben_new_params_slow.csv', 'sim_data/frauentorgraben_new_params_medium.csv', 'sim_data/frauentorgraben_new_params_fast.csv', 'sim_data/frauentorgraben_default.csv',]\n",
    "\n",
    "def calc_a_min_filtered(group):\n",
    "    a = (group['vehicle_speed'] - group.shift(1)['vehicle_speed']) / 1 #timestep_time is always 1\n",
    "    a = a[a > -1.64]\n",
    "    return a.min()\n",
    "\n",
    "def calc_a_min(group):\n",
    "    a = (group['vehicle_speed'] - group.shift(1)['vehicle_speed']) / 1 #timestep_time is always 1\n",
    "    return a.min()\n",
    "\n",
    "def calc_a_max(group):\n",
    "    a = (group['vehicle_speed'] - group.shift(1)['vehicle_speed']) / 1 #timestep_time is always 1\n",
    "    return a.max()\n",
    "\n",
    "max_accs_arr = []\n",
    "max_decs_arr = []\n",
    "max_velos_arr = []\n",
    "\n",
    "sumo_dfs = []\n",
    "\n",
    "for file in files:\n",
    "    df = pd.read_csv(file, delimiter=';')\n",
    "    # print(\"df:\\n{}\".format(df))\n",
    "    print(file)\n",
    "    # print(len(df))\n",
    "    df = df[df.vehicle_id.str.startswith('f_', na=False)]\n",
    "    # print(len(df))\n",
    "    sumo_dfs.append(df)\n",
    "    grouped = df.groupby('vehicle_id', group_keys=False)\n",
    "    # print(grouped)\n",
    "    max_accs_arr.append(grouped.apply(calc_a_max).values)\n",
    "    if \"default\" in file:\n",
    "        max_decs_arr.append(grouped.apply(calc_a_min).values)\n",
    "    else:\n",
    "        max_decs_arr.append(grouped.apply(calc_a_min_filtered).values)\n",
    "\n",
    "    max_velos = []\n",
    "    \n",
    "    for key, item in grouped:\n",
    "        max_velos.append(grouped.get_group(key)['vehicle_speed'].max())\n",
    "        \n",
    "    max_velos_arr.append(max_velos)"
   ]
  },
  {
   "cell_type": "code",
   "execution_count": 3,
   "metadata": {},
   "outputs": [],
   "source": [
    "coords_start = (11.079457580593482,49.44649236041058,11.080019894093809,49.446769576148)\n",
    "coords_end = (11.06712002269169,49.44740684578576,11.068310105562006,49.44763829209129)"
   ]
  },
  {
   "cell_type": "code",
   "execution_count": 4,
   "metadata": {},
   "outputs": [],
   "source": [
    "##frauentorgraben\n",
    "# with DatabaseConnection() as cur:\n",
    "#     group_q = lambda perc: f\"\"\"SELECT percentile_cont({perc}) WITHIN GROUP (ORDER BY one.avg_v) FROM (SELECT AVG(velo) as avg_v FROM accels WHERE velo > 0.2 AND velo != 'NaN' AND velo < 15 GROUP BY filename) as one\"\"\"\n",
    "#     cur.execute(f\"\"\"\n",
    "#             SELECT two.filename, two.avg_v, two.max_v, one.accel, one.decel, CASE WHEN two.avg_v < ({group_q(0.25)}) THEN 0 ELSE CASE WHEN two.avg_v < ({group_q(0.75)}) THEN 1 ELSE 2 END END as group FROM (\n",
    "#                 SELECT filename, MAX(accel) as accel, MIN(accel) as decel FROM accels GROUP BY filename\n",
    "#             ) as one JOIN (\n",
    "#                 SELECT filename, SUM(velo * duration)/SUM(duration) as avg_v, MAX(velo) as max_v FROM accels WHERE velo > 0.2 AND velo != 'NaN' and velo < 15 GROUP BY filename\n",
    "#             ) as two ON (one.filename = two.filename) JOIN ride as r ON (one.filename = r.filename)\n",
    "#             WHERE st_intersects(r.geom,\n",
    "#                     st_setsrid( st_makebox2d( st_makepoint(11.079800456,49.446282173), st_makepoint(11.0811070204,49.446850658)), 4326))\n",
    "#                 AND st_intersects(r.geom,\n",
    "#                     st_setsrid( st_makebox2d( st_makepoint(11.067365735,49.4470913205), st_makepoint(11.0686722994,49.4476597962)), 4326))\"\"\")\n",
    "#     res = cur.fetchall()\n",
    "#res = getRideLocationStatisticsAccel(coords_start, coords_end)\n",
    "res = getUncutRideLocationStatisticsAccel(coords_start, coords_end)\n",
    "df = pd.DataFrame(res, columns=['filename', 'avg_v', 'max_v', 'max_accel', 'max_decel', 'bike', 'group'])"
   ]
  },
  {
   "cell_type": "code",
   "execution_count": 5,
   "metadata": {},
   "outputs": [
    {
     "name": "stdout",
     "output_type": "stream",
     "text": [
      "<class 'pandas.core.frame.DataFrame'>\n",
      "Int64Index: 43 entries, 0 to 55\n",
      "Data columns (total 1 columns):\n",
      " #   Column     Non-Null Count  Dtype  \n",
      "---  ------     --------------  -----  \n",
      " 0   max_accel  43 non-null     float64\n",
      "dtypes: float64(1)\n",
      "memory usage: 688.0 bytes\n",
      "None\n",
      "<class 'pandas.core.frame.DataFrame'>\n",
      "Int64Index: 11 entries, 12 to 56\n",
      "Data columns (total 1 columns):\n",
      " #   Column     Non-Null Count  Dtype  \n",
      "---  ------     --------------  -----  \n",
      " 0   max_accel  11 non-null     float64\n",
      "dtypes: float64(1)\n",
      "memory usage: 176.0 bytes\n",
      "None\n",
      "<class 'pandas.core.frame.DataFrame'>\n",
      "Int64Index: 2 entries, 6 to 53\n",
      "Data columns (total 1 columns):\n",
      " #   Column     Non-Null Count  Dtype  \n",
      "---  ------     --------------  -----  \n",
      " 0   max_accel  2 non-null      float64\n",
      "dtypes: float64(1)\n",
      "memory usage: 32.0 bytes\n",
      "None\n"
     ]
    }
   ],
   "source": [
    "a_simra = df.query('max_accel >= 0.3')[['max_accel']]\n",
    "a_simra_slow = df.query('group == 0 and max_accel >= 0.3')[['max_accel']]\n",
    "a_simra_medium = df.query('group == 1 and max_accel >= 0.3')[['max_accel']]\n",
    "a_simra_fast = df.query('group == 2 and max_accel >= 0.3')[['max_accel']]\n",
    "print(a_simra_slow.info())\n",
    "print(a_simra_medium.info())\n",
    "print(a_simra_fast.info())\n"
   ]
  },
  {
   "cell_type": "code",
   "execution_count": 6,
   "metadata": {},
   "outputs": [],
   "source": [
    "v = df[['max_v']]\n",
    "v_slow = df.query('group == 0')[['max_v']]\n",
    "v_medium = df.query('group == 1')[['max_v']]\n",
    "v_fast = df.query('group == 2')[['max_v']]"
   ]
  },
  {
   "cell_type": "code",
   "execution_count": 7,
   "metadata": {},
   "outputs": [],
   "source": [
    "d_simra = df.query('max_decel < -0.1')[['max_decel']]\n",
    "d_simra_slow = df.query('group == 0 and max_decel < -0.1')[['max_decel']]\n",
    "d_simra_medium = df.query('group == 1 and max_decel < -0.1')[['max_decel']]\n",
    "d_simra_fast = df.query('group == 2 and max_decel < -0.1')[['max_decel']]"
   ]
  },
  {
   "cell_type": "code",
   "execution_count": 8,
   "metadata": {},
   "outputs": [],
   "source": [
    "#res = build_and_execute_query((11.079800456,49.446282173,11.0811070204,49.446850658), (11.067365735,49.4470913205,11.0686722994,49.4476597962))\n",
    "#df = pd.DataFrame(res, columns=['filename', 'coords', 'velo', 'dur', 'dist', 'timestamp', 'min_ts', 'max_ts', 'time_diff', 'avg_v', 'group'])\n",
    "\n",
    "def getNumberOfStops(df, name):\n",
    "    df = df[~(df.velo.isnull())]\n",
    "    all_stops = 0\n",
    "    df_groups = df.groupby(df.filename)\n",
    "    for key in df_groups:\n",
    "        ride = df_groups.get_group(key[0])\n",
    "        velo = ride[['velo']]\n",
    "        velo_compare = pd.concat([velo.shift(1), velo], axis=1).iloc[1:]\n",
    "        all_stops += len(velo_compare[(velo_compare.iloc[:, 0] != 0) & (velo_compare.iloc[:, 1] == 0)])\n",
    "\n",
    "    print(f\"{name} avg stops: {all_stops / len(df_groups)}\")"
   ]
  },
  {
   "cell_type": "code",
   "execution_count": 33,
   "metadata": {},
   "outputs": [],
   "source": [
    "res = getUncutRideLocationWGrouping(coords_start, coords_end)\n",
    "df = pd.DataFrame(res, columns=['filename', 'dur', 'timestamp', 'velo', 'coords', 'bike', 'group'])"
   ]
  },
  {
   "cell_type": "code",
   "execution_count": 34,
   "metadata": {},
   "outputs": [
    {
     "name": "stdout",
     "output_type": "stream",
     "text": [
      "SimRa All avg stops: 0.8947368421052632\n",
      "SimRa F avg stops: 0.5\n",
      "SimRa M avg stops: 1.1818181818181819\n",
      "SimRa S avg stops: 0.8409090909090909\n",
      "SUMO Default avg stops: 1.34\n",
      "Our F avg stops: 1.31\n",
      "Our M avg stops: 1.32\n",
      "Our S avg stops: 1.32\n",
      "Our All avg stops: 1.37\n"
     ]
    }
   ],
   "source": [
    "getNumberOfStops(df, \"SimRa All\")\n",
    "getNumberOfStops(df[df.group == 2], \"SimRa F\")\n",
    "getNumberOfStops(df[df.group == 1], \"SimRa M\")\n",
    "getNumberOfStops(df[df.group == 0], \"SimRa S\")\n",
    "getNumberOfStops(sumo_dfs[4].rename(columns={\"vehicle_speed\": \"velo\", \"vehicle_id\": \"filename\"}), \"SUMO Default\")\n",
    "getNumberOfStops(sumo_dfs[3].rename(columns={\"vehicle_speed\": \"velo\", \"vehicle_id\": \"filename\"}), \"Our F\")\n",
    "getNumberOfStops(sumo_dfs[2].rename(columns={\"vehicle_speed\": \"velo\", \"vehicle_id\": \"filename\"}), \"Our M\")\n",
    "getNumberOfStops(sumo_dfs[1].rename(columns={\"vehicle_speed\": \"velo\", \"vehicle_id\": \"filename\"}), \"Our S\")\n",
    "getNumberOfStops(sumo_dfs[0].rename(columns={\"vehicle_speed\": \"velo\", \"vehicle_id\": \"filename\"}), \"Our All\")"
   ]
  },
  {
   "cell_type": "code",
   "execution_count": 11,
   "metadata": {},
   "outputs": [],
   "source": [
    "# plotting config\n",
    "columnwidth = 3.5\n",
    "textwidth = 3.5 * 2 + 0.25\n",
    "figsize = (columnwidth * 0.97, 1.75)\n",
    "# figsize = (columnwidth * 1.94, 1.75)\n",
    "params = {\n",
    "     \"pdf.fonttype\": 42,\n",
    "     \"font.family\": \"serif\",\n",
    "     \"font.serif\": \"Linux Libertine\",\n",
    "     \"font.sans-serif\": [],\n",
    "     \"font.monospace\": [],\n",
    "     # Make the legend/label fonts a little smaller\n",
    "     \"font.size\": 8,\n",
    "     \"axes.labelsize\": 8,\n",
    "     \"axes.titlesize\": 8,\n",
    "     \"legend.fontsize\": 6,\n",
    "     \"legend.title_fontsize\": 8,\n",
    "     \"xtick.labelsize\": 7,\n",
    "     \"ytick.labelsize\": 7,\n",
    "     \"figure.figsize\": figsize,\n",
    "     \"figure.autolayout\": True,\n",
    "     # save some space around figures when saving\n",
    "     \"savefig.bbox\": \"tight\",\n",
    "     \"savefig.pad_inches\": 0.025,\n",
    "}\n",
    "pdf_params = {\n",
    "     \"text.usetex\": True,\n",
    "     \"pgf.texsystem\": \"pdflatex\",\n",
    "     \"pgf.rcfonts\": False,\n",
    "     \"pgf.preamble\": \"\\n\".join(\n",
    "         [\n",
    "             # put LaTeX preamble declarations here\n",
    "             r\"\\usepackage[utf8x]{inputenc}\",\n",
    "             r\"\\usepackage[T1]{fontenc}\",\n",
    "         ]\n",
    "     ),\n",
    "}\n",
    "# for PFG plotting:\n",
    "params.update(**pdf_params)\n",
    "plt.rcParams.update(params)"
   ]
  },
  {
   "cell_type": "code",
   "execution_count": 12,
   "metadata": {},
   "outputs": [],
   "source": [
    "def calc_stats(default, our, simra, group, type):\n",
    "    #mean, std, median - amax (fast)\n",
    "\n",
    "    print(f\"(SUMO Default) {type} - mean: \" + str(np.mean(default)))\n",
    "    print(f\"(SUMO Default) {type} - std: \" + str(np.std(default)))\n",
    "    print(f\"(SUMO Default) {type} - median: \" + str(np.median(default)))\n",
    "\n",
    "    print(f\"(Our approach - {group}) {type} - mean: \" + str(np.mean(our)))\n",
    "    print(f\"(Our approach - {group}) {type} - std: \" + str(np.std(our)))\n",
    "    print(f\"(Our approach - {group}) {type} - median: \" + str(np.median(our)))\n",
    "\n",
    "    print(f\"(SimRa - {group}) {type} - mean: \" + str(np.mean(simra)))\n",
    "    print(f\"(SimRa - {group}) {type} - std: \" + str(np.std(simra)))\n",
    "    print(f\"(SimRa - {group}) {type} - median: \" + str(np.median(simra)))"
   ]
  },
  {
   "cell_type": "code",
   "execution_count": 13,
   "metadata": {},
   "outputs": [
    {
     "name": "stdout",
     "output_type": "stream",
     "text": [
      "24.42\n",
      "22.631894736842106\n"
     ]
    }
   ],
   "source": [
    "def stopped_time_statistic(i):\n",
    "    all_df = sumo_dfs[i]\n",
    "    print(len(all_df[all_df.vehicle_speed <= 0.5]) / 100) # sumo records rides status each 1 second, we count how many 0 speeds we find, then divide by how many rides we have to get an avg. 0.5 is a similar threshold value for SimRa for stopped rides\n",
    "\n",
    "    print(df['dur'][df.velo == 0].sum() / len(df.groupby('filename'))) # take durations where speed is 0 -> total time spent on waiting, get an average\n",
    "\n",
    "stopped_time_statistic(0)\n"
   ]
  },
  {
   "cell_type": "code",
   "execution_count": 14,
   "metadata": {},
   "outputs": [
    {
     "data": {
      "image/png": "[encoded data removed]",
      "text/plain": [
       "<Figure size 339.5x175 with 1 Axes>"
      ]
     },
     "metadata": {},
     "output_type": "display_data"
    }
   ],
   "source": [
    "# a_max - all\n",
    "# plt.subplots(figsize = (10, 5))\n",
    "bins = np.linspace(0.5,1.3,40)\n",
    "plt.hist(max_accs_arr[4], bins=bins, label='SUMO default', color = 'red', density=True)\n",
    "plt.hist(max_accs_arr[0], bins=bins, label='Our approach (All)', color = 'black', density=True, alpha=0.7)\n",
    "plt.hist(a_simra.values.flatten(), bins=bins, label='SimRa (All)', color = 'black', density=True, alpha=0.3)\n",
    "plt.ylim(0,10)\n",
    "plt.xlim(0.5,1.265)\n",
    "plt.ylabel('Rel. frequency')\n",
    "plt.legend()\n",
    "plt.xlabel(r'$a_{max}$ in m/s²')\n",
    "# plt.savefig('images/sim_frauentorgraben_acc_all.pdf', bbox_inches='tight')\n",
    "plt.show()\n"
   ]
  },
  {
   "cell_type": "code",
   "execution_count": 15,
   "metadata": {},
   "outputs": [
    {
     "data": {
      "image/png": "[encoded data removed]",
      "text/plain": [
       "<Figure size 339.5x175 with 1 Axes>"
      ]
     },
     "metadata": {},
     "output_type": "display_data"
    }
   ],
   "source": [
    "# a_max - everything\n",
    "# plt.subplots(figsize = (10, 5))\n",
    "red = matplotlib.colors.to_rgba('red', alpha=1)\n",
    "grey = matplotlib.colors.to_rgba('grey', alpha=0.7)\n",
    "lightgrey = matplotlib.colors.to_rgba('grey', alpha=0.3)\n",
    "blue = matplotlib.colors.to_rgba('blue', alpha=0.7)\n",
    "lightblue = matplotlib.colors.to_rgba('blue', alpha=0.3)\n",
    "green = matplotlib.colors.to_rgba('green', alpha=0.7)\n",
    "lightgreen = matplotlib.colors.to_rgba('green', alpha=0.3)\n",
    "orange = matplotlib.colors.to_rgba('darkorange', alpha=0.7)\n",
    "lightorange = matplotlib.colors.to_rgba('darkorange', alpha=0.3)\n",
    "colors = [red, grey, lightgrey, blue, lightblue, green, lightgreen, orange, lightorange]\n",
    "plt.hist([max_accs_arr[4], max_accs_arr[0], a_simra.values.flatten(), max_accs_arr[1], a_simra_slow.values.flatten(), max_accs_arr[2], a_simra_medium.values.flatten(), max_accs_arr[3], a_simra_fast.values.flatten()], bins = 15, label=['SUMO default', 'Our approach (All)', 'SimRa (All)', 'Our approach (Slow)', 'SimRa (Slow)', 'Our approach (Medium)', 'SimRa (Medium)' 'Our approach (Fast)', 'SimRa (Fast)'], color = colors, density=True)\n",
    "plt.legend()\n",
    "plt.ylim(0,10)\n",
    "# plt.xlim(0.5,1.265)\n",
    "plt.ylabel('Rel. frequency')\n",
    "plt.xlabel(r'$a_{max}$ in m/s²')\n",
    "plt.savefig('images/sim_frauentorgraben_acc_everything.pdf', bbox_inches='tight')\n",
    "plt.show()"
   ]
  },
  {
   "cell_type": "code",
   "execution_count": 16,
   "metadata": {},
   "outputs": [
    {
     "data": {
      "image/png": "[encoded data removed]",
      "text/plain": [
       "<Figure size 339.5x175 with 1 Axes>"
      ]
     },
     "metadata": {},
     "output_type": "display_data"
    },
    {
     "name": "stdout",
     "output_type": "stream",
     "text": [
      "(SUMO Default) amax - mean: 1.0889\n",
      "(SUMO Default) amax - std: 0.14479568363732395\n",
      "(SUMO Default) amax - median: 1.1400000000000001\n",
      "(Our approach - all) amax - mean: 0.7626000000000001\n",
      "(Our approach - all) amax - std: 0.177857358577035\n",
      "(Our approach - all) amax - median: 0.77\n",
      "(SimRa - all) amax - mean: 0.6448516381800398\n",
      "(SimRa - all) amax - std: 0.17713492461516145\n",
      "(SimRa - all) amax - median: 0.5868160616099253\n"
     ]
    }
   ],
   "source": [
    "# a_max - all\n",
    "# plt.subplots(figsize = (10, 5))\n",
    "red = matplotlib.colors.to_rgba('red', alpha=1)\n",
    "grey = matplotlib.colors.to_rgba('grey', alpha=0.7)\n",
    "lightgrey = matplotlib.colors.to_rgba('grey', alpha=0.3)\n",
    "colors = [red, grey, lightgrey]\n",
    "plt.hist([max_accs_arr[4], max_accs_arr[0], a_simra.values.flatten()], bins = 15, label=['SUMO default', 'Our approach (All)', 'SimRa (All)'], color = colors, density=True)\n",
    "plt.legend()\n",
    "plt.ylim(0,10)\n",
    "plt.xlim(0.5,1.265)\n",
    "plt.ylabel('Rel. frequency')\n",
    "plt.xlabel(r'$a_{max}$ in m/s²')\n",
    "plt.savefig('images/sim_frauentorgraben_acc_all.pdf', bbox_inches='tight')\n",
    "plt.show()\n",
    "calc_stats(max_accs_arr[4], max_accs_arr[0], a_simra.values.flatten(), \"all\", \"amax\")"
   ]
  },
  {
   "cell_type": "code",
   "execution_count": 17,
   "metadata": {},
   "outputs": [
    {
     "data": {
      "image/png": "[encoded data removed]",
      "text/plain": [
       "<Figure size 339.5x175 with 1 Axes>"
      ]
     },
     "metadata": {},
     "output_type": "display_data"
    },
    {
     "name": "stdout",
     "output_type": "stream",
     "text": [
      "(SUMO Default) amax - mean: 1.0889\n",
      "(SUMO Default) amax - std: 0.14479568363732395\n",
      "(SUMO Default) amax - median: 1.1400000000000001\n",
      "(Our approach - slow) amax - mean: 0.5726000000000001\n",
      "(Our approach - slow) amax - std: 0.14263674140977842\n",
      "(Our approach - slow) amax - median: 0.5800000000000001\n",
      "(SimRa - slow) amax - mean: 0.5686968363890799\n",
      "(SimRa - slow) amax - std: 0.09009290898705347\n",
      "(SimRa - slow) amax - median: 0.5623059088149801\n"
     ]
    }
   ],
   "source": [
    "# a_max - slow\n",
    "# plt.subplots(figsize = (10, 5))\n",
    "red = matplotlib.colors.to_rgba('red', alpha=1)\n",
    "blue = matplotlib.colors.to_rgba('blue', alpha=0.7)\n",
    "lightblue = matplotlib.colors.to_rgba('blue', alpha=0.3)\n",
    "colors = [red, blue, lightblue]\n",
    "plt.hist([max_accs_arr[4], max_accs_arr[1], a_simra_slow.values.flatten()], bins = 15, label=['SUMO default', r'Our approach ($s$)', r'SimRa ($s$)'], color = colors, density=True)\n",
    "plt.legend()\n",
    "plt.ylim(0,10)\n",
    "plt.xlim(0.5,1.265)\n",
    "plt.ylabel('Rel. frequency')\n",
    "plt.xlabel(r'$a_{max}$ in m/s²')\n",
    "plt.savefig('images/sim_frauentorgraben_acc_slow.pdf', bbox_inches='tight')\n",
    "plt.show()\n",
    "#take 1625 cars, 300 bikes, 1023m (SUMO)\n",
    "calc_stats(max_accs_arr[4], max_accs_arr[1], a_simra_slow.values.flatten(), \"slow\", \"amax\")\n"
   ]
  },
  {
   "cell_type": "code",
   "execution_count": 18,
   "metadata": {},
   "outputs": [
    {
     "data": {
      "image/png": "[encoded data removed]",
      "text/plain": [
       "<Figure size 339.5x175 with 1 Axes>"
      ]
     },
     "metadata": {},
     "output_type": "display_data"
    },
    {
     "name": "stdout",
     "output_type": "stream",
     "text": [
      "(SUMO Default) amax - mean: 1.0889\n",
      "(SUMO Default) amax - std: 0.14479568363732395\n",
      "(SUMO Default) amax - median: 1.1400000000000001\n",
      "(Our approach - medium) amax - mean: 0.7595999999999999\n",
      "(Our approach - medium) amax - std: 0.14401333271610653\n",
      "(Our approach - medium) amax - median: 0.78\n",
      "(SimRa - medium) amax - mean: 0.869175282684727\n",
      "(SimRa - medium) amax - std: 0.1458300767042397\n",
      "(SimRa - medium) amax - median: 0.8970571991596867\n"
     ]
    }
   ],
   "source": [
    "# a_max - medium\n",
    "# plt.subplots(figsize = (10, 5))\n",
    "red = matplotlib.colors.to_rgba('red', alpha=1)\n",
    "green = matplotlib.colors.to_rgba('green', alpha=0.7)\n",
    "lightgreen = matplotlib.colors.to_rgba('green', alpha=0.3)\n",
    "colors = [red, green, lightgreen]\n",
    "plt.hist([max_accs_arr[4], max_accs_arr[2], a_simra_medium.values.flatten()], bins = 15, label=['SUMO default', 'Our approach (Medium)', 'SimRa (Medium)'], color = colors, density=True)\n",
    "plt.legend()\n",
    "plt.ylim(0,10)\n",
    "plt.xlim(0.5,1.265)\n",
    "plt.ylabel('Rel. frequency')\n",
    "plt.xlabel(r'$a_{max}$ in m/s²')\n",
    "plt.savefig('images/sim_frauentorgraben_acc_medium.pdf', bbox_inches='tight')\n",
    "plt.show()\n",
    "calc_stats(max_accs_arr[4], max_accs_arr[2], a_simra_medium.values.flatten(), \"medium\", \"amax\")"
   ]
  },
  {
   "cell_type": "code",
   "execution_count": 19,
   "metadata": {},
   "outputs": [
    {
     "data": {
      "image/png": "[encoded data removed]",
      "text/plain": [
       "<Figure size 339.5x175 with 1 Axes>"
      ]
     },
     "metadata": {},
     "output_type": "display_data"
    },
    {
     "name": "stdout",
     "output_type": "stream",
     "text": [
      "(SUMO Default) amax - mean: 1.0889\n",
      "(SUMO Default) amax - std: 0.14479568363732395\n",
      "(SUMO Default) amax - median: 1.1400000000000001\n",
      "(Our approach - fast) amax - mean: 0.9318999999999998\n",
      "(Our approach - fast) amax - std: 0.21427410016145218\n",
      "(Our approach - fast) amax - median: 0.9549999999999998\n",
      "(SimRa - fast) amax - mean: 1.0483998319098993\n",
      "(SimRa - fast) amax - std: 0.1508883324133508\n",
      "(SimRa - fast) amax - median: 1.0483998319098993\n"
     ]
    }
   ],
   "source": [
    "# a_max - fast\n",
    "# plt.subplots(figsize = (10, 5))\n",
    "red = matplotlib.colors.to_rgba('red', alpha=1)\n",
    "orange = matplotlib.colors.to_rgba('darkorange', alpha=0.7)\n",
    "lightorange = matplotlib.colors.to_rgba('darkorange', alpha=0.3)\n",
    "colors = [red, orange, lightorange]\n",
    "plt.hist([max_accs_arr[4], max_accs_arr[3], a_simra_fast.values.flatten()], bins = 15, label=['SUMO default', 'Our approach (Fast)', 'SimRa (Fast)'], color = colors, density=True)\n",
    "plt.legend()\n",
    "plt.ylim(0,10)\n",
    "plt.xlim(0.5,1.6)\n",
    "plt.ylabel('Rel. frequency')\n",
    "plt.xlabel(r'$a_{max}$ in m/s²')\n",
    "plt.savefig('images/sim_frauentorgraben_acc_fast.pdf', bbox_inches='tight')\n",
    "plt.show()\n",
    "calc_stats(max_accs_arr[4], max_accs_arr[3], a_simra_fast.values.flatten(), \"fast\", \"amax\")"
   ]
  },
  {
   "cell_type": "code",
   "execution_count": 20,
   "metadata": {},
   "outputs": [
    {
     "data": {
      "image/png": "[encoded data removed]",
      "text/plain": [
       "<Figure size 339.5x175 with 1 Axes>"
      ]
     },
     "metadata": {},
     "output_type": "display_data"
    },
    {
     "name": "stdout",
     "output_type": "stream",
     "text": [
      "(SUMO Default) velo - mean: 5.663999999999999\n",
      "(SUMO Default) velo - std: 0.5922212424423832\n",
      "(SUMO Default) velo - median: 5.630000000000001\n",
      "(Our approach - all) velo - mean: 6.323500000000001\n",
      "(Our approach - all) velo - std: 1.0510759963009335\n",
      "(Our approach - all) velo - median: 6.18\n",
      "(SimRa - all) velo - mean: 4.997265535777381\n",
      "(SimRa - all) velo - std: 1.2245942046244018\n",
      "(SimRa - all) velo - median: 4.487309922528382\n"
     ]
    }
   ],
   "source": [
    "# v_max - all\n",
    "# plt.subplots(figsize = (10, 5))\n",
    "red = matplotlib.colors.to_rgba('red', alpha=1)\n",
    "grey = matplotlib.colors.to_rgba('grey', alpha=0.7)\n",
    "lightgrey = matplotlib.colors.to_rgba('grey', alpha=0.3)\n",
    "colors = [red, grey, lightgrey]\n",
    "plt.hist([max_velos_arr[4], max_velos_arr[0], v.values.flatten()], bins = 10, label=['SUMO default', 'Our approach (All)', 'SimRa (All)'], color = colors, density=True)\n",
    "plt.legend()\n",
    "plt.ylim(0,2.0)\n",
    "plt.ylabel('Rel. frequency')\n",
    "plt.xlabel(r'$v_{max}$ in m/s')\n",
    "plt.savefig('images/sim_frauentorgraben_vel_all.pdf', bbox_inches='tight')\n",
    "plt.show()\n",
    "calc_stats(max_velos_arr[4], max_velos_arr[0], v.values.flatten(), \"all\", \"velo\")"
   ]
  },
  {
   "cell_type": "code",
   "execution_count": 21,
   "metadata": {},
   "outputs": [
    {
     "data": {
      "image/png": "[encoded data removed]",
      "text/plain": [
       "<Figure size 339.5x175 with 1 Axes>"
      ]
     },
     "metadata": {},
     "output_type": "display_data"
    },
    {
     "name": "stdout",
     "output_type": "stream",
     "text": [
      "(SUMO Default) velo - mean: 5.663999999999999\n",
      "(SUMO Default) velo - std: 0.5922212424423832\n",
      "(SUMO Default) velo - median: 5.630000000000001\n",
      "(Our approach - slow) velo - mean: 4.951600000000001\n",
      "(Our approach - slow) velo - std: 0.824434011913628\n",
      "(Our approach - slow) velo - median: 4.99\n",
      "(SimRa - slow) velo - mean: 4.443760401125458\n",
      "(SimRa - slow) velo - std: 0.614610183391194\n",
      "(SimRa - slow) velo - median: 4.283194414478321\n"
     ]
    }
   ],
   "source": [
    "# v_max - slow\n",
    "# plt.subplots(figsize = (10, 5))\n",
    "red = matplotlib.colors.to_rgba('red', alpha=1)\n",
    "blue = matplotlib.colors.to_rgba('blue', alpha=0.7)\n",
    "lightblue = matplotlib.colors.to_rgba('blue', alpha=0.3)\n",
    "colors = [red, blue, lightblue]\n",
    "plt.hist([max_velos_arr[4], max_velos_arr[1], v_slow.values.flatten()], bins = 15, label=['SUMO default', 'Our approach (Slow)', 'SimRa (Slow)'], color = colors, density=True)\n",
    "plt.legend()\n",
    "plt.ylim(0,2.0)\n",
    "plt.ylabel('Rel. frequency')\n",
    "plt.xlabel(r'$v_{max}$ in m/s')\n",
    "plt.savefig('images/sim_frauentorgraben_vel_slow.pdf', bbox_inches='tight')\n",
    "plt.show()\n",
    "calc_stats(max_velos_arr[4], max_velos_arr[1], v_slow.values.flatten(), \"slow\", \"velo\")"
   ]
  },
  {
   "cell_type": "code",
   "execution_count": 22,
   "metadata": {},
   "outputs": [
    {
     "data": {
      "image/png": "[encoded data removed]",
      "text/plain": [
       "<Figure size 339.5x175 with 1 Axes>"
      ]
     },
     "metadata": {},
     "output_type": "display_data"
    },
    {
     "name": "stdout",
     "output_type": "stream",
     "text": [
      "(SUMO Default) velo - mean: 5.663999999999999\n",
      "(SUMO Default) velo - std: 0.5922212424423832\n",
      "(SUMO Default) velo - median: 5.630000000000001\n",
      "(Our approach - medium) velo - mean: 6.719899999999999\n",
      "(Our approach - medium) velo - std: 0.8697511080763278\n",
      "(Our approach - medium) velo - median: 6.77\n",
      "(SimRa - medium) velo - mean: 6.739346219073946\n",
      "(SimRa - medium) velo - std: 0.8791295484174629\n",
      "(SimRa - medium) velo - median: 6.475841109776312\n"
     ]
    }
   ],
   "source": [
    "# v_max - medium\n",
    "# plt.subplots(figsize = (10, 5))\n",
    "red = matplotlib.colors.to_rgba('red', alpha=1)\n",
    "green = matplotlib.colors.to_rgba('green', alpha=0.7)\n",
    "lightgreen = matplotlib.colors.to_rgba('green', alpha=0.3)\n",
    "colors = [red, green, lightgreen]\n",
    "plt.hist([max_velos_arr[4], max_velos_arr[2], v_medium.values.flatten()], bins = 15, label=['SUMO default', 'Our approach (Medium)', 'SimRa (Medium)'], color = colors, density=True)\n",
    "plt.legend()\n",
    "plt.ylim(0,2.0)\n",
    "# plt.xlim(5.4,8.1)\n",
    "plt.ylabel('Rel. frequency')\n",
    "plt.xlabel(r'$v_{max}$ in m/s')\n",
    "plt.savefig('images/sim_frauentorgraben_vel_medium.pdf', bbox_inches='tight')\n",
    "plt.show()\n",
    "calc_stats(max_velos_arr[4], max_velos_arr[2], v_medium.values.flatten(), \"medium\", \"velo\")"
   ]
  },
  {
   "cell_type": "code",
   "execution_count": 23,
   "metadata": {},
   "outputs": [
    {
     "data": {
      "image/png": "[encoded data removed]",
      "text/plain": [
       "<Figure size 339.5x175 with 1 Axes>"
      ]
     },
     "metadata": {},
     "output_type": "display_data"
    },
    {
     "name": "stdout",
     "output_type": "stream",
     "text": [
      "(SUMO Default) velo - mean: 5.663999999999999\n",
      "(SUMO Default) velo - std: 0.5922212424423832\n",
      "(SUMO Default) velo - median: 5.630000000000001\n",
      "(Our approach - fast) velo - mean: 7.9188\n",
      "(Our approach - fast) velo - std: 1.0911849339135873\n",
      "(Our approach - fast) velo - median: 7.96\n",
      "(SimRa - fast) velo - mean: 7.592934739988577\n",
      "(SimRa - fast) velo - std: 0.09517443302380002\n",
      "(SimRa - fast) velo - median: 7.592934739988577\n"
     ]
    }
   ],
   "source": [
    "# v_max - fast\n",
    "# plt.subplots(figsize = (10, 5))\n",
    "red = matplotlib.colors.to_rgba('red', alpha=1)\n",
    "orange = matplotlib.colors.to_rgba('darkorange', alpha=0.7)\n",
    "lightorange = matplotlib.colors.to_rgba('darkorange', alpha=0.3)\n",
    "colors = [red, orange, lightorange]\n",
    "plt.hist([max_velos_arr[4], max_velos_arr[3], v_fast.values.flatten()], bins = 15, label=['SUMO default', r'Our approach ($f$)', r'SimRa ($f$)'], color = colors, density=True)\n",
    "plt.legend()\n",
    "plt.ylim(0,2.0)\n",
    "# plt.xlim(5.4,8.1)\n",
    "plt.ylabel('Rel. frequency')\n",
    "plt.xlabel(r'$v_{max}$ in m/s')\n",
    "plt.savefig('images/sim_frauentorgraben_vel_fast.pdf', bbox_inches='tight')\n",
    "plt.show()\n",
    "calc_stats(max_velos_arr[4], max_velos_arr[3], v_fast.values.flatten(), \"fast\", \"velo\")"
   ]
  },
  {
   "cell_type": "code",
   "execution_count": 24,
   "metadata": {},
   "outputs": [
    {
     "data": {
      "image/png": "[encoded data removed]",
      "text/plain": [
       "<Figure size 339.5x175 with 1 Axes>"
      ]
     },
     "metadata": {},
     "output_type": "display_data"
    },
    {
     "name": "stdout",
     "output_type": "stream",
     "text": [
      "(SUMO Default) decel - mean: 2.6496999999999997\n",
      "(SUMO Default) decel - std: 0.562804504246368\n",
      "(SUMO Default) decel - median: 2.8549999999999995\n",
      "(Our approach - all) decel - mean: 1.0023\n",
      "(Our approach - all) decel - std: 0.4186212010875704\n",
      "(Our approach - all) decel - median: 1.08\n",
      "(SimRa - all) decel - mean: 0.821194768935475\n",
      "(SimRa - all) decel - std: 0.1987630528545799\n",
      "(SimRa - all) decel - median: 0.7629501281055747\n"
     ]
    }
   ],
   "source": [
    "# d_max - all\n",
    "# plt.subplots(figsize = (10, 5))\n",
    "red = matplotlib.colors.to_rgba('red', alpha=1)\n",
    "grey = matplotlib.colors.to_rgba('grey', alpha=0.7)\n",
    "lightgrey = matplotlib.colors.to_rgba('grey', alpha=0.3)\n",
    "colors = [red, grey, lightgrey]\n",
    "plt.hist([np.absolute(max_decs_arr[4]), np.absolute(max_decs_arr[0]), np.absolute(d_simra.values.flatten())], bins = 15, label=['SUMO default', 'Our approach (All)', 'SimRa (All)'], color = colors, density=True)\n",
    "plt.legend()\n",
    "plt.ylim(0,5)\n",
    "plt.ylabel('Rel. frequency')\n",
    "plt.xlabel(r'$d_{max}$ in m/s²')\n",
    "plt.savefig('images/sim_frauentorgraben_dec_all.pdf', bbox_inches='tight')\n",
    "plt.show()\n",
    "calc_stats(np.absolute(max_decs_arr[4]), np.absolute(max_decs_arr[0]), np.absolute(d_simra.values.flatten()), \"all\", \"decel\")"
   ]
  },
  {
   "cell_type": "code",
   "execution_count": 25,
   "metadata": {},
   "outputs": [
    {
     "data": {
      "image/png": "[encoded data removed]",
      "text/plain": [
       "<Figure size 339.5x175 with 1 Axes>"
      ]
     },
     "metadata": {},
     "output_type": "display_data"
    },
    {
     "name": "stdout",
     "output_type": "stream",
     "text": [
      "(SUMO Default) decel - mean: 2.6496999999999997\n",
      "(SUMO Default) decel - std: 0.562804504246368\n",
      "(SUMO Default) decel - median: 2.8549999999999995\n",
      "(Our approach - slow) decel - mean: 0.8555999999999999\n",
      "(Our approach - slow) decel - std: 0.47436551308036723\n",
      "(Our approach - slow) decel - median: 0.845\n",
      "(SimRa - slow) decel - mean: 0.7472053497987499\n",
      "(SimRa - slow) decel - std: 0.1138646143704714\n",
      "(SimRa - slow) decel - median: 0.7179976790314402\n"
     ]
    }
   ],
   "source": [
    "# d_max - slow\n",
    "# plt.subplots(figsize = (10, 5))\n",
    "red = matplotlib.colors.to_rgba('red', alpha=1)\n",
    "blue = matplotlib.colors.to_rgba('blue', alpha=0.7)\n",
    "lightblue = matplotlib.colors.to_rgba('blue', alpha=0.3)\n",
    "colors = [red, blue, lightblue]\n",
    "plt.hist([np.absolute(max_decs_arr[4]), np.absolute(max_decs_arr[1]), np.absolute(d_simra_slow.values.flatten())], bins = 15, label=['SUMO default', 'Our approach (Slow)', 'SimRa (Slow)'], color = colors, density=True)\n",
    "plt.legend()\n",
    "plt.ylim(0,5)\n",
    "plt.ylabel('Rel. frequency')\n",
    "plt.xlabel(r'$d_{max}$ in m/s²')\n",
    "plt.savefig('images/sim_frauentorgraben_dec_slow.pdf', bbox_inches='tight')\n",
    "plt.show()\n",
    "calc_stats(np.absolute(max_decs_arr[4]), np.absolute(max_decs_arr[1]), np.absolute(d_simra_slow.values.flatten()), \"slow\", \"decel\")"
   ]
  },
  {
   "cell_type": "code",
   "execution_count": 26,
   "metadata": {},
   "outputs": [
    {
     "data": {
      "image/png": "[encoded data removed]",
      "text/plain": [
       "<Figure size 339.5x175 with 1 Axes>"
      ]
     },
     "metadata": {},
     "output_type": "display_data"
    },
    {
     "name": "stdout",
     "output_type": "stream",
     "text": [
      "(SUMO Default) decel - mean: 2.6496999999999997\n",
      "(SUMO Default) decel - std: 0.562804504246368\n",
      "(SUMO Default) decel - median: 2.8549999999999995\n",
      "(Our approach - medium) decel - mean: 0.9788000000000001\n",
      "(Our approach - medium) decel - std: 0.42892955132515637\n",
      "(Our approach - medium) decel - median: 0.9649999999999999\n",
      "(SimRa - medium) decel - mean: 1.0486682600204713\n",
      "(SimRa - medium) decel - std: 0.22585459675331823\n",
      "(SimRa - medium) decel - median: 0.9847768100609056\n"
     ]
    }
   ],
   "source": [
    "# d_max - medium\n",
    "# plt.subplots(figsize = (10, 5))\n",
    "red = matplotlib.colors.to_rgba('red', alpha=1)\n",
    "green = matplotlib.colors.to_rgba('green', alpha=0.7)\n",
    "lightgreen = matplotlib.colors.to_rgba('green', alpha=0.3)\n",
    "colors = [red, green, lightgreen]\n",
    "plt.hist([np.absolute(max_decs_arr[4]), np.absolute(max_decs_arr[2]), np.absolute(d_simra_medium.values.flatten())], bins = 15, label=['SUMO default', r'Our approach ($m$)', r'SimRa ($m$)'], color = colors, density=True)\n",
    "plt.legend()\n",
    "plt.ylim(0,5)\n",
    "plt.ylabel('Rel. frequency')\n",
    "plt.xlabel(r'$d_{max}$ in m/s²')\n",
    "plt.savefig('images/sim_frauentorgraben_dec_medium.pdf', bbox_inches='tight')\n",
    "plt.show()\n",
    "calc_stats(np.absolute(max_decs_arr[4]), np.absolute(max_decs_arr[2]), np.absolute(d_simra_medium.values.flatten()), \"medium\", \"decel\")"
   ]
  },
  {
   "cell_type": "code",
   "execution_count": 27,
   "metadata": {},
   "outputs": [
    {
     "data": {
      "image/png": "[encoded data removed]",
      "text/plain": [
       "<Figure size 339.5x175 with 1 Axes>"
      ]
     },
     "metadata": {},
     "output_type": "display_data"
    },
    {
     "name": "stdout",
     "output_type": "stream",
     "text": [
      "(SUMO Default) decel - mean: 2.6496999999999997\n",
      "(SUMO Default) decel - std: 0.562804504246368\n",
      "(SUMO Default) decel - median: 2.8549999999999995\n",
      "(Our approach - fast) decel - mean: 0.9454\n",
      "(Our approach - fast) decel - std: 0.3924421486028227\n",
      "(Our approach - fast) decel - median: 0.9299999999999999\n",
      "(SimRa - fast) decel - mean: 1.1978577889759485\n",
      "(SimRa - fast) decel - std: 0.1150948902088269\n",
      "(SimRa - fast) decel - median: 1.1978577889759485\n"
     ]
    }
   ],
   "source": [
    "# d_max - fast\n",
    "# plt.subplots(figsize = (10, 5))\n",
    "red = matplotlib.colors.to_rgba('red', alpha=1)\n",
    "orange = matplotlib.colors.to_rgba('darkorange', alpha=0.7)\n",
    "lightorange = matplotlib.colors.to_rgba('darkorange', alpha=0.3)\n",
    "colors = [red, orange, lightorange]\n",
    "plt.hist([np.absolute(max_decs_arr[4]), np.absolute(max_decs_arr[3]), np.absolute(d_simra_medium.values.flatten())], bins = 15, label=['SUMO default', 'Our approach (Fast)', 'SimRa (Fast)'], color = colors, density=True)\n",
    "plt.legend()\n",
    "plt.ylim(0,5)\n",
    "plt.ylabel('Rel. frequency')\n",
    "plt.xlabel(r'$d_{max}$ in m/s²')\n",
    "plt.savefig('images/sim_frauentorgraben_dec_fast.pdf', bbox_inches='tight')\n",
    "plt.show()\n",
    "calc_stats(np.absolute(max_decs_arr[4]), np.absolute(max_decs_arr[3]), np.absolute(d_simra_fast.values.flatten()), \"fast\", \"decel\")"
   ]
  }
 ],
 "metadata": {
  "kernelspec": {
   "display_name": "Python 3.8.10 64-bit",
   "language": "python",
   "name": "python3"
  },
  "language_info": {
   "codemirror_mode": {
    "name": "ipython",
    "version": 3
   },
   "file_extension": ".py",
   "mimetype": "text/x-python",
   "name": "python",
   "nbconvert_exporter": "python",
   "pygments_lexer": "ipython3",
   "version": "3.10.6"
  },
  "vscode": {
   "interpreter": {
    "hash": "916dbcbb3f70747c44a77c7bcd40155683ae19c65e1c03b4aa3499c5328201f1"
   }
  }
 },
 "nbformat": 4,
 "nbformat_minor": 4
}
