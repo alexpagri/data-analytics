{
 "cells": [
  {
   "cell_type": "code",
   "execution_count": 1,
   "metadata": {},
   "outputs": [],
   "source": [
    "import pandas as pd\n",
    "import matplotlib\n",
    "import matplotlib.pyplot as plt\n",
    "import numpy as np\n",
    "from scipy.stats import ks_2samp\n",
    "import psycopg2\n",
    "import sys\n",
    "sys.path.extend(['..', '../..'])\n",
    "from postgis.psycopg import register\n",
    "from shapely.geometry import Point\n",
    "from shapely.geometry.polygon import Polygon\n",
    "from shapely.geometry import box\n",
    "from db_importer.settings import *\n",
    "from adsp.db_utils import build_and_execute_query, getUncutRideLocationStatisticsAccel, getUncutRideLocationWGrouping\n",
    "\n",
    "class DatabaseConnection(object):\n",
    "    def __enter__(self):\n",
    "        self.conn = psycopg2.connect(f\"dbname='{DB_NAME}' user='{DB_USER}' password='{DB_PASSWORD}' host='{DB_HOST}' port='{DB_PORT}'\")\n",
    "        self.conn.autocommit = True\n",
    "\n",
    "        register(self.conn)\n",
    "        self.cur = self.conn.cursor()\n",
    "\n",
    "        return self.cur\n",
    "\n",
    "    def __exit__(self, exc_type, exc_val, exc_tb):\n",
    "        if exc_tb is None:\n",
    "            self.conn.commit()\n",
    "            self.cur.close()\n",
    "            self.conn.close()\n",
    "        else:\n",
    "            self.conn.rollback()\n",
    "            self.cur.close()\n",
    "            self.conn.close()"
   ]
  },
  {
   "cell_type": "code",
   "execution_count": 2,
   "metadata": {},
   "outputs": [
    {
     "name": "stdout",
     "output_type": "stream",
     "text": [
      "sim_data/oranienstr_new_params_all.csv\n",
      "sim_data/oranienstr_new_params_slow.csv\n",
      "sim_data/oranienstr_new_params_medium.csv\n",
      "sim_data/oranienstr_new_params_fast.csv\n",
      "sim_data/oranienstr_default.csv\n"
     ]
    }
   ],
   "source": [
    "#files= ['sim_data/b1_default.csv', 'sim_data/b1_default_ped.csv', 'sim_data/b1_new_params.csv', 'sim_data/b1_new_params_ped.csv']\n",
    "files = ['sim_data/oranienstr_new_params_all.csv', 'sim_data/oranienstr_new_params_slow.csv', 'sim_data/oranienstr_new_params_medium.csv', 'sim_data/oranienstr_new_params_fast.csv', 'sim_data/oranienstr_default.csv',]\n",
    "\n",
    "def calc_a_min_filtered(group):\n",
    "    a = (group['vehicle_speed'] - group.shift(1)['vehicle_speed']) / 1 #timestep_time is always 1\n",
    "    a = a[a > -1.64]\n",
    "    return a.min()\n",
    "\n",
    "def calc_a_min(group):\n",
    "    a = (group['vehicle_speed'] - group.shift(1)['vehicle_speed']) / 1 #timestep_time is always 1\n",
    "    return a.min()\n",
    "\n",
    "def calc_a_max(group):\n",
    "    a = (group['vehicle_speed'] - group.shift(1)['vehicle_speed']) / 1 #timestep_time is always 1\n",
    "    return a.max()\n",
    "\n",
    "max_accs_arr = []\n",
    "max_decs_arr = []\n",
    "max_velos_arr = []\n",
    "\n",
    "sumo_dfs = []\n",
    "\n",
    "for file in files:\n",
    "    df = pd.read_csv(file, delimiter=';')\n",
    "    # print(\"df:\\n{}\".format(df))\n",
    "    print(file)\n",
    "    # print(len(df))\n",
    "    df = df[df.vehicle_id.str.startswith('flow', na=False)]\n",
    "    # print(len(df))\n",
    "    sumo_dfs.append(df)\n",
    "    grouped = df.groupby('vehicle_id', group_keys=False)\n",
    "    # print(grouped)\n",
    "    max_accs_arr.append(grouped.apply(calc_a_max).values)\n",
    "    if \"default\" in file:\n",
    "        max_decs_arr.append(grouped.apply(calc_a_min).values)\n",
    "    else:\n",
    "        max_decs_arr.append(grouped.apply(calc_a_min_filtered).values)\n",
    "\n",
    "    max_velos = []\n",
    "    \n",
    "    for key, item in grouped:\n",
    "        max_velos.append(grouped.get_group(key)['vehicle_speed'].max())\n",
    "        \n",
    "    max_velos_arr.append(max_velos)"
   ]
  },
  {
   "cell_type": "code",
   "execution_count": 3,
   "metadata": {},
   "outputs": [],
   "source": [
    "coords_start = (13.426,52.4991,13.4264,52.4998)\n",
    "coords_end = (13.4112,52.5031,13.4117,52.5039)"
   ]
  },
  {
   "cell_type": "code",
   "execution_count": 4,
   "metadata": {},
   "outputs": [],
   "source": [
    "##oranienstr\n",
    "# with DatabaseConnection() as cur:\n",
    "#     group_q = lambda perc: f\"\"\"SELECT percentile_cont({perc}) WITHIN GROUP (ORDER BY one.avg_v) FROM (SELECT AVG(velo) as avg_v FROM accels WHERE velo > 0.2 AND velo != 'NaN' AND velo < 15 GROUP BY filename) as one\"\"\"\n",
    "#     cur.execute(f\"\"\"\n",
    "#             SELECT two.filename, two.avg_v, two.max_v, one.accel, one.decel, CASE WHEN two.avg_v < ({group_q(0.25)}) THEN 0 ELSE CASE WHEN two.avg_v < ({group_q(0.75)}) THEN 1 ELSE 2 END END as group FROM (\n",
    "#                 SELECT filename, MAX(accel) as accel, MIN(accel) as decel FROM accels GROUP BY filename\n",
    "#             ) as one JOIN (\n",
    "#                 SELECT filename, SUM(velo * duration)/SUM(duration) as avg_v, MAX(velo) as max_v FROM accels WHERE velo > 0.2 AND velo != 'NaN' and velo < 15 GROUP BY filename\n",
    "#             ) as two ON (one.filename = two.filename) JOIN ride as r ON (one.filename = r.filename)\n",
    "#             WHERE st_intersects(r.geom,\n",
    "#                     st_setsrid( st_makebox2d( st_makepoint(11.079800456,49.446282173), st_makepoint(11.0811070204,49.446850658)), 4326))\n",
    "#                 AND st_intersects(r.geom,\n",
    "#                     st_setsrid( st_makebox2d( st_makepoint(11.067365735,49.4470913205), st_makepoint(11.0686722994,49.4476597962)), 4326))\"\"\")\n",
    "#     res = cur.fetchall()\n",
    "#res = getRideLocationStatisticsAccel(coords_start, coords_end)\n",
    "res = getUncutRideLocationStatisticsAccel(coords_start, coords_end)\n",
    "df = pd.DataFrame(res, columns=['filename', 'avg_v', 'max_v', 'max_accel', 'max_decel', 'bike', 'group'])"
   ]
  },
  {
   "cell_type": "code",
   "execution_count": 5,
   "metadata": {},
   "outputs": [
    {
     "name": "stdout",
     "output_type": "stream",
     "text": [
      "<class 'pandas.core.frame.DataFrame'>\n",
      "Int64Index: 4 entries, 13 to 66\n",
      "Data columns (total 1 columns):\n",
      " #   Column     Non-Null Count  Dtype  \n",
      "---  ------     --------------  -----  \n",
      " 0   max_accel  4 non-null      float64\n",
      "dtypes: float64(1)\n",
      "memory usage: 64.0 bytes\n",
      "None\n",
      "<class 'pandas.core.frame.DataFrame'>\n",
      "Int64Index: 36 entries, 1 to 67\n",
      "Data columns (total 1 columns):\n",
      " #   Column     Non-Null Count  Dtype  \n",
      "---  ------     --------------  -----  \n",
      " 0   max_accel  36 non-null     float64\n",
      "dtypes: float64(1)\n",
      "memory usage: 576.0 bytes\n",
      "None\n",
      "<class 'pandas.core.frame.DataFrame'>\n",
      "Int64Index: 27 entries, 0 to 64\n",
      "Data columns (total 1 columns):\n",
      " #   Column     Non-Null Count  Dtype  \n",
      "---  ------     --------------  -----  \n",
      " 0   max_accel  27 non-null     float64\n",
      "dtypes: float64(1)\n",
      "memory usage: 432.0 bytes\n",
      "None\n"
     ]
    }
   ],
   "source": [
    "a_simra = df.query('max_accel >= 0.3')[['max_accel']]\n",
    "a_simra_slow = df.query('group == 0 and max_accel >= 0.3')[['max_accel']]\n",
    "a_simra_medium = df.query('group == 1 and max_accel >= 0.3')[['max_accel']]\n",
    "a_simra_fast = df.query('group == 2 and max_accel >= 0.3')[['max_accel']]\n",
    "print(a_simra_slow.info())\n",
    "print(a_simra_medium.info())\n",
    "print(a_simra_fast.info())\n"
   ]
  },
  {
   "cell_type": "code",
   "execution_count": 6,
   "metadata": {},
   "outputs": [],
   "source": [
    "v = df[['max_v']]\n",
    "v_slow = df.query('group == 0')[['max_v']]\n",
    "v_medium = df.query('group == 1')[['max_v']]\n",
    "v_fast = df.query('group == 2')[['max_v']]"
   ]
  },
  {
   "cell_type": "code",
   "execution_count": 7,
   "metadata": {},
   "outputs": [],
   "source": [
    "d_simra = df.query('max_decel < -0.1')[['max_decel']]\n",
    "d_simra_slow = df.query('group == 0 and max_decel < -0.1')[['max_decel']]\n",
    "d_simra_medium = df.query('group == 1 and max_decel < -0.1')[['max_decel']]\n",
    "d_simra_fast = df.query('group == 2 and max_decel < -0.1')[['max_decel']]"
   ]
  },
  {
   "cell_type": "code",
   "execution_count": 8,
   "metadata": {},
   "outputs": [],
   "source": [
    "#res = build_and_execute_query((11.079800456,49.446282173,11.0811070204,49.446850658), (11.067365735,49.4470913205,11.0686722994,49.4476597962))\n",
    "#df = pd.DataFrame(res, columns=['filename', 'coords', 'velo', 'dur', 'dist', 'timestamp', 'min_ts', 'max_ts', 'time_diff', 'avg_v', 'group'])\n",
    "\n",
    "def getNumberOfStops(df, name):\n",
    "    df = df[~(df.velo.isnull())]\n",
    "    all_stops = 0\n",
    "    df_groups = df.groupby(df.filename)\n",
    "    for key in df_groups:\n",
    "        ride = df_groups.get_group(key[0])\n",
    "        velo = ride[['velo']]\n",
    "        velo_compare = pd.concat([velo.shift(1), velo], axis=1).iloc[1:]\n",
    "        all_stops += len(velo_compare[(velo_compare.iloc[:, 0] != 0) & (velo_compare.iloc[:, 1] == 0)])\n",
    "\n",
    "    if len(df_groups) == 0:\n",
    "        print(f\"{name} avg stops: No rides\")\n",
    "    else:\n",
    "        print(f\"{name} avg stops: {all_stops / len(df_groups)}\")"
   ]
  },
  {
   "cell_type": "code",
   "execution_count": 9,
   "metadata": {},
   "outputs": [],
   "source": [
    "res = getUncutRideLocationWGrouping(coords_start, coords_end)\n",
    "df = pd.DataFrame(res, columns=['filename', 'dur', 'timestamp', 'velo', 'coords', 'bike', 'group'])"
   ]
  },
  {
   "cell_type": "code",
   "execution_count": 10,
   "metadata": {},
   "outputs": [
    {
     "name": "stdout",
     "output_type": "stream",
     "text": [
      "SimRa All avg stops: 1.3823529411764706\n",
      "SimRa F avg stops: 1.2962962962962963\n",
      "SimRa M avg stops: 1.5405405405405406\n",
      "SimRa S avg stops: 0.5\n",
      "SUMO Default avg stops: 2.57\n",
      "Our F avg stops: 1.2066666666666668\n",
      "Our M avg stops: 2.0766666666666667\n",
      "Our S avg stops: 3.1233333333333335\n",
      "Our All avg stops: 2.34\n"
     ]
    }
   ],
   "source": [
    "getNumberOfStops(df, \"SimRa All\")\n",
    "getNumberOfStops(df[df.group == 2], \"SimRa F\")\n",
    "getNumberOfStops(df[df.group == 1], \"SimRa M\")\n",
    "getNumberOfStops(df[df.group == 0], \"SimRa S\")\n",
    "getNumberOfStops(sumo_dfs[4].rename(columns={\"vehicle_speed\": \"velo\", \"vehicle_id\": \"filename\"}), \"SUMO Default\")\n",
    "getNumberOfStops(sumo_dfs[3].rename(columns={\"vehicle_speed\": \"velo\", \"vehicle_id\": \"filename\"}), \"Our F\")\n",
    "getNumberOfStops(sumo_dfs[2].rename(columns={\"vehicle_speed\": \"velo\", \"vehicle_id\": \"filename\"}), \"Our M\")\n",
    "getNumberOfStops(sumo_dfs[1].rename(columns={\"vehicle_speed\": \"velo\", \"vehicle_id\": \"filename\"}), \"Our S\")\n",
    "getNumberOfStops(sumo_dfs[0].rename(columns={\"vehicle_speed\": \"velo\", \"vehicle_id\": \"filename\"}), \"Our All\")"
   ]
  },
  {
   "cell_type": "code",
   "execution_count": 11,
   "metadata": {},
   "outputs": [],
   "source": [
    "# plotting config\n",
    "columnwidth = 3.5\n",
    "textwidth = 3.5 * 2 + 0.25\n",
    "figsize = (columnwidth * 0.97, 1.75)\n",
    "# figsize = (columnwidth * 1.94, 1.75)\n",
    "params = {\n",
    "     \"pdf.fonttype\": 42,\n",
    "     \"font.family\": \"serif\",\n",
    "     \"font.serif\": \"Linux Libertine\",\n",
    "     \"font.sans-serif\": [],\n",
    "     \"font.monospace\": [],\n",
    "     # Make the legend/label fonts a little smaller\n",
    "     \"font.size\": 8,\n",
    "     \"axes.labelsize\": 8,\n",
    "     \"axes.titlesize\": 8,\n",
    "     \"legend.fontsize\": 6,\n",
    "     \"legend.title_fontsize\": 8,\n",
    "     \"xtick.labelsize\": 7,\n",
    "     \"ytick.labelsize\": 7,\n",
    "     \"figure.figsize\": figsize,\n",
    "     \"figure.autolayout\": True,\n",
    "     # save some space around figures when saving\n",
    "     \"savefig.bbox\": \"tight\",\n",
    "     \"savefig.pad_inches\": 0.025,\n",
    "}\n",
    "pdf_params = {\n",
    "     \"text.usetex\": True,\n",
    "     \"pgf.texsystem\": \"pdflatex\",\n",
    "     \"pgf.rcfonts\": False,\n",
    "     \"pgf.preamble\": \"\\n\".join(\n",
    "         [\n",
    "             # put LaTeX preamble declarations here\n",
    "             r\"\\usepackage[utf8x]{inputenc}\",\n",
    "             r\"\\usepackage[T1]{fontenc}\",\n",
    "         ]\n",
    "     ),\n",
    "}\n",
    "# for PFG plotting:\n",
    "params.update(**pdf_params)\n",
    "plt.rcParams.update(params)"
   ]
  },
  {
   "cell_type": "code",
   "execution_count": 12,
   "metadata": {},
   "outputs": [],
   "source": [
    "def calc_stats(default, our, simra, group, type):\n",
    "    #mean, std, median - amax (fast)\n",
    "\n",
    "    print(f\"(SUMO Default) {type} - mean: \" + str(np.mean(default)))\n",
    "    print(f\"(SUMO Default) {type} - std: \" + str(np.std(default)))\n",
    "    print(f\"(SUMO Default) {type} - median: \" + str(np.median(default)))\n",
    "\n",
    "    print(f\"(Our approach - {group}) {type} - mean: \" + str(np.mean(our)))\n",
    "    print(f\"(Our approach - {group}) {type} - std: \" + str(np.std(our)))\n",
    "    print(f\"(Our approach - {group}) {type} - median: \" + str(np.median(our)))\n",
    "\n",
    "    print(f\"(SimRa - {group}) {type} - mean: \" + str(np.mean(simra)))\n",
    "    print(f\"(SimRa - {group}) {type} - std: \" + str(np.std(simra)))\n",
    "    print(f\"(SimRa - {group}) {type} - median: \" + str(np.median(simra)))"
   ]
  },
  {
   "cell_type": "code",
   "execution_count": 13,
   "metadata": {},
   "outputs": [
    {
     "name": "stdout",
     "output_type": "stream",
     "text": [
      "250.09\n",
      "11.76160294117647\n"
     ]
    }
   ],
   "source": [
    "def stopped_time_statistic(i):\n",
    "    all_df = sumo_dfs[i]\n",
    "    print(len(all_df[all_df.vehicle_speed <= 0.5]) / 100) # sumo records rides status each 1 second, we count how many 0 speeds we find, then divide by how many rides we have to get an avg. 0.5 is a similar threshold value for SimRa for stopped rides\n",
    "\n",
    "    print(df['dur'][df.velo == 0].sum() / len(df.groupby('filename'))) # take durations where speed is 0 -> total time spent on waiting, get an average\n",
    "\n",
    "stopped_time_statistic(0)\n"
   ]
  },
  {
   "cell_type": "code",
   "execution_count": 14,
   "metadata": {},
   "outputs": [
    {
     "data": {
      "image/png": "[encoded data removed]",
      "text/plain": [
       "<Figure size 339.5x175 with 1 Axes>"
      ]
     },
     "metadata": {},
     "output_type": "display_data"
    }
   ],
   "source": [
    "# a_max - all\n",
    "# plt.subplots(figsize = (10, 5))\n",
    "bins = np.linspace(0.5,1.3,40)\n",
    "plt.hist(max_accs_arr[4], bins=bins, label='SUMO default', color = 'red', density=True)\n",
    "plt.hist(max_accs_arr[0], bins=bins, label='Our approach (All)', color = 'black', density=True, alpha=0.7)\n",
    "plt.hist(a_simra.values.flatten(), bins=bins, label='SimRa (All)', color = 'black', density=True, alpha=0.3)\n",
    "plt.ylim(0,10)\n",
    "plt.xlim(0.5,1.265)\n",
    "plt.ylabel('Rel. frequency')\n",
    "plt.legend()\n",
    "plt.xlabel(r'$a_{max}$ in m/s²')\n",
    "# plt.savefig('images/sim_oranienstr_acc_all.pdf', bbox_inches='tight')\n",
    "plt.show()\n"
   ]
  },
  {
   "cell_type": "code",
   "execution_count": 15,
   "metadata": {},
   "outputs": [
    {
     "data": {
      "image/png": "[encoded data removed]",
      "text/plain": [
       "<Figure size 339.5x175 with 1 Axes>"
      ]
     },
     "metadata": {},
     "output_type": "display_data"
    }
   ],
   "source": [
    "# a_max - everything\n",
    "# plt.subplots(figsize = (10, 5))\n",
    "red = matplotlib.colors.to_rgba('red', alpha=1)\n",
    "grey = matplotlib.colors.to_rgba('grey', alpha=0.7)\n",
    "lightgrey = matplotlib.colors.to_rgba('grey', alpha=0.3)\n",
    "blue = matplotlib.colors.to_rgba('blue', alpha=0.7)\n",
    "lightblue = matplotlib.colors.to_rgba('blue', alpha=0.3)\n",
    "green = matplotlib.colors.to_rgba('green', alpha=0.7)\n",
    "lightgreen = matplotlib.colors.to_rgba('green', alpha=0.3)\n",
    "orange = matplotlib.colors.to_rgba('darkorange', alpha=0.7)\n",
    "lightorange = matplotlib.colors.to_rgba('darkorange', alpha=0.3)\n",
    "colors = [red, grey, lightgrey, blue, lightblue, green, lightgreen, orange, lightorange]\n",
    "plt.hist([max_accs_arr[4], max_accs_arr[0], a_simra.values.flatten(), max_accs_arr[1], a_simra_slow.values.flatten(), max_accs_arr[2], a_simra_medium.values.flatten(), max_accs_arr[3], a_simra_fast.values.flatten()], bins = 15, label=['SUMO default', 'Our approach (All)', 'SimRa (All)', 'Our approach (Slow)', 'SimRa (Slow)', 'Our approach (Medium)', 'SimRa (Medium)' 'Our approach (Fast)', 'SimRa (Fast)'], color = colors, density=True)\n",
    "plt.legend()\n",
    "plt.ylim(0,10)\n",
    "# plt.xlim(0.5,1.265)\n",
    "plt.ylabel('Rel. frequency')\n",
    "plt.xlabel(r'$a_{max}$ in m/s²')\n",
    "plt.savefig('images/sim_oranienstr_acc_everything.pdf', bbox_inches='tight')\n",
    "plt.show()"
   ]
  },
  {
   "cell_type": "code",
   "execution_count": 16,
   "metadata": {},
   "outputs": [
    {
     "data": {
      "image/png": "[encoded data removed]",
      "text/plain": [
       "<Figure size 339.5x175 with 1 Axes>"
      ]
     },
     "metadata": {},
     "output_type": "display_data"
    },
    {
     "name": "stdout",
     "output_type": "stream",
     "text": [
      "(SUMO Default) amax - mean: 1.1707333333333334\n",
      "(SUMO Default) amax - std: 0.026660749343474125\n",
      "(SUMO Default) amax - median: 1.1799999999999997\n",
      "(Our approach - all) amax - mean: 0.8301666666666667\n",
      "(Our approach - all) amax - std: 0.15823286286005475\n",
      "(Our approach - all) amax - median: 0.8200000000000003\n",
      "(SimRa - all) amax - mean: 0.909962821316661\n",
      "(SimRa - all) amax - std: 0.16691472831631307\n",
      "(SimRa - all) amax - median: 0.9576698637865689\n"
     ]
    }
   ],
   "source": [
    "# a_max - all\n",
    "# plt.subplots(figsize = (10, 5))\n",
    "red = matplotlib.colors.to_rgba('red', alpha=1)\n",
    "grey = matplotlib.colors.to_rgba('grey', alpha=0.7)\n",
    "lightgrey = matplotlib.colors.to_rgba('grey', alpha=0.3)\n",
    "colors = [red, grey, lightgrey]\n",
    "plt.hist([max_accs_arr[4], max_accs_arr[0], a_simra.values.flatten()], bins = 15, label=['SUMO default', 'Our approach (All)', 'SimRa (All)'], color = colors, density=True)\n",
    "plt.legend()\n",
    "plt.ylim(0,10)\n",
    "plt.xlim(0.5,1.265)\n",
    "plt.ylabel('Rel. frequency')\n",
    "plt.xlabel(r'$a_{max}$ in m/s²')\n",
    "plt.savefig('images/sim_oranienstr_acc_all.pdf', bbox_inches='tight')\n",
    "plt.show()\n",
    "calc_stats(max_accs_arr[4], max_accs_arr[0], a_simra.values.flatten(), \"all\", \"amax\")"
   ]
  },
  {
   "cell_type": "code",
   "execution_count": 17,
   "metadata": {},
   "outputs": [
    {
     "data": {
      "image/png": "[encoded data removed]",
      "text/plain": [
       "<Figure size 339.5x175 with 1 Axes>"
      ]
     },
     "metadata": {},
     "output_type": "display_data"
    },
    {
     "name": "stdout",
     "output_type": "stream",
     "text": [
      "(SUMO Default) amax - mean: 1.1707333333333334\n",
      "(SUMO Default) amax - std: 0.026660749343474125\n",
      "(SUMO Default) amax - median: 1.1799999999999997\n",
      "(Our approach - slow) amax - mean: 0.6446666666666668\n",
      "(Our approach - slow) amax - std: 0.1235862272081948\n",
      "(Our approach - slow) amax - median: 0.6400000000000001\n",
      "(SimRa - slow) amax - mean: 0.5882642492875441\n",
      "(SimRa - slow) amax - std: 0.18475681492331342\n",
      "(SimRa - slow) amax - median: 0.6037657788682096\n"
     ]
    }
   ],
   "source": [
    "# a_max - slow\n",
    "# plt.subplots(figsize = (10, 5))\n",
    "red = matplotlib.colors.to_rgba('red', alpha=1)\n",
    "blue = matplotlib.colors.to_rgba('blue', alpha=0.7)\n",
    "lightblue = matplotlib.colors.to_rgba('blue', alpha=0.3)\n",
    "colors = [red, blue, lightblue]\n",
    "plt.hist([max_accs_arr[4], max_accs_arr[1], a_simra_slow.values.flatten()], bins = 15, label=['SUMO default', r'Our approach ($s$)', r'SimRa ($s$)'], color = colors, density=True)\n",
    "plt.legend()\n",
    "plt.ylim(0,10)\n",
    "plt.xlim(0.5,1.265)\n",
    "plt.ylabel('Rel. frequency')\n",
    "plt.xlabel(r'$a_{max}$ in m/s²')\n",
    "plt.savefig('images/sim_oranienstr_acc_slow.pdf', bbox_inches='tight')\n",
    "plt.show()\n",
    "#take 1625 cars, 300 bikes, 1023m (SUMO)\n",
    "calc_stats(max_accs_arr[4], max_accs_arr[1], a_simra_slow.values.flatten(), \"slow\", \"amax\")\n"
   ]
  },
  {
   "cell_type": "code",
   "execution_count": 18,
   "metadata": {},
   "outputs": [
    {
     "data": {
      "image/png": "[encoded data removed]",
      "text/plain": [
       "<Figure size 339.5x175 with 1 Axes>"
      ]
     },
     "metadata": {},
     "output_type": "display_data"
    },
    {
     "name": "stdout",
     "output_type": "stream",
     "text": [
      "(SUMO Default) amax - mean: 1.1707333333333334\n",
      "(SUMO Default) amax - std: 0.026660749343474125\n",
      "(SUMO Default) amax - median: 1.1799999999999997\n",
      "(Our approach - medium) amax - mean: 0.8356333333333335\n",
      "(Our approach - medium) amax - std: 0.12507304088234023\n",
      "(Our approach - medium) amax - median: 0.8400000000000002\n",
      "(SimRa - medium) amax - mean: 0.8783657190953005\n",
      "(SimRa - medium) amax - std: 0.13484665365549922\n",
      "(SimRa - medium) amax - median: 0.865596510477947\n"
     ]
    }
   ],
   "source": [
    "# a_max - medium\n",
    "# plt.subplots(figsize = (10, 5))\n",
    "red = matplotlib.colors.to_rgba('red', alpha=1)\n",
    "green = matplotlib.colors.to_rgba('green', alpha=0.7)\n",
    "lightgreen = matplotlib.colors.to_rgba('green', alpha=0.3)\n",
    "colors = [red, green, lightgreen]\n",
    "plt.hist([max_accs_arr[4], max_accs_arr[2], a_simra_medium.values.flatten()], bins = 15, label=['SUMO default', 'Our approach (Medium)', 'SimRa (Medium)'], color = colors, density=True)\n",
    "plt.legend()\n",
    "plt.ylim(0,10)\n",
    "plt.xlim(0.5,1.265)\n",
    "plt.ylabel('Rel. frequency')\n",
    "plt.xlabel(r'$a_{max}$ in m/s²')\n",
    "plt.savefig('images/sim_oranienstr_acc_medium.pdf', bbox_inches='tight')\n",
    "plt.show()\n",
    "calc_stats(max_accs_arr[4], max_accs_arr[2], a_simra_medium.values.flatten(), \"medium\", \"amax\")"
   ]
  },
  {
   "cell_type": "code",
   "execution_count": 19,
   "metadata": {},
   "outputs": [
    {
     "data": {
      "image/png": "[encoded data removed]",
      "text/plain": [
       "<Figure size 339.5x175 with 1 Axes>"
      ]
     },
     "metadata": {},
     "output_type": "display_data"
    },
    {
     "name": "stdout",
     "output_type": "stream",
     "text": [
      "(SUMO Default) amax - mean: 1.1707333333333334\n",
      "(SUMO Default) amax - std: 0.026660749343474125\n",
      "(SUMO Default) amax - median: 1.1799999999999997\n",
      "(Our approach - fast) amax - mean: 1.0064000000000002\n",
      "(Our approach - fast) amax - std: 0.17044756769556238\n",
      "(Our approach - fast) amax - median: 1.04\n",
      "(SimRa - fast) amax - mean: 0.9997513386531591\n",
      "(SimRa - fast) amax - std: 0.12291668069793948\n",
      "(SimRa - fast) amax - median: 1.0373928464619964\n"
     ]
    }
   ],
   "source": [
    "# a_max - fast\n",
    "# plt.subplots(figsize = (10, 5))\n",
    "red = matplotlib.colors.to_rgba('red', alpha=1)\n",
    "orange = matplotlib.colors.to_rgba('darkorange', alpha=0.7)\n",
    "lightorange = matplotlib.colors.to_rgba('darkorange', alpha=0.3)\n",
    "colors = [red, orange, lightorange]\n",
    "plt.hist([max_accs_arr[4], max_accs_arr[3], a_simra_fast.values.flatten()], bins = 15, label=['SUMO default', 'Our approach (Fast)', 'SimRa (Fast)'], color = colors, density=True)\n",
    "plt.legend()\n",
    "plt.ylim(0,10)\n",
    "plt.xlim(0.5,1.6)\n",
    "plt.ylabel('Rel. frequency')\n",
    "plt.xlabel(r'$a_{max}$ in m/s²')\n",
    "plt.savefig('images/sim_oranienstr_acc_fast.pdf', bbox_inches='tight')\n",
    "plt.show()\n",
    "calc_stats(max_accs_arr[4], max_accs_arr[3], a_simra_fast.values.flatten(), \"fast\", \"amax\")"
   ]
  },
  {
   "cell_type": "code",
   "execution_count": 20,
   "metadata": {},
   "outputs": [
    {
     "data": {
      "image/png": "[encoded data removed]",
      "text/plain": [
       "<Figure size 339.5x175 with 1 Axes>"
      ]
     },
     "metadata": {},
     "output_type": "display_data"
    },
    {
     "name": "stdout",
     "output_type": "stream",
     "text": [
      "(SUMO Default) velo - mean: 5.582766666666666\n",
      "(SUMO Default) velo - std: 0.5467430952670754\n",
      "(SUMO Default) velo - median: 5.595\n",
      "(Our approach - all) velo - mean: 6.412433333333333\n",
      "(Our approach - all) velo - std: 1.1325389230495446\n",
      "(Our approach - all) velo - median: 6.23\n",
      "(SimRa - all) velo - mean: 7.063660246646335\n",
      "(SimRa - all) velo - std: 0.9115329649393616\n",
      "(SimRa - all) velo - median: 7.167754883960461\n"
     ]
    }
   ],
   "source": [
    "# v_max - all\n",
    "# plt.subplots(figsize = (10, 5))\n",
    "red = matplotlib.colors.to_rgba('red', alpha=1)\n",
    "grey = matplotlib.colors.to_rgba('grey', alpha=0.7)\n",
    "lightgrey = matplotlib.colors.to_rgba('grey', alpha=0.3)\n",
    "colors = [red, grey, lightgrey]\n",
    "plt.hist([max_velos_arr[4], max_velos_arr[0], v.values.flatten()], bins = 10, label=['SUMO default', 'Our approach (All)', 'SimRa (All)'], color = colors, density=True)\n",
    "plt.legend()\n",
    "plt.ylim(0,2.0)\n",
    "plt.ylabel('Rel. frequency')\n",
    "plt.xlabel(r'$v_{max}$ in m/s')\n",
    "plt.savefig('images/sim_oranienstr_vel_all.pdf', bbox_inches='tight')\n",
    "plt.show()\n",
    "calc_stats(max_velos_arr[4], max_velos_arr[0], v.values.flatten(), \"all\", \"velo\")"
   ]
  },
  {
   "cell_type": "code",
   "execution_count": 21,
   "metadata": {},
   "outputs": [
    {
     "data": {
      "image/png": "[encoded data removed]",
      "text/plain": [
       "<Figure size 339.5x175 with 1 Axes>"
      ]
     },
     "metadata": {},
     "output_type": "display_data"
    },
    {
     "name": "stdout",
     "output_type": "stream",
     "text": [
      "(SUMO Default) velo - mean: 5.582766666666666\n",
      "(SUMO Default) velo - std: 0.5467430952670754\n",
      "(SUMO Default) velo - median: 5.595\n",
      "(Our approach - slow) velo - mean: 4.867566666666667\n",
      "(Our approach - slow) velo - std: 0.7659941767982892\n",
      "(Our approach - slow) velo - median: 4.87\n",
      "(SimRa - slow) velo - mean: 5.317209486867117\n",
      "(SimRa - slow) velo - std: 0.849342550047634\n",
      "(SimRa - slow) velo - median: 5.421716444373732\n"
     ]
    }
   ],
   "source": [
    "# v_max - slow\n",
    "# plt.subplots(figsize = (10, 5))\n",
    "red = matplotlib.colors.to_rgba('red', alpha=1)\n",
    "blue = matplotlib.colors.to_rgba('blue', alpha=0.7)\n",
    "lightblue = matplotlib.colors.to_rgba('blue', alpha=0.3)\n",
    "colors = [red, blue, lightblue]\n",
    "plt.hist([max_velos_arr[4], max_velos_arr[1], v_slow.values.flatten()], bins = 15, label=['SUMO default', 'Our approach (Slow)', 'SimRa (Slow)'], color = colors, density=True)\n",
    "plt.legend()\n",
    "plt.ylim(0,2.0)\n",
    "plt.ylabel('Rel. frequency')\n",
    "plt.xlabel(r'$v_{max}$ in m/s')\n",
    "plt.savefig('images/sim_oranienstr_vel_slow.pdf', bbox_inches='tight')\n",
    "plt.show()\n",
    "calc_stats(max_velos_arr[4], max_velos_arr[1], v_slow.values.flatten(), \"slow\", \"velo\")"
   ]
  },
  {
   "cell_type": "code",
   "execution_count": 22,
   "metadata": {},
   "outputs": [
    {
     "data": {
      "image/png": "[encoded data removed]",
      "text/plain": [
       "<Figure size 339.5x175 with 1 Axes>"
      ]
     },
     "metadata": {},
     "output_type": "display_data"
    },
    {
     "name": "stdout",
     "output_type": "stream",
     "text": [
      "(SUMO Default) velo - mean: 5.582766666666666\n",
      "(SUMO Default) velo - std: 0.5467430952670754\n",
      "(SUMO Default) velo - median: 5.595\n",
      "(Our approach - medium) velo - mean: 6.748200000000001\n",
      "(Our approach - medium) velo - std: 0.8316967155560172\n",
      "(Our approach - medium) velo - median: 6.725\n",
      "(SimRa - medium) velo - mean: 6.793105802522207\n",
      "(SimRa - medium) velo - std: 0.6222065770999341\n",
      "(SimRa - medium) velo - median: 6.765054295484399\n"
     ]
    }
   ],
   "source": [
    "# v_max - medium\n",
    "# plt.subplots(figsize = (10, 5))\n",
    "red = matplotlib.colors.to_rgba('red', alpha=1)\n",
    "green = matplotlib.colors.to_rgba('green', alpha=0.7)\n",
    "lightgreen = matplotlib.colors.to_rgba('green', alpha=0.3)\n",
    "colors = [red, green, lightgreen]\n",
    "plt.hist([max_velos_arr[4], max_velos_arr[2], v_medium.values.flatten()], bins = 15, label=['SUMO default', 'Our approach (Medium)', 'SimRa (Medium)'], color = colors, density=True)\n",
    "plt.legend()\n",
    "plt.ylim(0,2.0)\n",
    "# plt.xlim(5.4,8.1)\n",
    "plt.ylabel('Rel. frequency')\n",
    "plt.xlabel(r'$v_{max}$ in m/s')\n",
    "plt.savefig('images/sim_oranienstr_vel_medium.pdf', bbox_inches='tight')\n",
    "plt.show()\n",
    "calc_stats(max_velos_arr[4], max_velos_arr[2], v_medium.values.flatten(), \"medium\", \"velo\")"
   ]
  },
  {
   "cell_type": "code",
   "execution_count": 23,
   "metadata": {},
   "outputs": [
    {
     "data": {
      "image/png": "[encoded data removed]",
      "text/plain": [
       "<Figure size 339.5x175 with 1 Axes>"
      ]
     },
     "metadata": {},
     "output_type": "display_data"
    },
    {
     "name": "stdout",
     "output_type": "stream",
     "text": [
      "(SUMO Default) velo - mean: 5.582766666666666\n",
      "(SUMO Default) velo - std: 0.5467430952670754\n",
      "(SUMO Default) velo - median: 5.595\n",
      "(Our approach - fast) velo - mean: 8.037400000000002\n",
      "(Our approach - fast) velo - std: 0.9205019862372197\n",
      "(Our approach - fast) velo - median: 8.004999999999999\n",
      "(SimRa - fast) velo - mean: 7.693153486339285\n",
      "(SimRa - fast) velo - std: 0.7118862117641603\n",
      "(SimRa - fast) velo - median: 7.616845638586652\n"
     ]
    }
   ],
   "source": [
    "# v_max - fast\n",
    "# plt.subplots(figsize = (10, 5))\n",
    "red = matplotlib.colors.to_rgba('red', alpha=1)\n",
    "orange = matplotlib.colors.to_rgba('darkorange', alpha=0.7)\n",
    "lightorange = matplotlib.colors.to_rgba('darkorange', alpha=0.3)\n",
    "colors = [red, orange, lightorange]\n",
    "plt.hist([max_velos_arr[4], max_velos_arr[3], v_fast.values.flatten()], bins = 15, label=['SUMO default', r'Our approach ($f$)', r'SimRa ($f$)'], color = colors, density=True)\n",
    "plt.legend()\n",
    "plt.ylim(0,2.0)\n",
    "# plt.xlim(5.4,8.1)\n",
    "plt.ylabel('Rel. frequency')\n",
    "plt.xlabel(r'$v_{max}$ in m/s')\n",
    "plt.savefig('images/sim_oranienstr_vel_fast.pdf', bbox_inches='tight')\n",
    "plt.show()\n",
    "calc_stats(max_velos_arr[4], max_velos_arr[3], v_fast.values.flatten(), \"fast\", \"velo\")"
   ]
  },
  {
   "cell_type": "code",
   "execution_count": 24,
   "metadata": {},
   "outputs": [
    {
     "data": {
      "image/png": "[encoded data removed]",
      "text/plain": [
       "<Figure size 339.5x175 with 1 Axes>"
      ]
     },
     "metadata": {},
     "output_type": "display_data"
    },
    {
     "name": "stdout",
     "output_type": "stream",
     "text": [
      "(SUMO Default) decel - mean: 2.816466666666667\n",
      "(SUMO Default) decel - std: 0.23227609050916592\n",
      "(SUMO Default) decel - median: 2.925\n",
      "(Our approach - all) decel - mean: 1.2004666666666668\n",
      "(Our approach - all) decel - std: 0.279785243038696\n",
      "(Our approach - all) decel - median: 1.2100000000000002\n",
      "(SimRa - all) decel - mean: 1.1291387056894346\n",
      "(SimRa - all) decel - std: 0.30100462050074467\n",
      "(SimRa - all) decel - median: 1.128356573483586\n"
     ]
    }
   ],
   "source": [
    "# d_max - all\n",
    "# plt.subplots(figsize = (10, 5))\n",
    "red = matplotlib.colors.to_rgba('red', alpha=1)\n",
    "grey = matplotlib.colors.to_rgba('grey', alpha=0.7)\n",
    "lightgrey = matplotlib.colors.to_rgba('grey', alpha=0.3)\n",
    "colors = [red, grey, lightgrey]\n",
    "plt.hist([np.absolute(max_decs_arr[4]), np.absolute(max_decs_arr[0]), np.absolute(d_simra.values.flatten())], bins = 15, label=['SUMO default', 'Our approach (All)', 'SimRa (All)'], color = colors, density=True)\n",
    "plt.legend()\n",
    "plt.ylim(0,5)\n",
    "plt.ylabel('Rel. frequency')\n",
    "plt.xlabel(r'$d_{max}$ in m/s²')\n",
    "plt.savefig('images/sim_oranienstr_dec_all.pdf', bbox_inches='tight')\n",
    "plt.show()\n",
    "calc_stats(np.absolute(max_decs_arr[4]), np.absolute(max_decs_arr[0]), np.absolute(d_simra.values.flatten()), \"all\", \"decel\")"
   ]
  },
  {
   "cell_type": "code",
   "execution_count": 25,
   "metadata": {},
   "outputs": [
    {
     "data": {
      "image/png": "[encoded data removed]",
      "text/plain": [
       "<Figure size 339.5x175 with 1 Axes>"
      ]
     },
     "metadata": {},
     "output_type": "display_data"
    },
    {
     "name": "stdout",
     "output_type": "stream",
     "text": [
      "(SUMO Default) decel - mean: 2.816466666666667\n",
      "(SUMO Default) decel - std: 0.23227609050916592\n",
      "(SUMO Default) decel - median: 2.925\n",
      "(Our approach - slow) decel - mean: 1.1845\n",
      "(Our approach - slow) decel - std: 0.31257652396386604\n",
      "(Our approach - slow) decel - median: 1.205\n",
      "(SimRa - slow) decel - mean: 0.684129376214171\n",
      "(SimRa - slow) decel - std: 0.1339334498159147\n",
      "(SimRa - slow) decel - median: 0.7231801072899725\n"
     ]
    }
   ],
   "source": [
    "# d_max - slow\n",
    "# plt.subplots(figsize = (10, 5))\n",
    "red = matplotlib.colors.to_rgba('red', alpha=1)\n",
    "blue = matplotlib.colors.to_rgba('blue', alpha=0.7)\n",
    "lightblue = matplotlib.colors.to_rgba('blue', alpha=0.3)\n",
    "colors = [red, blue, lightblue]\n",
    "plt.hist([np.absolute(max_decs_arr[4]), np.absolute(max_decs_arr[1]), np.absolute(d_simra_slow.values.flatten())], bins = 15, label=['SUMO default', 'Our approach (Slow)', 'SimRa (Slow)'], color = colors, density=True)\n",
    "plt.legend()\n",
    "plt.ylim(0,5)\n",
    "plt.ylabel('Rel. frequency')\n",
    "plt.xlabel(r'$d_{max}$ in m/s²')\n",
    "plt.savefig('images/sim_oranienstr_dec_slow.pdf', bbox_inches='tight')\n",
    "plt.show()\n",
    "calc_stats(np.absolute(max_decs_arr[4]), np.absolute(max_decs_arr[1]), np.absolute(d_simra_slow.values.flatten()), \"slow\", \"decel\")"
   ]
  },
  {
   "cell_type": "code",
   "execution_count": 26,
   "metadata": {},
   "outputs": [
    {
     "data": {
      "image/png": "[encoded data removed]",
      "text/plain": [
       "<Figure size 339.5x175 with 1 Axes>"
      ]
     },
     "metadata": {},
     "output_type": "display_data"
    },
    {
     "name": "stdout",
     "output_type": "stream",
     "text": [
      "(SUMO Default) decel - mean: 2.816466666666667\n",
      "(SUMO Default) decel - std: 0.23227609050916592\n",
      "(SUMO Default) decel - median: 2.925\n",
      "(Our approach - medium) decel - mean: 1.1977666666666669\n",
      "(Our approach - medium) decel - std: 0.26508240018697743\n",
      "(Our approach - medium) decel - median: 1.2199999999999998\n",
      "(SimRa - medium) decel - mean: 1.1191001076952598\n",
      "(SimRa - medium) decel - std: 0.3114919206501091\n",
      "(SimRa - medium) decel - median: 1.100772585956171\n"
     ]
    }
   ],
   "source": [
    "# d_max - medium\n",
    "# plt.subplots(figsize = (10, 5))\n",
    "red = matplotlib.colors.to_rgba('red', alpha=1)\n",
    "green = matplotlib.colors.to_rgba('green', alpha=0.7)\n",
    "lightgreen = matplotlib.colors.to_rgba('green', alpha=0.3)\n",
    "colors = [red, green, lightgreen]\n",
    "plt.hist([np.absolute(max_decs_arr[4]), np.absolute(max_decs_arr[2]), np.absolute(d_simra_medium.values.flatten())], bins = 15, label=['SUMO default', r'Our approach ($m$)', r'SimRa ($m$)'], color = colors, density=True)\n",
    "plt.legend()\n",
    "plt.ylim(0,5)\n",
    "plt.ylabel('Rel. frequency')\n",
    "plt.xlabel(r'$d_{max}$ in m/s²')\n",
    "plt.savefig('images/sim_oranienstr_dec_medium.pdf', bbox_inches='tight')\n",
    "plt.show()\n",
    "calc_stats(np.absolute(max_decs_arr[4]), np.absolute(max_decs_arr[2]), np.absolute(d_simra_medium.values.flatten()), \"medium\", \"decel\")"
   ]
  },
  {
   "cell_type": "code",
   "execution_count": 27,
   "metadata": {},
   "outputs": [
    {
     "data": {
      "image/png": "[encoded data removed]",
      "text/plain": [
       "<Figure size 339.5x175 with 1 Axes>"
      ]
     },
     "metadata": {},
     "output_type": "display_data"
    },
    {
     "name": "stdout",
     "output_type": "stream",
     "text": [
      "(SUMO Default) decel - mean: 2.816466666666667\n",
      "(SUMO Default) decel - std: 0.23227609050916592\n",
      "(SUMO Default) decel - median: 2.925\n",
      "(Our approach - fast) decel - mean: 1.2931000000000001\n",
      "(Our approach - fast) decel - std: 0.24012230911211327\n",
      "(Our approach - fast) decel - median: 1.33\n",
      "(SimRa - fast) decel - mean: 1.2088226110111202\n",
      "(SimRa - fast) decel - std: 0.23820303006709223\n",
      "(SimRa - fast) decel - median: 1.1663380621643964\n"
     ]
    }
   ],
   "source": [
    "# d_max - fast\n",
    "# plt.subplots(figsize = (10, 5))\n",
    "red = matplotlib.colors.to_rgba('red', alpha=1)\n",
    "orange = matplotlib.colors.to_rgba('darkorange', alpha=0.7)\n",
    "lightorange = matplotlib.colors.to_rgba('darkorange', alpha=0.3)\n",
    "colors = [red, orange, lightorange]\n",
    "plt.hist([np.absolute(max_decs_arr[4]), np.absolute(max_decs_arr[3]), np.absolute(d_simra_medium.values.flatten())], bins = 15, label=['SUMO default', 'Our approach (Fast)', 'SimRa (Fast)'], color = colors, density=True)\n",
    "plt.legend()\n",
    "plt.ylim(0,5)\n",
    "plt.ylabel('Rel. frequency')\n",
    "plt.xlabel(r'$d_{max}$ in m/s²')\n",
    "plt.savefig('images/sim_oranienstr_dec_fast.pdf', bbox_inches='tight')\n",
    "plt.show()\n",
    "calc_stats(np.absolute(max_decs_arr[4]), np.absolute(max_decs_arr[3]), np.absolute(d_simra_fast.values.flatten()), \"fast\", \"decel\")"
   ]
  }
 ],
 "metadata": {
  "kernelspec": {
   "display_name": "Python 3.8.10 64-bit",
   "language": "python",
   "name": "python3"
  },
  "language_info": {
   "codemirror_mode": {
    "name": "ipython",
    "version": 3
   },
   "file_extension": ".py",
   "mimetype": "text/x-python",
   "name": "python",
   "nbconvert_exporter": "python",
   "pygments_lexer": "ipython3",
   "version": "3.10.6"
  },
  "vscode": {
   "interpreter": {
    "hash": "916dbcbb3f70747c44a77c7bcd40155683ae19c65e1c03b4aa3499c5328201f1"
   }
  }
 },
 "nbformat": 4,
 "nbformat_minor": 4
}
