{
 "cells": [
  {
   "cell_type": "code",
   "execution_count": 1,
   "metadata": {},
   "outputs": [],
   "source": [
    "import pandas as pd\n",
    "import matplotlib.pyplot as plt\n",
    "import numpy as np\n",
    "import psycopg2\n",
    "import sys\n",
    "sys.path.extend(['..', '../..'])\n",
    "from postgis.psycopg import register\n",
    "from shapely.geometry import Point\n",
    "from shapely.geometry.polygon import Polygon\n",
    "from shapely.geometry import box\n",
    "from db_importer.settings import *\n",
    "import scipy.stats\n",
    "\n",
    "class DatabaseConnection(object):\n",
    "    def __enter__(self):\n",
    "        self.conn = psycopg2.connect(f\"dbname='{DB_NAME}' user='{DB_USER}' password='{DB_PASSWORD}' host='{DB_HOST}' port='{DB_PORT}'\")\n",
    "        self.conn.autocommit = True\n",
    "\n",
    "        register(self.conn)\n",
    "        self.cur = self.conn.cursor()\n",
    "\n",
    "        return self.cur\n",
    "\n",
    "    def __exit__(self, exc_type, exc_val, exc_tb):\n",
    "        if exc_tb is None:\n",
    "            self.conn.commit()\n",
    "            self.cur.close()\n",
    "            self.conn.close()\n",
    "        else:\n",
    "            self.conn.rollback()\n",
    "            self.cur.close()\n",
    "            self.conn.close()"
   ]
  },
  {
   "cell_type": "code",
   "execution_count": 12,
   "metadata": {},
   "outputs": [],
   "source": [
    "#files= ['sim_data/b1_default.csv', 'sim_data/b1_default_ped.csv', 'sim_data/b1_new_params.csv', 'sim_data/b1_new_params_ped.csv']\n",
    "files = ['sim_data/oranienstr_new_params_all.csv', 'sim_data/oranienstr_new_params_slow.csv', 'sim_data/oranienstr_new_params_medium.csv', 'sim_data/oranienstr_new_params_fast.csv', 'sim_data/oranienstr_default.csv',]\n",
    "\n",
    "\n",
    "def calc_a_min(group):\n",
    "    a = (group['vehicle_speed'] - group.shift(1)['vehicle_speed']) / 1 #timestep_time is always 1\n",
    "    return a.min()\n",
    "\n",
    "def calc_a_max(group):\n",
    "    a = (group['vehicle_speed'] - group.shift(1)['vehicle_speed']) / 1 #timestep_time is always 1\n",
    "    return a.max()\n",
    "\n",
    "max_accs_arr = []\n",
    "max_decs_arr = []\n",
    "max_velos_arr = []\n",
    "\n",
    "for file in files:\n",
    "    df = pd.read_csv(file, delimiter=';')\n",
    "    df = df[df.vehicle_id.str.startswith('flow', na=False)]\n",
    "    grouped = df.groupby('vehicle_id')\n",
    "    \n",
    "    max_accs_arr.append(grouped.apply(calc_a_max).values)\n",
    "    max_decs_arr.append(grouped.apply(calc_a_min).values)\n",
    "    \n",
    "    max_velos = []\n",
    "    \n",
    "    for key, item in grouped:\n",
    "        max_velos.append(max(grouped.get_group(key)['vehicle_speed']))\n",
    "        \n",
    "    max_velos_arr.append(max_velos)"
   ]
  },
  {
   "cell_type": "code",
   "execution_count": null,
   "metadata": {},
   "outputs": [],
   "source": [
    "##oranien\n",
    "with DatabaseConnection() as cur:\n",
    "    cur.execute(\"\"\"\n",
    "SELECT filename,\n",
    "       ST_AsGeoJSON(geom) :: json -> 'coordinates' AS coordinates,\n",
    "       timestamps,\n",
    "       velos,\n",
    "       durations,\n",
    "       distances\n",
    "FROM ride\n",
    "WHERE st_intersects(geom,\n",
    "                    st_setsrid( st_makebox2d( st_makepoint(13.4112,52.5031), st_makepoint(13.4117,52.5039)), 4326))\n",
    "                AND st_intersects(geom,\n",
    "                    st_setsrid( st_makebox2d( st_makepoint(13.426,52.4991), st_makepoint(13.4264,52.4998)), 4326))\"\"\")\n",
    "    res = cur.fetchall()\n",
    "    df = pd.DataFrame(res, columns=['filename', 'coords', 'timestamp', 'velo', 'duration', 'dist'])"
   ]
  },
  {
   "cell_type": "code",
   "execution_count": null,
   "metadata": {},
   "outputs": [],
   "source": [
    "print(df)\n",
    "print(df['velo'].max() > np.zeros(len(df['velo'].max())))\n",
    "print(len(df.velo.max()))\n",
    "print(df['velo'].max())\n",
    "\n",
    "v = df.velo.apply(lambda x: np.median(-np.sort(-np.array(x))[:10])).values\n",
    "\n",
    "v = v[v != 0]\n",
    "\n",
    "v"
   ]
  },
  {
   "cell_type": "code",
   "execution_count": null,
   "metadata": {},
   "outputs": [],
   "source": [
    "\n",
    "\n",
    "def find_closest_index(df, dt_obj):\n",
    "    return np.argmin(np.abs(df['timestamp'] - dt_obj))\n",
    "\n",
    "\n",
    "def process_acceleration_segments(df):\n",
    "    df = pd.DataFrame(list(zip(df.timestamp, df.velo, df.duration, df.dist)), columns = ['timestamp', 'velo', 'duration', 'dist'])\n",
    "    \n",
    "    \n",
    "    tmp = df.copy()\n",
    "    \n",
    "    df['velo'] = tmp['velo']\n",
    "    df['a'] = (df['velo'] - df.shift(1)['velo']) / df['duration']\n",
    "\n",
    "    tmp = insert_empty_rows(df).copy()\n",
    "    tmp_ak = tmp[['timestamp', 'a']].copy()\n",
    "\n",
    "    ## es werden empty rows reingebuffert, damit die Auflösung von a erhöht werden kann (über interpolate).\n",
    "    ## So lassen sich values nahe 0 finden. Bei 1/3Hz Auflösung gelänge das bei zu wenigen.\n",
    "    t0 = tmp_ak['timestamp'].min()\n",
    "    m = tmp_ak['timestamp'].notnull()\n",
    "    tmp_ak.loc[m, 't_int'] = (tmp_ak.loc[m, 'timestamp'] - t0).dt.total_seconds()\n",
    "    tmp_ak['timestamp'] = t0 + pd.to_timedelta(tmp_ak.t_int.interpolate(), unit='s')\n",
    "\n",
    "    tmp_ak = tmp_ak[~tmp_ak.timestamp.isnull()]\n",
    "    tmp_ak['a'] = tmp_ak['a'].astype('float64').interpolate()\n",
    "\n",
    "    th = 0.005\n",
    "    extrema = tmp_ak[tmp_ak['a'].between(-th, th)].timestamp.values\n",
    "\n",
    "    # df = df.set_index('timestamp')\n",
    "    segments = []\n",
    "    for i in range(len(extrema)):\n",
    "        if i + 1 == len(extrema):\n",
    "            break\n",
    "        e1 = extrema[i]\n",
    "        e2 = extrema[i + 1]\n",
    "        segments.append(df[find_closest_index(df, e1):find_closest_index(df, e2)])\n",
    "\n",
    "    df_s = []\n",
    "    for s in segments:\n",
    "        #s = s[s['velo'].notna()]\n",
    "        if len(s) < 1:\n",
    "            continue\n",
    "        if (s.dist.sum() < 20) | (s.dist.sum() > 350):\n",
    "            continue\n",
    "        if (s.duration.sum() < 5) | (s.duration.sum() > 60):\n",
    "            continue\n",
    "\n",
    "        initial_speed = s['velo'].iloc[0]\n",
    "        final_speed = s['velo'].iloc[-1]\n",
    "        if final_speed == initial_speed:\n",
    "            continue\n",
    "        t = abs(initial_speed - final_speed) / max(initial_speed, final_speed)\n",
    "        if t < 0.5:\n",
    "            continue\n",
    "        if final_speed > initial_speed:\n",
    "            ## hier < x, da es vorkommen kann, dass an den Grenzen des Segments marginal negative values vorkommen.\n",
    "            if (s['a'] < -0.1).any():\n",
    "                continue\n",
    "            s['type'] = 'a'\n",
    "        else:\n",
    "            if (s['a'] > 0.1).any():\n",
    "                continue\n",
    "            s['type'] = 'd'\n",
    "        global seg_id\n",
    "        s['seg_id'] = seg_id\n",
    "        seg_id += 1\n",
    "        df_s.append(s)\n",
    "        return pd.concat(df_s).to_numpy()\n",
    "\n",
    "def insert_empty_rows(df): \n",
    "    data = df.values\n",
    "    for i in range(4):\n",
    "        nans = np.where(np.empty_like(data), np.nan, np.nan)\n",
    "        data = np.hstack([nans, data])\n",
    "    return pd.DataFrame(data.reshape(-1, df.shape[1]), columns=df.columns)\n",
    "\n",
    "seg_id = 0\n",
    "\n",
    "df_series = pd.DataFrame()\n",
    "df_series = df.apply(lambda x: process_acceleration_segments(x[['timestamp', 'velo', 'duration', 'dist']]), axis=1)\n"
   ]
  },
  {
   "cell_type": "code",
   "execution_count": null,
   "metadata": {},
   "outputs": [],
   "source": [
    "res = pd.DataFrame(columns=['timestamp', 'velo', 'duration', 'dist', 'a', 'type', 'seg_id'])\n",
    "for i in df_series:\n",
    "    res = pd.concat([res, pd.DataFrame(i, columns=['timestamp', 'velo', 'duration', 'dist', 'a', 'type', 'seg_id'])])\n",
    "res"
   ]
  },
  {
   "cell_type": "code",
   "execution_count": null,
   "metadata": {},
   "outputs": [],
   "source": [
    "a_simra= res[res['type'] == 'a'].groupby('seg_id').a.max().dropna()\n",
    "a_simra"
   ]
  },
  {
   "cell_type": "code",
   "execution_count": null,
   "metadata": {},
   "outputs": [],
   "source": [
    "a_simra = a_simra[(a_simra[:] > 0.2)]"
   ]
  },
  {
   "cell_type": "code",
   "execution_count": 16,
   "metadata": {},
   "outputs": [],
   "source": [
    "##oranien\n",
    "with DatabaseConnection() as cur:\n",
    "    group_q = lambda perc: f\"\"\"SELECT percentile_cont({perc}) WITHIN GROUP (ORDER BY one.avg_v) FROM (SELECT AVG(velo) as avg_v FROM accels WHERE velo > 0.2 AND velo != 'NaN' AND velo < 15 GROUP BY filename) as one\"\"\"\n",
    "    cur.execute(f\"\"\"\n",
    "            SELECT two.filename, two.max_v, one.accel, one.decel, CASE WHEN two.avg_v < ({group_q(0.25)}) THEN 0 ELSE CASE WHEN two.avg_v < ({group_q(0.75)}) THEN 1 ELSE 2 END END as group FROM (\n",
    "                SELECT filename, MAX(accel) as accel, MIN(accel) as decel FROM accels GROUP BY filename\n",
    "            ) as one JOIN (\n",
    "                SELECT filename, SUM(velo * duration)/SUM(duration) as avg_v, MAX(velo) as max_v FROM accels WHERE velo > 0.2 AND velo != 'NaN' and velo < 15 GROUP BY filename\n",
    "            ) as two ON (one.filename = two.filename) JOIN ride as r ON (one.filename = r.filename)\n",
    "            WHERE st_intersects(r.geom,\n",
    "                    st_setsrid( st_makebox2d( st_makepoint(13.4112,52.5031), st_makepoint(13.4117,52.5039)), 4326))\n",
    "                AND st_intersects(r.geom,\n",
    "                    st_setsrid( st_makebox2d( st_makepoint(13.426,52.4991), st_makepoint(13.4264,52.4998)), 4326))\"\"\")\n",
    "    res = cur.fetchall()\n",
    "    df = pd.DataFrame(res, columns=['filename', 'max_v', 'max_accel', 'max_decel', 'group'])"
   ]
  },
  {
   "cell_type": "code",
   "execution_count": 17,
   "metadata": {},
   "outputs": [],
   "source": [
    "a_simra = df.query('max_accel >= 0.3')[['max_accel']]\n",
    "a_simra_slow = df.query('group == 0 and max_accel >= 0.3')[['max_accel']]\n",
    "a_simra_medium = df.query('group == 1 and max_accel >= 0.3')[['max_accel']]\n",
    "a_simra_fast = df.query('group == 2 and max_accel >= 0.3')[['max_accel']]"
   ]
  },
  {
   "cell_type": "code",
   "execution_count": 34,
   "metadata": {},
   "outputs": [],
   "source": [
    "v = df[['max_v']]\n",
    "v_slow = df.query('group == 0')[['max_v']]\n",
    "v_medium = df.query('group == 1')[['max_v']]\n",
    "v_fast = df.query('group == 2')[['max_v']]"
   ]
  },
  {
   "cell_type": "code",
   "execution_count": 39,
   "metadata": {},
   "outputs": [],
   "source": [
    "d_simra = df.query('max_decel < -0.1')[['max_decel']]\n",
    "d_simra_slow = df.query('group == 0 and max_decel < -0.1')[['max_decel']]\n",
    "d_simra_medium = df.query('group == 1 and max_decel < -0.1')[['max_decel']]\n",
    "d_simra_fast = df.query('group == 2 and max_decel < -0.1')[['max_decel']]"
   ]
  },
  {
   "cell_type": "code",
   "execution_count": 18,
   "metadata": {},
   "outputs": [],
   "source": [
    "# plotting config\n",
    "columnwidth = 3.5\n",
    "textwidth = 3.5 * 2 + 0.25\n",
    "figsize = (columnwidth * 0.97, 1.75)\n",
    "params = {\n",
    "     \"pdf.fonttype\": 42,\n",
    "     \"font.family\": \"serif\",\n",
    "     \"font.serif\": \"Linux Libertine\",\n",
    "     \"font.sans-serif\": [],\n",
    "     \"font.monospace\": [],\n",
    "     # Make the legend/label fonts a little smaller\n",
    "     \"font.size\": 8,\n",
    "     \"axes.labelsize\": 8,\n",
    "     \"axes.titlesize\": 8,\n",
    "     \"legend.fontsize\": 6,\n",
    "     \"legend.title_fontsize\": 8,\n",
    "     \"xtick.labelsize\": 7,\n",
    "     \"ytick.labelsize\": 7,\n",
    "     \"figure.figsize\": figsize,\n",
    "     \"figure.autolayout\": True,\n",
    "     # save some space around figures when saving\n",
    "     \"savefig.bbox\": \"tight\",\n",
    "     \"savefig.pad_inches\": 0.025,\n",
    "}\n",
    "pdf_params = {\n",
    "     \"text.usetex\": True,\n",
    "     \"pgf.texsystem\": \"pdflatex\",\n",
    "     \"pgf.rcfonts\": False,\n",
    "     \"pgf.preamble\": \"\\n\".join(\n",
    "         [\n",
    "             # put LaTeX preamble declarations here\n",
    "             r\"\\usepackage[utf8x]{inputenc}\",\n",
    "             r\"\\usepackage[T1]{fontenc}\",\n",
    "         ]\n",
    "     ),\n",
    "}\n",
    "# for PFG plotting:\n",
    "params.update(**pdf_params)\n",
    "plt.rcParams.update(params)"
   ]
  },
  {
   "cell_type": "code",
   "execution_count": 24,
   "metadata": {},
   "outputs": [
    {
     "data": {
      "image/png": "[encoded data removed]",
      "text/plain": [
       "<Figure size 720x360 with 1 Axes>"
      ]
     },
     "metadata": {
      "needs_background": "light"
     },
     "output_type": "display_data"
    }
   ],
   "source": [
    "colors = ['r', u'#ff7f0e', u'#1f77b4']\n",
    "\n",
    "plt.subplots(figsize = (10, 5))\n",
    "\n",
    "plt.hist([max_accs_arr[4], max_accs_arr[0], a_simra.values.flatten()], bins=15,rwidth=1,  label=['SUMO default', 'Our approach (All)', 'SimRa (All)'], color = colors, density=True)\n",
    "plt.ylim(0,6)\n",
    "plt.ylabel('Rel. frequency')\n",
    "plt.legend()\n",
    "plt.xlabel(r'$a_{max}$ in m/s²')\n",
    "plt.savefig('images/sim_oranien_acc_all.pdf', bbox_inches='tight')\n",
    "plt.show()"
   ]
  },
  {
   "cell_type": "code",
   "execution_count": 25,
   "metadata": {},
   "outputs": [
    {
     "data": {
      "image/png": "[encoded data removed]",
      "text/plain": [
       "<Figure size 720x360 with 1 Axes>"
      ]
     },
     "metadata": {
      "needs_background": "light"
     },
     "output_type": "display_data"
    }
   ],
   "source": [
    "colors = ['r', u'#ff7f0e', u'#1f77b4']\n",
    "\n",
    "plt.subplots(figsize = (10, 5))\n",
    "\n",
    "plt.hist([max_accs_arr[4], max_accs_arr[1], a_simra_slow.values.flatten()], bins=15,rwidth=1,  label=['SUMO default', 'Our approach (Slow)', 'SimRa (Slow)'], color = colors, density=True)\n",
    "plt.ylim(0,6)\n",
    "plt.ylabel('Rel. frequency')\n",
    "plt.legend()\n",
    "plt.xlabel(r'$a_{max}$ in m/s²')\n",
    "plt.savefig('images/sim_oranien_acc_slow.pdf', bbox_inches='tight')\n",
    "plt.show()"
   ]
  },
  {
   "cell_type": "code",
   "execution_count": 26,
   "metadata": {},
   "outputs": [
    {
     "data": {
      "image/png": "[encoded data removed]",
      "text/plain": [
       "<Figure size 720x360 with 1 Axes>"
      ]
     },
     "metadata": {
      "needs_background": "light"
     },
     "output_type": "display_data"
    }
   ],
   "source": [
    "colors = ['r', u'#ff7f0e', u'#1f77b4']\n",
    "\n",
    "plt.subplots(figsize = (10, 5))\n",
    "\n",
    "plt.hist([max_accs_arr[4], max_accs_arr[2], a_simra_medium.values.flatten()], bins=15,rwidth=1,  label=['SUMO default', 'Our approach (Medium)', 'SimRa (Medium)'], color = colors, density=True)\n",
    "plt.ylim(0,6)\n",
    "plt.ylabel('Rel. frequency')\n",
    "plt.legend()\n",
    "plt.xlabel(r'$a_{max}$ in m/s²')\n",
    "plt.savefig('images/sim_oranien_acc_medium.pdf', bbox_inches='tight')\n",
    "plt.show()"
   ]
  },
  {
   "cell_type": "code",
   "execution_count": 27,
   "metadata": {},
   "outputs": [
    {
     "data": {
      "image/png": "[encoded data removed]",
      "text/plain": [
       "<Figure size 720x360 with 1 Axes>"
      ]
     },
     "metadata": {
      "needs_background": "light"
     },
     "output_type": "display_data"
    }
   ],
   "source": [
    "colors = ['r', u'#ff7f0e', u'#1f77b4']\n",
    "\n",
    "plt.subplots(figsize = (10, 5))\n",
    "\n",
    "plt.hist([max_accs_arr[4], max_accs_arr[3], a_simra_fast.values.flatten()], bins=15,rwidth=1,  label=['SUMO default', 'Our approach (Fast)', 'SimRa (Fast)'], color = colors, density=True)\n",
    "plt.ylim(0,6)\n",
    "plt.ylabel('Rel. frequency')\n",
    "plt.legend()\n",
    "plt.xlabel(r'$a_{max}$ in m/s²')\n",
    "plt.savefig('images/sim_oranien_acc_fast.pdf', bbox_inches='tight')\n",
    "plt.show()"
   ]
  },
  {
   "cell_type": "code",
   "execution_count": 42,
   "metadata": {},
   "outputs": [
    {
     "data": {
      "image/png": "[encoded data removed]",
      "text/plain": [
       "<Figure size 720x360 with 1 Axes>"
      ]
     },
     "metadata": {
      "needs_background": "light"
     },
     "output_type": "display_data"
    }
   ],
   "source": [
    "plt.subplots(figsize = (10, 5))\n",
    "\n",
    "plt.hist([max_velos_arr[4], max_velos_arr[0], v.values.flatten()], bins = 15, label=['SUMO default', 'Our approach (All)', 'SimRa (All)'],  color = colors, density=True)\n",
    "plt.legend()\n",
    "plt.ylim(0,1)\n",
    "plt.ylabel('Rel. frequency')\n",
    "plt.xlabel(r'$v_{max}$ in m/s')\n",
    "plt.savefig('images/sim_oranien_velo_all.pdf', bbox_inches='tight')\n",
    "plt.show()\n"
   ]
  },
  {
   "cell_type": "code",
   "execution_count": 43,
   "metadata": {},
   "outputs": [
    {
     "data": {
      "image/png": "[encoded data removed]",
      "text/plain": [
       "<Figure size 720x360 with 1 Axes>"
      ]
     },
     "metadata": {
      "needs_background": "light"
     },
     "output_type": "display_data"
    }
   ],
   "source": [
    "plt.subplots(figsize = (10, 5))\n",
    "\n",
    "plt.hist([max_velos_arr[4], max_velos_arr[1], v_slow.values.flatten()], bins = 15, label=['SUMO default', 'Our approach (Slow)', 'SimRa (Slow)'],  color = colors, density=True)\n",
    "plt.legend()\n",
    "plt.ylim(0,1)\n",
    "plt.ylabel('Rel. frequency')\n",
    "plt.xlabel(r'$v_{max}$ in m/s')\n",
    "plt.savefig('images/sim_oranien_velo_slow.pdf', bbox_inches='tight')\n",
    "plt.show()\n"
   ]
  },
  {
   "cell_type": "code",
   "execution_count": 44,
   "metadata": {},
   "outputs": [
    {
     "data": {
      "image/png": "[encoded data removed]",
      "text/plain": [
       "<Figure size 720x360 with 1 Axes>"
      ]
     },
     "metadata": {
      "needs_background": "light"
     },
     "output_type": "display_data"
    }
   ],
   "source": [
    "plt.subplots(figsize = (10, 5))\n",
    "\n",
    "plt.hist([max_velos_arr[4], max_velos_arr[2], v_medium.values.flatten()], bins = 15, label=['SUMO default', 'Our approach (Medium)', 'SimRa (Medium)'],  color = colors, density=True)\n",
    "plt.legend()\n",
    "plt.ylim(0,1)\n",
    "plt.ylabel('Rel. frequency')\n",
    "plt.xlabel(r'$v_{max}$ in m/s')\n",
    "plt.savefig('images/sim_oranien_velo_medium.pdf', bbox_inches='tight')\n",
    "plt.show()\n"
   ]
  },
  {
   "cell_type": "code",
   "execution_count": 45,
   "metadata": {},
   "outputs": [
    {
     "data": {
      "image/png": "[encoded data removed]",
      "text/plain": [
       "<Figure size 720x360 with 1 Axes>"
      ]
     },
     "metadata": {
      "needs_background": "light"
     },
     "output_type": "display_data"
    }
   ],
   "source": [
    "plt.subplots(figsize = (10, 5))\n",
    "\n",
    "plt.hist([max_velos_arr[4], max_velos_arr[3], v_fast.values.flatten()], bins = 15, label=['SUMO default', 'Our approach (Fast)', 'SimRa (Fast)'],  color = colors, density=True)\n",
    "plt.legend()\n",
    "plt.ylim(0,1)\n",
    "plt.ylabel('Rel. frequency')\n",
    "plt.xlabel(r'$v_{max}$ in m/s')\n",
    "plt.savefig('images/sim_oranien_velo_fast.pdf', bbox_inches='tight')\n",
    "plt.show()\n"
   ]
  },
  {
   "cell_type": "code",
   "execution_count": 52,
   "metadata": {},
   "outputs": [
    {
     "data": {
      "image/png": "[encoded data removed]",
      "text/plain": [
       "<Figure size 720x360 with 1 Axes>"
      ]
     },
     "metadata": {
      "needs_background": "light"
     },
     "output_type": "display_data"
    }
   ],
   "source": [
    "colors = ['r', u'#ff7f0e', u'#1f77b4']\n",
    "\n",
    "plt.subplots(figsize = (10, 5))\n",
    "\n",
    "plt.hist([max_decs_arr[4], max_decs_arr[0], d_simra.values.flatten()], bins=15,rwidth=1,  label=['SUMO default', 'Our approach (All)', 'SimRa (All)'], color = colors, density=True)\n",
    "plt.ylim(0,6)\n",
    "plt.ylabel('Rel. frequency')\n",
    "plt.legend()\n",
    "plt.xlabel(r'$a_{max}$ in m/s²')\n",
    "plt.savefig('images/sim_oranien_dec_all.pdf', bbox_inches='tight')\n",
    "plt.show()"
   ]
  }
 ],
 "metadata": {
  "kernelspec": {
   "display_name": "Python 3.8.10 64-bit",
   "language": "python",
   "name": "python3"
  },
  "language_info": {
   "codemirror_mode": {
    "name": "ipython",
    "version": 3
   },
   "file_extension": ".py",
   "mimetype": "text/x-python",
   "name": "python",
   "nbconvert_exporter": "python",
   "pygments_lexer": "ipython3",
   "version": "3.8.10"
  },
  "vscode": {
   "interpreter": {
    "hash": "916dbcbb3f70747c44a77c7bcd40155683ae19c65e1c03b4aa3499c5328201f1"
   }
  }
 },
 "nbformat": 4,
 "nbformat_minor": 4
}
