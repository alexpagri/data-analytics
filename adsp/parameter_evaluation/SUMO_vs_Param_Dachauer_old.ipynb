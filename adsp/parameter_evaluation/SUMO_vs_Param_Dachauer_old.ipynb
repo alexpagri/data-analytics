{
 "cells": [
  {
   "cell_type": "code",
   "execution_count": 1,
   "metadata": {},
   "outputs": [],
   "source": [
    "import pandas as pd\n",
    "import matplotlib\n",
    "import matplotlib.pyplot as plt\n",
    "import numpy as np\n",
    "from scipy.stats import ks_2samp\n",
    "import psycopg2\n",
    "import sys\n",
    "sys.path.extend(['..', '../..'])\n",
    "from postgis.psycopg import register\n",
    "from shapely.geometry import Point\n",
    "from shapely.geometry.polygon import Polygon\n",
    "from shapely.geometry import box\n",
    "from db_importer.settings import *\n",
    "from adsp.db_utils import build_and_execute_query\n",
    "\n",
    "class DatabaseConnection(object):\n",
    "    def __enter__(self):\n",
    "        self.conn = psycopg2.connect(f\"dbname='{DB_NAME}' user='{DB_USER}' password='{DB_PASSWORD}' host='{DB_HOST}' port='{DB_PORT}'\")\n",
    "        self.conn.autocommit = True\n",
    "\n",
    "        register(self.conn)\n",
    "        self.cur = self.conn.cursor()\n",
    "\n",
    "        return self.cur\n",
    "\n",
    "    def __exit__(self, exc_type, exc_val, exc_tb):\n",
    "        if exc_tb is None:\n",
    "            self.conn.commit()\n",
    "            self.cur.close()\n",
    "            self.conn.close()\n",
    "        else:\n",
    "            self.conn.rollback()\n",
    "            self.cur.close()\n",
    "            self.conn.close()"
   ]
  },
  {
   "cell_type": "code",
   "execution_count": 2,
   "metadata": {},
   "outputs": [
    {
     "name": "stdout",
     "output_type": "stream",
     "text": [
      "sim_data/dachauer_new_params_all.csv\n",
      "sim_data/dachauer_new_params_slow.csv\n",
      "sim_data/dachauer_new_params_medium.csv\n",
      "sim_data/dachauer_new_params_fast.csv\n",
      "sim_data/dachauer_default.csv\n"
     ]
    }
   ],
   "source": [
    "#files= ['sim_data/b1_default.csv', 'sim_data/b1_default_ped.csv', 'sim_data/b1_new_params.csv', 'sim_data/b1_new_params_ped.csv']\n",
    "files = ['sim_data/dachauer_new_params_all.csv', 'sim_data/dachauer_new_params_slow.csv', 'sim_data/dachauer_new_params_medium.csv', 'sim_data/dachauer_new_params_fast.csv', 'sim_data/dachauer_default.csv',]\n",
    "\n",
    "def calc_a_min_filtered(group):\n",
    "    a = (group['vehicle_speed'] - group.shift(1)['vehicle_speed']) / 1 #timestep_time is always 1\n",
    "    a = a[a > -1.64]\n",
    "    return a.min()\n",
    "\n",
    "def calc_a_min(group):\n",
    "    a = (group['vehicle_speed'] - group.shift(1)['vehicle_speed']) / 1 #timestep_time is always 1\n",
    "    return a.min()\n",
    "\n",
    "def calc_a_max(group):\n",
    "    a = (group['vehicle_speed'] - group.shift(1)['vehicle_speed']) / 1 #timestep_time is always 1\n",
    "    return a.max()\n",
    "\n",
    "max_accs_arr = []\n",
    "max_decs_arr = []\n",
    "max_velos_arr = []\n",
    "\n",
    "sumo_dfs = []\n",
    "\n",
    "for file in files:\n",
    "    df = pd.read_csv(file, delimiter=';')\n",
    "    # print(\"df:\\n{}\".format(df))\n",
    "    print(file)\n",
    "    # print(len(df))\n",
    "    df = df[df.vehicle_id.str.startswith('f_', na=False)]\n",
    "    # print(len(df))\n",
    "    sumo_dfs.append(df)\n",
    "    grouped = df.groupby('vehicle_id', group_keys=False)\n",
    "    # print(grouped)\n",
    "    max_accs_arr.append(grouped.apply(calc_a_max).values)\n",
    "    if \"default\" in file:\n",
    "        max_decs_arr.append(grouped.apply(calc_a_min).values)\n",
    "    else:\n",
    "        max_decs_arr.append(grouped.apply(calc_a_min_filtered).values)\n",
    "\n",
    "    max_velos = []\n",
    "    \n",
    "    for key, item in grouped:\n",
    "        max_velos.append(max(grouped.get_group(key)['vehicle_speed']))\n",
    "        \n",
    "    max_velos_arr.append(max_velos)"
   ]
  },
  {
   "cell_type": "code",
   "execution_count": 3,
   "metadata": {},
   "outputs": [],
   "source": [
    "##dachauer\n",
    "with DatabaseConnection() as cur:\n",
    "    group_q = lambda perc: f\"\"\"SELECT percentile_cont({perc}) WITHIN GROUP (ORDER BY one.avg_v) FROM (SELECT AVG(velo) as avg_v FROM accels WHERE velo > 0.2 AND velo != 'NaN' AND velo < 15 GROUP BY filename) as one\"\"\"\n",
    "    cur.execute(f\"\"\"\n",
    "            SELECT two.filename, two.max_v, one.accel, one.decel, CASE WHEN two.avg_v < ({group_q(0.25)}) THEN 0 ELSE CASE WHEN two.avg_v < ({group_q(0.75)}) THEN 1 ELSE 2 END END as group FROM (\n",
    "                SELECT filename, MAX(accel) as accel, MIN(accel) as decel FROM accels GROUP BY filename\n",
    "            ) as one JOIN (\n",
    "                SELECT filename, SUM(velo * duration)/SUM(duration) as avg_v, MAX(velo) as max_v FROM accels WHERE velo > 0.2 AND velo != 'NaN' and velo < 15 GROUP BY filename\n",
    "            ) as two ON (one.filename = two.filename) JOIN ride as r ON (one.filename = r.filename)\n",
    "            WHERE st_intersects(r.geom,\n",
    "                    st_setsrid( st_makebox2d( st_makepoint(11.5470709245,48.1589342674), st_makepoint(11.5481813591,48.1596410013)), 4326))\n",
    "                AND st_intersects(r.geom,\n",
    "                    st_setsrid( st_makebox2d( st_makepoint(11.5570192378,48.1508535494), st_makepoint(11.5581296723,48.1515603946)), 4326))\"\"\")\n",
    "    res = cur.fetchall()\n",
    "    df = pd.DataFrame(res, columns=['filename', 'max_v', 'max_accel', 'max_decel', 'group'])"
   ]
  },
  {
   "cell_type": "code",
   "execution_count": 4,
   "metadata": {},
   "outputs": [
    {
     "name": "stdout",
     "output_type": "stream",
     "text": [
      "<class 'pandas.core.frame.DataFrame'>\n",
      "Int64Index: 2 entries, 23 to 31\n",
      "Data columns (total 1 columns):\n",
      " #   Column     Non-Null Count  Dtype  \n",
      "---  ------     --------------  -----  \n",
      " 0   max_accel  2 non-null      float64\n",
      "dtypes: float64(1)\n",
      "memory usage: 32.0 bytes\n",
      "None\n",
      "<class 'pandas.core.frame.DataFrame'>\n",
      "Int64Index: 35 entries, 0 to 39\n",
      "Data columns (total 1 columns):\n",
      " #   Column     Non-Null Count  Dtype  \n",
      "---  ------     --------------  -----  \n",
      " 0   max_accel  35 non-null     float64\n",
      "dtypes: float64(1)\n",
      "memory usage: 560.0 bytes\n",
      "None\n",
      "<class 'pandas.core.frame.DataFrame'>\n",
      "Int64Index: 3 entries, 13 to 27\n",
      "Data columns (total 1 columns):\n",
      " #   Column     Non-Null Count  Dtype  \n",
      "---  ------     --------------  -----  \n",
      " 0   max_accel  3 non-null      float64\n",
      "dtypes: float64(1)\n",
      "memory usage: 48.0 bytes\n",
      "None\n"
     ]
    }
   ],
   "source": [
    "a_simra = df.query('max_accel >= 0.3')[['max_accel']]\n",
    "a_simra_slow = df.query('group == 0 and max_accel >= 0.3')[['max_accel']]\n",
    "a_simra_medium = df.query('group == 1 and max_accel >= 0.3')[['max_accel']]\n",
    "a_simra_fast = df.query('group == 2 and max_accel >= 0.3')[['max_accel']]\n",
    "print(a_simra_slow.info())\n",
    "print(a_simra_medium.info())\n",
    "print(a_simra_fast.info())\n"
   ]
  },
  {
   "cell_type": "code",
   "execution_count": 5,
   "metadata": {},
   "outputs": [],
   "source": [
    "v = df[['max_v']]\n",
    "v_slow = df.query('group == 0')[['max_v']]\n",
    "v_medium = df.query('group == 1')[['max_v']]\n",
    "v_fast = df.query('group == 2')[['max_v']]"
   ]
  },
  {
   "cell_type": "code",
   "execution_count": 6,
   "metadata": {},
   "outputs": [],
   "source": [
    "d_simra = df.query('max_decel < -0.1')[['max_decel']]\n",
    "d_simra_slow = df.query('group == 0 and max_decel < -0.1')[['max_decel']]\n",
    "d_simra_medium = df.query('group == 1 and max_decel < -0.1')[['max_decel']]\n",
    "d_simra_fast = df.query('group == 2 and max_decel < -0.1')[['max_decel']]"
   ]
  },
  {
   "cell_type": "code",
   "execution_count": 7,
   "metadata": {},
   "outputs": [],
   "source": [
    "def getNumberOfStops(df, name):\n",
    "    df = df[~(df.velo.isnull())]\n",
    "    all_stops = 0\n",
    "    df_groups = df.groupby(df.filename)\n",
    "    for key in df_groups:\n",
    "        ride = df_groups.get_group(key[0])\n",
    "        velo = ride[['velo']]\n",
    "        velo_compare = pd.concat([velo.shift(1), velo], axis=1).iloc[1:]\n",
    "        all_stops += len(velo_compare[(velo_compare.iloc[:, 0] != 0) & (velo_compare.iloc[:, 1] == 0)])\n",
    "\n",
    "    print(f\"{name} avg stops: {all_stops / len(df_groups)}\")"
   ]
  },
  {
   "cell_type": "code",
   "execution_count": 8,
   "metadata": {},
   "outputs": [],
   "source": [
    "res = build_and_execute_query((11.5570192378,48.1508535494,11.5581296723,48.1515603946), (11.5470709245,48.1589342674,11.5481813591,48.1596410013))\n",
    "df = pd.DataFrame(res, columns=['filename', 'coords', 'velo', 'dur', 'dist', 'timestamp', 'min_ts', 'max_ts', 'time_diff', 'avg_v', 'group'])"
   ]
  },
  {
   "cell_type": "code",
   "execution_count": 9,
   "metadata": {},
   "outputs": [
    {
     "name": "stdout",
     "output_type": "stream",
     "text": [
      "SimRa avg stops: 1.6666666666666667\n",
      "SUMO Default avg stops: 1.29\n",
      "Our F avg stops: 1.2733333333333334\n",
      "Our M avg stops: 1.16\n",
      "Our S avg stops: 1.7640449438202248\n",
      "Our All avg stops: 1.55\n"
     ]
    }
   ],
   "source": [
    "getNumberOfStops(df, \"SimRa\")\n",
    "getNumberOfStops(sumo_dfs[4].rename(columns={\"vehicle_speed\": \"velo\", \"vehicle_id\": \"filename\"}), \"SUMO Default\")\n",
    "getNumberOfStops(sumo_dfs[3].rename(columns={\"vehicle_speed\": \"velo\", \"vehicle_id\": \"filename\"}), \"Our F\")\n",
    "getNumberOfStops(sumo_dfs[2].rename(columns={\"vehicle_speed\": \"velo\", \"vehicle_id\": \"filename\"}), \"Our M\")\n",
    "getNumberOfStops(sumo_dfs[1].rename(columns={\"vehicle_speed\": \"velo\", \"vehicle_id\": \"filename\"}), \"Our S\")\n",
    "getNumberOfStops(sumo_dfs[0].rename(columns={\"vehicle_speed\": \"velo\", \"vehicle_id\": \"filename\"}), \"Our All\")"
   ]
  },
  {
   "cell_type": "code",
   "execution_count": 10,
   "metadata": {},
   "outputs": [],
   "source": [
    "# plotting config\n",
    "columnwidth = 3.5\n",
    "textwidth = 3.5 * 2 + 0.25\n",
    "figsize = (columnwidth * 0.97, 1.75)\n",
    "# figsize = (columnwidth * 1.94, 1.75)\n",
    "params = {\n",
    "     \"pdf.fonttype\": 42,\n",
    "     \"font.family\": \"serif\",\n",
    "     \"font.serif\": \"Linux Libertine\",\n",
    "     \"font.sans-serif\": [],\n",
    "     \"font.monospace\": [],\n",
    "     # Make the legend/label fonts a little smaller\n",
    "     \"font.size\": 8,\n",
    "     \"axes.labelsize\": 8,\n",
    "     \"axes.titlesize\": 8,\n",
    "     \"legend.fontsize\": 6,\n",
    "     \"legend.title_fontsize\": 8,\n",
    "     \"xtick.labelsize\": 7,\n",
    "     \"ytick.labelsize\": 7,\n",
    "     \"figure.figsize\": figsize,\n",
    "     \"figure.autolayout\": True,\n",
    "     # save some space around figures when saving\n",
    "     \"savefig.bbox\": \"tight\",\n",
    "     \"savefig.pad_inches\": 0.025,\n",
    "}\n",
    "pdf_params = {\n",
    "     \"text.usetex\": True,\n",
    "     \"pgf.texsystem\": \"pdflatex\",\n",
    "     \"pgf.rcfonts\": False,\n",
    "     \"pgf.preamble\": \"\\n\".join(\n",
    "         [\n",
    "             # put LaTeX preamble declarations here\n",
    "             r\"\\usepackage[utf8x]{inputenc}\",\n",
    "             r\"\\usepackage[T1]{fontenc}\",\n",
    "         ]\n",
    "     ),\n",
    "}\n",
    "# for PFG plotting:\n",
    "params.update(**pdf_params)\n",
    "plt.rcParams.update(params)"
   ]
  },
  {
   "cell_type": "code",
   "execution_count": 11,
   "metadata": {},
   "outputs": [],
   "source": [
    "def calc_stats(default, our, simra, group, type):\n",
    "    #mean, std, median - amax (fast)\n",
    "\n",
    "    print(f\"(SUMO Default) {type} - mean: \" + str(np.mean(default)))\n",
    "    print(f\"(SUMO Default) {type} - std: \" + str(np.std(default)))\n",
    "    print(f\"(SUMO Default) {type} - median: \" + str(np.median(default)))\n",
    "\n",
    "    print(f\"(Our approach - {group}) {type} - mean: \" + str(np.mean(our)))\n",
    "    print(f\"(Our approach - {group}) {type} - std: \" + str(np.std(our)))\n",
    "    print(f\"(Our approach - {group}) {type} - median: \" + str(np.median(our)))\n",
    "\n",
    "    print(f\"(SimRa - {group}) {type} - mean: \" + str(np.mean(simra)))\n",
    "    print(f\"(SimRa - {group}) {type} - std: \" + str(np.std(simra)))\n",
    "    print(f\"(SimRa - {group}) {type} - median: \" + str(np.median(simra)))"
   ]
  },
  {
   "cell_type": "code",
   "execution_count": 12,
   "metadata": {},
   "outputs": [
    {
     "data": {
      "image/png": "[encoded data removed]",
      "text/plain": [
       "<Figure size 339.5x175 with 1 Axes>"
      ]
     },
     "metadata": {},
     "output_type": "display_data"
    }
   ],
   "source": [
    "# a_max - all\n",
    "# plt.subplots(figsize = (10, 5))\n",
    "bins = np.linspace(0.5,1.3,40)\n",
    "plt.hist(max_accs_arr[4], bins=bins, label='SUMO default', color = 'red', density=True)\n",
    "plt.hist(max_accs_arr[0], bins=bins, label='Our approach (All)', color = 'black', density=True, alpha=0.7)\n",
    "plt.hist(a_simra.values.flatten(), bins=bins, label='SimRa (All)', color = 'black', density=True, alpha=0.3)\n",
    "plt.ylim(0,10)\n",
    "plt.xlim(0.5,1.265)\n",
    "plt.ylabel('Rel. frequency')\n",
    "plt.legend()\n",
    "plt.xlabel(r'$a_{max}$ in m/s²')\n",
    "# plt.savefig('images/sim_dachauer_acc_all.pdf', bbox_inches='tight')\n",
    "plt.show()\n"
   ]
  },
  {
   "cell_type": "code",
   "execution_count": 13,
   "metadata": {},
   "outputs": [
    {
     "data": {
      "image/png": "[encoded data removed]",
      "text/plain": [
       "<Figure size 339.5x175 with 1 Axes>"
      ]
     },
     "metadata": {},
     "output_type": "display_data"
    }
   ],
   "source": [
    "# a_max - everything\n",
    "# plt.subplots(figsize = (10, 5))\n",
    "red = matplotlib.colors.to_rgba('red', alpha=1)\n",
    "grey = matplotlib.colors.to_rgba('grey', alpha=0.7)\n",
    "lightgrey = matplotlib.colors.to_rgba('grey', alpha=0.3)\n",
    "blue = matplotlib.colors.to_rgba('blue', alpha=0.7)\n",
    "lightblue = matplotlib.colors.to_rgba('blue', alpha=0.3)\n",
    "green = matplotlib.colors.to_rgba('green', alpha=0.7)\n",
    "lightgreen = matplotlib.colors.to_rgba('green', alpha=0.3)\n",
    "orange = matplotlib.colors.to_rgba('darkorange', alpha=0.7)\n",
    "lightorange = matplotlib.colors.to_rgba('darkorange', alpha=0.3)\n",
    "colors = [red, grey, lightgrey, blue, lightblue, green, lightgreen, orange, lightorange]\n",
    "plt.hist([max_accs_arr[4], max_accs_arr[0], a_simra.values.flatten(), max_accs_arr[1], a_simra_slow.values.flatten(), max_accs_arr[2], a_simra_medium.values.flatten(), max_accs_arr[3], a_simra_fast.values.flatten()], bins = 15, label=['SUMO default', 'Our approach (All)', 'SimRa (All)', 'Our approach (Slow)', 'SimRa (Slow)', 'Our approach (Medium)', 'SimRa (Medium)' 'Our approach (Fast)', 'SimRa (Fast)'], color = colors, density=True)\n",
    "plt.legend()\n",
    "plt.ylim(0,10)\n",
    "# plt.xlim(0.5,1.265)\n",
    "plt.ylabel('Rel. frequency')\n",
    "plt.xlabel(r'$a_{max}$ in m/s²')\n",
    "plt.savefig('images/sim_dachauer_acc_everything.pdf', bbox_inches='tight')\n",
    "plt.show()"
   ]
  },
  {
   "cell_type": "code",
   "execution_count": 14,
   "metadata": {},
   "outputs": [
    {
     "data": {
      "image/png": "[encoded data removed]",
      "text/plain": [
       "<Figure size 339.5x175 with 1 Axes>"
      ]
     },
     "metadata": {},
     "output_type": "display_data"
    }
   ],
   "source": [
    "# a_max - all\n",
    "# plt.subplots(figsize = (10, 5))\n",
    "red = matplotlib.colors.to_rgba('red', alpha=1)\n",
    "grey = matplotlib.colors.to_rgba('grey', alpha=0.7)\n",
    "lightgrey = matplotlib.colors.to_rgba('grey', alpha=0.3)\n",
    "colors = [red, grey, lightgrey]\n",
    "plt.hist([max_accs_arr[4], max_accs_arr[0], a_simra.values.flatten()], bins = 55, label=['SUMO default', 'Our approach (All)', 'SimRa (All)'], color = colors, density=True)\n",
    "plt.legend()\n",
    "plt.ylim(0,10)\n",
    "plt.xlim(0.5,1.265)\n",
    "plt.ylabel('Rel. frequency')\n",
    "plt.xlabel(r'$a_{max}$ in m/s²')\n",
    "plt.savefig('images/sim_dachauer_acc_all.pdf', bbox_inches='tight')\n",
    "plt.show()"
   ]
  },
  {
   "cell_type": "code",
   "execution_count": 15,
   "metadata": {},
   "outputs": [
    {
     "data": {
      "image/png": "[encoded data removed]",
      "text/plain": [
       "<Figure size 339.5x175 with 1 Axes>"
      ]
     },
     "metadata": {},
     "output_type": "display_data"
    }
   ],
   "source": [
    "# a_max - slow\n",
    "# plt.subplots(figsize = (10, 5))\n",
    "red = matplotlib.colors.to_rgba('red', alpha=1)\n",
    "blue = matplotlib.colors.to_rgba('blue', alpha=0.7)\n",
    "lightblue = matplotlib.colors.to_rgba('blue', alpha=0.3)\n",
    "colors = [red, blue, lightblue]\n",
    "plt.hist([max_accs_arr[4], max_accs_arr[1], a_simra_slow.values.flatten()], bins = 55, label=['SUMO default', r'Our approach ($s$)', r'SimRa ($s$)'], color = colors, density=True)\n",
    "plt.legend()\n",
    "plt.ylim(0,10)\n",
    "plt.xlim(0.5,1.265)\n",
    "plt.ylabel('Rel. frequency')\n",
    "plt.xlabel(r'$a_{max}$ in m/s²')\n",
    "plt.savefig('images/sim_dachauer_acc_slow.pdf', bbox_inches='tight')\n",
    "plt.show()\n"
   ]
  },
  {
   "cell_type": "code",
   "execution_count": 53,
   "metadata": {},
   "outputs": [
    {
     "data": {
      "image/png": "[encoded data removed]",
      "text/plain": [
       "<Figure size 339.5x175 with 1 Axes>"
      ]
     },
     "metadata": {},
     "output_type": "display_data"
    }
   ],
   "source": [
    "# a_max - medium\n",
    "# plt.subplots(figsize = (10, 5))\n",
    "red = matplotlib.colors.to_rgba('red', alpha=1)\n",
    "green = matplotlib.colors.to_rgba('green', alpha=0.7)\n",
    "lightgreen = matplotlib.colors.to_rgba('green', alpha=0.3)\n",
    "colors = [red, green, lightgreen]\n",
    "plt.hist([max_accs_arr[4], max_accs_arr[2], a_simra_medium.values.flatten()], bins = 35, label=['SUMO default', 'Our approach (Medium)', 'SimRa (Medium)'], color = colors, density=True)\n",
    "plt.legend()\n",
    "plt.ylim(0,10)\n",
    "plt.xlim(0.5,1.265)\n",
    "plt.ylabel('Rel. frequency')\n",
    "plt.xlabel(r'$a_{max}$ in m/s²')\n",
    "plt.savefig('images/sim_dachauer_acc_medium.pdf', bbox_inches='tight')\n",
    "plt.show()"
   ]
  },
  {
   "cell_type": "code",
   "execution_count": 54,
   "metadata": {},
   "outputs": [
    {
     "data": {
      "image/png": "[encoded data removed]",
      "text/plain": [
       "<Figure size 339.5x175 with 1 Axes>"
      ]
     },
     "metadata": {},
     "output_type": "display_data"
    }
   ],
   "source": [
    "# a_max - fast\n",
    "# plt.subplots(figsize = (10, 5))\n",
    "red = matplotlib.colors.to_rgba('red', alpha=1)\n",
    "orange = matplotlib.colors.to_rgba('darkorange', alpha=0.7)\n",
    "lightorange = matplotlib.colors.to_rgba('darkorange', alpha=0.3)\n",
    "colors = [red, orange, lightorange]\n",
    "plt.hist([max_accs_arr[4], max_accs_arr[3], a_simra_fast.values.flatten()], bins = 35, label=['SUMO default', 'Our approach (Fast)', 'SimRa (Fast)'], color = colors, density=True)\n",
    "plt.legend()\n",
    "plt.ylim(0,10)\n",
    "plt.xlim(0.5,1.6)\n",
    "plt.ylabel('Rel. frequency')\n",
    "plt.xlabel(r'$a_{max}$ in m/s²')\n",
    "plt.savefig('images/sim_dachauer_acc_fast.pdf', bbox_inches='tight')\n",
    "plt.show()"
   ]
  },
  {
   "cell_type": "code",
   "execution_count": 55,
   "metadata": {},
   "outputs": [
    {
     "data": {
      "image/png": "[encoded data removed]",
      "text/plain": [
       "<Figure size 339.5x175 with 1 Axes>"
      ]
     },
     "metadata": {},
     "output_type": "display_data"
    }
   ],
   "source": [
    "# v_max - all\n",
    "# plt.subplots(figsize = (10, 5))\n",
    "red = matplotlib.colors.to_rgba('red', alpha=1)\n",
    "grey = matplotlib.colors.to_rgba('grey', alpha=0.7)\n",
    "lightgrey = matplotlib.colors.to_rgba('grey', alpha=0.3)\n",
    "colors = [red, grey, lightgrey]\n",
    "plt.hist([max_velos_arr[4], max_velos_arr[0], v.values.flatten()], bins = 10, label=['SUMO default', 'Our approach (All)', 'SimRa (All)'], color = colors, density=True)\n",
    "plt.legend()\n",
    "plt.ylim(0,2.0)\n",
    "plt.ylabel('Rel. frequency')\n",
    "plt.xlabel(r'$v_{max}$ in m/s')\n",
    "plt.savefig('images/sim_dachauer_vel_all.pdf', bbox_inches='tight')\n",
    "plt.show()"
   ]
  },
  {
   "cell_type": "code",
   "execution_count": 56,
   "metadata": {},
   "outputs": [
    {
     "data": {
      "image/png": "[encoded data removed]",
      "text/plain": [
       "<Figure size 339.5x175 with 1 Axes>"
      ]
     },
     "metadata": {},
     "output_type": "display_data"
    }
   ],
   "source": [
    "# v_max - slow\n",
    "# plt.subplots(figsize = (10, 5))\n",
    "red = matplotlib.colors.to_rgba('red', alpha=1)\n",
    "blue = matplotlib.colors.to_rgba('blue', alpha=0.7)\n",
    "lightblue = matplotlib.colors.to_rgba('blue', alpha=0.3)\n",
    "colors = [red, blue, lightblue]\n",
    "plt.hist([max_velos_arr[4], max_velos_arr[1], v_slow.values.flatten()], bins = 15, label=['SUMO default', 'Our approach (Slow)', 'SimRa (Slow)'], color = colors, density=True)\n",
    "plt.legend()\n",
    "plt.ylim(0,2.0)\n",
    "plt.ylabel('Rel. frequency')\n",
    "plt.xlabel(r'$v_{max}$ in m/s')\n",
    "plt.savefig('images/sim_dachauer_vel_slow.pdf', bbox_inches='tight')\n",
    "plt.show()"
   ]
  },
  {
   "cell_type": "code",
   "execution_count": 57,
   "metadata": {},
   "outputs": [
    {
     "data": {
      "image/png": "[encoded data removed]",
      "text/plain": [
       "<Figure size 339.5x175 with 1 Axes>"
      ]
     },
     "metadata": {},
     "output_type": "display_data"
    }
   ],
   "source": [
    "# v_max - medium\n",
    "# plt.subplots(figsize = (10, 5))\n",
    "red = matplotlib.colors.to_rgba('red', alpha=1)\n",
    "green = matplotlib.colors.to_rgba('green', alpha=0.7)\n",
    "lightgreen = matplotlib.colors.to_rgba('green', alpha=0.3)\n",
    "colors = [red, green, lightgreen]\n",
    "plt.hist([max_velos_arr[4], max_velos_arr[2], v_medium.values.flatten()], bins = 15, label=['SUMO default', 'Our approach (Medium)', 'SimRa (Medium)'], color = colors, density=True)\n",
    "plt.legend()\n",
    "plt.ylim(0,2.0)\n",
    "# plt.xlim(5.4,8.1)\n",
    "plt.ylabel('Rel. frequency')\n",
    "plt.xlabel(r'$v_{max}$ in m/s')\n",
    "plt.savefig('images/sim_dachauer_vel_medium.pdf', bbox_inches='tight')\n",
    "plt.show()"
   ]
  },
  {
   "cell_type": "code",
   "execution_count": 58,
   "metadata": {},
   "outputs": [
    {
     "data": {
      "image/png": "[encoded data removed]",
      "text/plain": [
       "<Figure size 339.5x175 with 1 Axes>"
      ]
     },
     "metadata": {},
     "output_type": "display_data"
    }
   ],
   "source": [
    "# v_max - fast\n",
    "# plt.subplots(figsize = (10, 5))\n",
    "red = matplotlib.colors.to_rgba('red', alpha=1)\n",
    "orange = matplotlib.colors.to_rgba('darkorange', alpha=0.7)\n",
    "lightorange = matplotlib.colors.to_rgba('darkorange', alpha=0.3)\n",
    "colors = [red, orange, lightorange]\n",
    "plt.hist([max_velos_arr[4], max_velos_arr[3], v_fast.values.flatten()], bins = 15, label=['SUMO default', r'Our approach ($f$)', r'SimRa ($f$)'], color = colors, density=True)\n",
    "plt.legend()\n",
    "plt.ylim(0,2.0)\n",
    "# plt.xlim(5.4,8.1)\n",
    "plt.ylabel('Rel. frequency')\n",
    "plt.xlabel(r'$v_{max}$ in m/s')\n",
    "plt.savefig('images/sim_dachauer_vel_fast.pdf', bbox_inches='tight')\n",
    "plt.show()"
   ]
  },
  {
   "cell_type": "code",
   "execution_count": 59,
   "metadata": {},
   "outputs": [
    {
     "data": {
      "image/png": "[encoded data removed]",
      "text/plain": [
       "<Figure size 339.5x175 with 1 Axes>"
      ]
     },
     "metadata": {},
     "output_type": "display_data"
    },
    {
     "name": "stdout",
     "output_type": "stream",
     "text": [
      "(SUMO Default) dmax - mean: 2.66435118\n",
      "(SUMO Default) dmax - std: 0.5071632420067274\n",
      "(SUMO Default) dmax - median: 2.774125\n",
      "(Our approach - all) dmax - mean: 1.07100594\n",
      "(Our approach - all) dmax - std: 0.33589894285221616\n",
      "(Our approach - all) dmax - median: 1.086\n",
      "(SimRa - all) dmax - mean: 0.9776508953108621\n",
      "(SimRa - all) dmax - std: 0.11096426612592673\n",
      "(SimRa - all) dmax - median: 0.9690387819945497\n"
     ]
    }
   ],
   "source": [
    "# d_max - all\n",
    "# plt.subplots(figsize = (10, 5))\n",
    "red = matplotlib.colors.to_rgba('red', alpha=1)\n",
    "grey = matplotlib.colors.to_rgba('grey', alpha=0.7)\n",
    "lightgrey = matplotlib.colors.to_rgba('grey', alpha=0.3)\n",
    "colors = [red, grey, lightgrey]\n",
    "plt.hist([np.absolute(max_decs_arr[4]), np.absolute(max_decs_arr[0]), np.absolute(d_simra.values.flatten())], bins = 15, label=['SUMO default', 'Our approach (All)', 'SimRa (All)'], color = colors, density=True)\n",
    "plt.legend()\n",
    "plt.ylim(0,5)\n",
    "plt.ylabel('Rel. frequency')\n",
    "plt.xlabel(r'$d_{max}$ in m/s²')\n",
    "plt.savefig('images/sim_dachauer_dec_all.pdf', bbox_inches='tight')\n",
    "plt.show()\n",
    "calc_stats(np.absolute(max_decs_arr[4]), np.absolute(max_decs_arr[0]), np.absolute(d_simra.values.flatten()), \"all\", \"dmax\")"
   ]
  },
  {
   "cell_type": "code",
   "execution_count": 60,
   "metadata": {},
   "outputs": [
    {
     "data": {
      "image/png": "[encoded data removed]",
      "text/plain": [
       "<Figure size 339.5x175 with 1 Axes>"
      ]
     },
     "metadata": {},
     "output_type": "display_data"
    }
   ],
   "source": [
    "# d_max - slow\n",
    "# plt.subplots(figsize = (10, 5))\n",
    "red = matplotlib.colors.to_rgba('red', alpha=1)\n",
    "blue = matplotlib.colors.to_rgba('blue', alpha=0.7)\n",
    "lightblue = matplotlib.colors.to_rgba('blue', alpha=0.3)\n",
    "colors = [red, blue, lightblue]\n",
    "plt.hist([np.absolute(max_decs_arr[4]), np.absolute(max_decs_arr[1]), np.absolute(d_simra_slow.values.flatten())], bins = 15, label=['SUMO default', 'Our approach (Slow)', 'SimRa (Slow)'], color = colors, density=True)\n",
    "plt.legend()\n",
    "plt.ylim(0,5)\n",
    "plt.ylabel('Rel. frequency')\n",
    "plt.xlabel(r'$d_{max}$ in m/s²')\n",
    "plt.savefig('images/sim_dachauer_dec_slow.pdf', bbox_inches='tight')\n",
    "plt.show()"
   ]
  },
  {
   "cell_type": "code",
   "execution_count": 61,
   "metadata": {},
   "outputs": [
    {
     "data": {
      "image/png": "[encoded data removed]",
      "text/plain": [
       "<Figure size 339.5x175 with 1 Axes>"
      ]
     },
     "metadata": {},
     "output_type": "display_data"
    },
    {
     "name": "stdout",
     "output_type": "stream",
     "text": [
      "(SUMO Default) dmax - mean: 2.66435118\n",
      "(SUMO Default) dmax - std: 0.5071632420067274\n",
      "(SUMO Default) dmax - median: 2.774125\n",
      "(Our approach - medium) dmax - mean: 0.9493306733333333\n",
      "(Our approach - medium) dmax - std: 0.3620495120057568\n",
      "(Our approach - medium) dmax - median: 0.934247\n",
      "(SimRa - medium) dmax - mean: 0.9731990028311299\n",
      "(SimRa - medium) dmax - std: 0.10006818889724349\n",
      "(SimRa - medium) dmax - median: 0.982545003715045\n"
     ]
    }
   ],
   "source": [
    "# d_max - medium\n",
    "# plt.subplots(figsize = (10, 5))\n",
    "red = matplotlib.colors.to_rgba('red', alpha=1)\n",
    "green = matplotlib.colors.to_rgba('green', alpha=0.7)\n",
    "lightgreen = matplotlib.colors.to_rgba('green', alpha=0.3)\n",
    "colors = [red, green, lightgreen]\n",
    "plt.hist([np.absolute(max_decs_arr[4]), np.absolute(max_decs_arr[2]), np.absolute(d_simra_medium.values.flatten())], bins = 15, label=['SUMO default', r'Our approach ($m$)', r'SimRa ($m$)'], color = colors, density=True)\n",
    "plt.legend()\n",
    "plt.ylim(0,5)\n",
    "plt.ylabel('Rel. frequency')\n",
    "plt.xlabel(r'$d_{max}$ in m/s²')\n",
    "plt.savefig('images/sim_dachauer_dec_medium.pdf', bbox_inches='tight')\n",
    "plt.show()\n",
    "#take - 3427 cars, 300 bikes, 1204m (SUMO)\n",
    "calc_stats(np.absolute(max_decs_arr[4]), np.absolute(max_decs_arr[2]), np.absolute(d_simra_medium.values.flatten()), \"medium\", \"dmax\")"
   ]
  },
  {
   "cell_type": "code",
   "execution_count": 62,
   "metadata": {},
   "outputs": [
    {
     "data": {
      "image/png": "[encoded data removed]",
      "text/plain": [
       "<Figure size 339.5x175 with 1 Axes>"
      ]
     },
     "metadata": {},
     "output_type": "display_data"
    },
    {
     "name": "stdout",
     "output_type": "stream",
     "text": [
      "(SUMO Default) dmax - mean: 2.66435118\n",
      "(SUMO Default) dmax - std: 0.5071632420067274\n",
      "(SUMO Default) dmax - median: 2.774125\n",
      "(Our approach - fast) dmax - mean: 1.0753273666666667\n",
      "(Our approach - fast) dmax - std: 0.3582274330431515\n",
      "(Our approach - fast) dmax - median: 1.0944730000000007\n",
      "(SimRa - fast) dmax - mean: 1.071569849817253\n",
      "(SimRa - fast) dmax - std: 0.18638913081344183\n",
      "(SimRa - fast) dmax - median: 0.9687024392085885\n"
     ]
    }
   ],
   "source": [
    "# d_max - fast\n",
    "# plt.subplots(figsize = (10, 5))\n",
    "red = matplotlib.colors.to_rgba('red', alpha=1)\n",
    "orange = matplotlib.colors.to_rgba('darkorange', alpha=0.7)\n",
    "lightorange = matplotlib.colors.to_rgba('darkorange', alpha=0.3)\n",
    "colors = [red, orange, lightorange]\n",
    "plt.hist([np.absolute(max_decs_arr[4]), np.absolute(max_decs_arr[3]), np.absolute(d_simra_medium.values.flatten())], bins = 15, label=['SUMO default', 'Our approach (Fast)', 'SimRa (Fast)'], color = colors, density=True)\n",
    "plt.legend()\n",
    "plt.ylim(0,5)\n",
    "plt.ylabel('Rel. frequency')\n",
    "plt.xlabel(r'$d_{max}$ in m/s²')\n",
    "plt.savefig('images/sim_dachauer_dec_fast.pdf', bbox_inches='tight')\n",
    "plt.show()\n",
    "calc_stats(np.absolute(max_decs_arr[4]), np.absolute(max_decs_arr[3]), np.absolute(d_simra_fast.values.flatten()), \"fast\", \"dmax\")"
   ]
  }
 ],
 "metadata": {
  "kernelspec": {
   "display_name": "Python 3.8.10 64-bit",
   "language": "python",
   "name": "python3"
  },
  "language_info": {
   "codemirror_mode": {
    "name": "ipython",
    "version": 3
   },
   "file_extension": ".py",
   "mimetype": "text/x-python",
   "name": "python",
   "nbconvert_exporter": "python",
   "pygments_lexer": "ipython3",
   "version": "3.10.6 (main, Nov 14 2022, 16:10:14) [GCC 11.3.0]"
  },
  "vscode": {
   "interpreter": {
    "hash": "916dbcbb3f70747c44a77c7bcd40155683ae19c65e1c03b4aa3499c5328201f1"
   }
  }
 },
 "nbformat": 4,
 "nbformat_minor": 4
}
