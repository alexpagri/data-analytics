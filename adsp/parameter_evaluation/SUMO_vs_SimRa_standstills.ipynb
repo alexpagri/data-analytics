{
 "cells": [
  {
   "cell_type": "code",
   "execution_count": null,
   "metadata": {},
   "outputs": [],
   "source": [
    "from ast import literal_eval\n",
    "from typing import Dict, List, Tuple\n",
    "\n",
    "import numpy as np\n",
    "import pandas as pd\n",
    "import matplotlib.pyplot as plt\n",
    "from matplotlib import rc\n",
    "from matplotlib import ticker\n",
    "from sklearn.cluster import KMeans\n",
    "from shapely.geometry import box, Point\n",
    "import contextily as cx\n",
    "\n",
    "import sys\n",
    "sys.path.append('..')\n",
    "from db_utils import get_rect_to_rect_data, DatabaseConnection"
   ]
  },
  {
   "cell_type": "code",
   "execution_count": null,
   "metadata": {},
   "outputs": [],
   "source": [
    "# use this style for better visibility in histograms\n",
    "plt.style.use('seaborn-white')\n",
    "plt_kwargs = dict(histtype='stepfilled', alpha=0.3, density=True, ec=\"k\")\n",
    "\n",
    "# latex style plot font\n",
    "rc('font', **{'family': 'serif', 'serif': ['Computer Modern'], 'size': 16})\n",
    "rc('text', usetex=True)"
   ]
  },
  {
   "cell_type": "code",
   "execution_count": null,
   "metadata": {},
   "outputs": [],
   "source": [
    "# sumo_sim_file = \"./sim_data/prinzenstr_new_params.csv\"\n",
    "# sumo_sim_file = \"./sim_data/oranienstr_new_params.csv\"\n",
    "sumo_sim_file = \"../../parameterization_eval/sim_data/prinzenstr_new_params.csv\""
   ]
  },
  {
   "cell_type": "code",
   "execution_count": null,
   "metadata": {},
   "outputs": [],
   "source": [
    "# Oranienstr\n",
    "# start_rect_coords = (13.426,52.4991, 13.4264,52.4998)\n",
    "# end_rect_coords = (13.4112,52.5031, 13.4117,52.5039)\n",
    "\n",
    "# Prinzenstr\n",
    "start_rect_coords = (13.4154,52.5102,13.4168,52.5108)\n",
    "end_rect_coords = (13.4062,52.4987,13.4081,52.4994)"
   ]
  },
  {
   "cell_type": "code",
   "execution_count": null,
   "metadata": {},
   "outputs": [],
   "source": [
    "df_simra = get_rect_to_rect_data(start_rect_coords, end_rect_coords)\n",
    "df_simra_paths = df_simra[['filename', 'ts', 'lon', 'lat', 'velo']]\n",
    "df_simra_paths.rename({'filename': 'ride_id'}, axis='columns', inplace=True)"
   ]
  },
  {
   "cell_type": "code",
   "execution_count": null,
   "metadata": {},
   "outputs": [],
   "source": [
    "df_sumo = pd.read_csv(sumo_sim_file, delimiter=';')\n",
    "df_sumo_paths = df_sumo[['vehicle_id', 'timestep_time', 'vehicle_x', 'vehicle_y', 'vehicle_speed']]\n",
    "df_sumo_paths.rename({'vehicle_id': 'ride_id', 'timestep_time': 'ts', 'vehicle_x': 'lon', 'vehicle_y': 'lat', 'vehicle_speed': 'velo'}, axis='columns', inplace=True)"
   ]
  },
  {
   "cell_type": "code",
   "execution_count": null,
   "metadata": {},
   "outputs": [],
   "source": [
    "n_rides = {'SUMO': len(df_sumo_paths.groupby('ride_id')), 'SimRa': len(df_simra_paths.groupby('ride_id'))}\n",
    "\n",
    "print(f\"Number of rides: {n_rides['SUMO']}\")"
   ]
  },
  {
   "cell_type": "code",
   "execution_count": null,
   "metadata": {},
   "outputs": [],
   "source": [
    "start_rect = box(*start_rect_coords)\n",
    "end_rect = box(*end_rect_coords)\n",
    "\n",
    "def get_indices_to_delete(ride_group):\n",
    "    \n",
    "    mask_first = ride_group.apply(lambda coord: start_rect.contains(Point(coord['lon'], coord['lat'])), axis=1)\n",
    "    mask_end = ride_group.apply(lambda coord: end_rect.contains(Point(coord['lon'], coord['lat'])), axis=1)    \n",
    "    try:\n",
    "        start_idx = mask_first[mask_first==True].index[0]\n",
    "        end_idx = mask_end[mask_end==True].index[-1]\n",
    "        return [idx for idx in ride_group.index if idx < start_idx or idx > end_idx]\n",
    "    except: \n",
    "        # probably vehicle (ride) does not arrive in end box because simulation ended beforehand\n",
    "        return list(ride_group.index)\n",
    "\n",
    "grouped = df_sumo_paths.groupby('ride_id')\n",
    "for _, ride_group in grouped:\n",
    "    indices_to_delete = get_indices_to_delete(ride_group)\n",
    "    df_sumo_paths.drop(index=get_indices_to_delete(ride_group), inplace=True)"
   ]
  },
  {
   "cell_type": "code",
   "execution_count": null,
   "metadata": {},
   "outputs": [],
   "source": [
    "df_simra_paths.velo.hist(label='SimRa', **plt_kwargs)\n",
    "df_sumo_paths.velo.hist(color='orange', label='SUMO', **plt_kwargs)\n",
    "plt.legend()\n",
    "plt.title('Time-step velocities')\n",
    "plt.xlabel('Velocity in m/s')\n",
    "plt.ylabel('Relative frequency')\n",
    "plt.savefig('images/stillstand_analysis/simra_vs_sumo_velos.png', transparent=True)"
   ]
  },
  {
   "cell_type": "code",
   "execution_count": null,
   "metadata": {},
   "outputs": [],
   "source": [
    "def plot_ride_paths(ride_data: Dict[str, pd.DataFrame]):\n",
    "    fig, ax = plt.subplots(figsize=(12, 12))\n",
    "    ax.set_aspect(1.5)\n",
    "    \n",
    "    colors = ['blue', 'orange', 'green', 'pink']\n",
    "\n",
    "    # plot rides for each dataframe\n",
    "    for data_idx, (data_name, df) in enumerate(ride_data.items()):\n",
    "        df_grouped = df.groupby('ride_id')\n",
    "        for ride_group_name in df_grouped.groups:\n",
    "            df_ride_group = df_grouped.get_group(ride_group_name)\n",
    "            ax.plot(df_ride_group.lon, df_ride_group.lat, color=colors[data_idx], label=data_name, linewidth=1)\n",
    "            # add labels to legend \n",
    "\n",
    "    x_min = min(min(df.lon) for df in ride_data.values())\n",
    "    x_max = max(max(df.lon) for df in ride_data.values())\n",
    "    y_min = min(min(df.lat) for df in ride_data.values())\n",
    "    y_max = max(max(df.lat) for df in ride_data.values())\n",
    "    ax.set_xlim(x_min, x_max)\n",
    "    ax.set_ylim(y_min, y_max)\n",
    "\n",
    "    ax.xaxis.set_major_locator(ticker.LinearLocator(4))\n",
    "    ax.xaxis.set_major_formatter(ticker.ScalarFormatter(useOffset=False))\n",
    "    ax.yaxis.set_major_locator(ticker.LinearLocator(4))\n",
    "    ax.yaxis.set_major_formatter(ticker.ScalarFormatter(useOffset=False))\n",
    "    ax.set_xlabel('Longitude in decimal degrees')\n",
    "    ax.set_ylabel('Latitude in decimal degrees')\n",
    "\n",
    "    # plt.savefig('simra_vs_sumo_ride_path.png', transparent=True)\n",
    "    # plt.legend()\n",
    "    plt.show()"
   ]
  },
  {
   "cell_type": "code",
   "execution_count": null,
   "metadata": {},
   "outputs": [],
   "source": [
    "ride_data = {'SimRa': df_simra_paths, 'SUMO': df_sumo_paths}"
   ]
  },
  {
   "cell_type": "code",
   "execution_count": null,
   "metadata": {},
   "outputs": [],
   "source": [
    "plot_ride_paths(ride_data)"
   ]
  },
  {
   "cell_type": "code",
   "execution_count": null,
   "metadata": {},
   "outputs": [],
   "source": [
    "velo_threshold = 1\n",
    "length_threshold = 0"
   ]
  },
  {
   "cell_type": "code",
   "execution_count": null,
   "metadata": {},
   "outputs": [],
   "source": [
    "def plot_standstills(ride_data: Dict[str, pd.DataFrame], cluster_centers: List[np.array] = None, point_size: int = 1):\n",
    "    fig, ax = plt.subplots(figsize=(20, 20))\n",
    "    ax.set_aspect(1.7)\n",
    "\n",
    "    colors = ['blue', 'orange', 'green', 'pink']\n",
    "\n",
    "    # plot rides for each dataframe\n",
    "    for data_idx, (data_name, df) in enumerate(ride_data.items()):\n",
    "        df = df[df.velo < velo_threshold]\n",
    "        ax.scatter(df.lon, df.lat, color=colors[data_idx], label=data_name, linewidth=point_size)\n",
    "\n",
    "    if cluster_centers:\n",
    "        cluster_centers_stacked = np.vstack(cluster_centers)\n",
    "        ax.scatter(cluster_centers_stacked[:,0], cluster_centers_stacked[:,1], color='red', label='cluster center', linewidth=point_size)\n",
    "\n",
    "    # ax.xaxis.set_major_locator(ticker.LinearLocator(8))\n",
    "    ax.xaxis.set_major_formatter(ticker.ScalarFormatter(useOffset=False))\n",
    "    # ax.yaxis.set_major_locator(ticker.LinearLocator(8))\n",
    "    ax.yaxis.set_major_formatter(ticker.ScalarFormatter(useOffset=False))\n",
    "    ax.set_xlabel('Longitude in decimal degrees')\n",
    "    ax.set_ylabel('Latitude in decimal degrees')\n",
    "\n",
    "    cx.add_basemap(ax, crs='EPSG:4326', source=cx.providers.Stamen.Toner)\n",
    "    # ax.set_xlim(rect_coords[0], rect_coords[2])\n",
    "    # ax.set_ylim(rect_coords[1], rect_coords[3])\n",
    "\n",
    "    ax.set_aspect(1.7)\n",
    "\n",
    "    plt.legend()\n",
    "    plt.savefig('images/stillstand_analysis/simra_vs_sumo_stillstand-locations.png', transparent=True, bbox_inches='tight')\n",
    "    plt.show()"
   ]
  },
  {
   "cell_type": "code",
   "execution_count": null,
   "metadata": {},
   "outputs": [],
   "source": [
    "plot_standstills(ride_data, point_size=10)"
   ]
  },
  {
   "cell_type": "code",
   "execution_count": null,
   "metadata": {},
   "outputs": [],
   "source": [
    "def get_kmeans_cluster_centers(features: List[np.ndarray], n_clusters: int):\n",
    "    kmeans = KMeans(n_clusters=n_clusters, random_state=749)\n",
    "\n",
    "    features_combined = np.hstack(features)\n",
    "    cluster_labels = kmeans.fit_predict(features_combined)\n",
    "    cluster_centers = kmeans.cluster_centers_\n",
    "\n",
    "    return sorted(cluster_centers, key=lambda point: point[0])"
   ]
  },
  {
   "cell_type": "code",
   "execution_count": null,
   "metadata": {},
   "outputs": [],
   "source": [
    "def get_standstills(df: pd.DataFrame) -> List[int]:\n",
    "    grouped = df.groupby('ride_id')\n",
    "\n",
    "    standstills = []\n",
    "    for _, ride_group in grouped:\n",
    "        first_standstill_ts = None\n",
    "        for row_idx, row in ride_group.iterrows():\n",
    "            if row.velo < velo_threshold and not first_standstill_ts:\n",
    "                first_standstill_ts = row.ts\n",
    "            elif row.velo >= velo_threshold and first_standstill_ts:\n",
    "                standstill_length = row.ts - first_standstill_ts\n",
    "                if isinstance(standstill_length, pd.Timedelta):\n",
    "                    standstill_length = standstill_length.total_seconds()\n",
    "                \n",
    "                if standstill_length > length_threshold:\n",
    "                    standstills.append((standstill_length, (row.lon, row.lat)))\n",
    "                \n",
    "                first_standstill_ts = None\n",
    "\n",
    "    return standstills\n",
    "\n",
    "standstills = {}\n",
    "standstill_cluster_centers = {}\n",
    "for data_name, df in ride_data.items():\n",
    "    standstills[data_name] = get_standstills(df)\n",
    "    standstill_coords = list(list(zip(*standstills[data_name]))[1])\n",
    "    standstill_lons = np.array(list(zip(*standstill_coords))[0]).reshape(-1, 1)\n",
    "    standstill_lats = np.array(list(zip(*standstill_coords))[1]).reshape(-1, 1)\n",
    "    standstill_cluster_centers[data_name] = get_kmeans_cluster_centers([standstill_lons, standstill_lats], n_clusters=3)\n",
    "\n",
    "for data_name, standstills_ in standstills.items():\n",
    "    print(f\"Total number of standstills in {data_name}: {len(standstills_)}\")\n",
    "\n",
    "for data_name, standstill_cluster_centers_ in  standstill_cluster_centers.items():\n",
    "    print(f\"{data_name} standstill cluster centers:\\n{standstill_cluster_centers_}\")\n",
    "    "
   ]
  },
  {
   "cell_type": "code",
   "execution_count": null,
   "metadata": {},
   "outputs": [],
   "source": [
    "plot_standstills(ride_data, cluster_centers=standstill_cluster_centers['SUMO'])"
   ]
  },
  {
   "cell_type": "code",
   "execution_count": null,
   "metadata": {},
   "outputs": [],
   "source": [
    "for data_name, standstills_ in standstills.items():    \n",
    "        standstill_lengths = list(zip(*standstills_))[0]\n",
    "        plt.hist(standstill_lengths, label=data_name, **plt_kwargs)\n",
    "\n",
    "plt.grid(True)\n",
    "plt.legend()\n",
    "plt.title('Stillstand durations')\n",
    "plt.xlabel('Duration in s')\n",
    "plt.ylabel('Relative frequency')\n",
    "plt.savefig('images/stillstand_analysis/simra_vs_sumo_stillstand-durations.png', transparent=True)"
   ]
  },
  {
   "cell_type": "code",
   "execution_count": null,
   "metadata": {},
   "outputs": [],
   "source": [
    "def point_to_box_coords(point_coords: Tuple[float], offset: float = 0.002):\n",
    "    return (point_coords[0] - offset, point_coords[1] - offset * 1.5 , point_coords[0] + offset, point_coords[1] + offset * 1.5)\n",
    "\n",
    "standstills_filtered_by_cluster = []\n",
    "for cluster_idx, cluster_center in enumerate(standstill_cluster_centers['SUMO']):\n",
    "    cluster_center_box = box(*point_to_box_coords(cluster_center))\n",
    "    standstills_filtered_by_cluster.append({data_name: [s for s in standstills_ if cluster_center_box.contains(Point(*s[1]))] for data_name, standstills_ in standstills.items()})"
   ]
  },
  {
   "cell_type": "code",
   "execution_count": null,
   "metadata": {},
   "outputs": [],
   "source": [
    "def plot_filtered_standstills(ride_data: Dict[str, List[Tuple[float, Tuple[float, float]]]]):\n",
    "    fig, ax = plt.subplots(figsize=(12, 12))\n",
    "    ax.set_aspect(1.5)\n",
    "    \n",
    "    colors = ['blue', 'orange', 'green', 'pink']\n",
    "\n",
    "    for data_idx, (data_name, data) in enumerate(ride_data.items()):\n",
    "        data_xy = list(list(zip(*data))[1])\n",
    "        data_x = list(list(zip(*data_xy))[0])\n",
    "        data_y = list(list(zip(*data_xy))[1])\n",
    "        \n",
    "        ax.scatter(data_x, data_y, color=colors[data_idx], label=data_name, linewidth=1)\n",
    "\n",
    "    ax.xaxis.set_major_locator(ticker.LinearLocator(8))\n",
    "    ax.xaxis.set_major_formatter(ticker.ScalarFormatter(useOffset=False))\n",
    "    ax.yaxis.set_major_locator(ticker.LinearLocator(8))\n",
    "    ax.yaxis.set_major_formatter(ticker.ScalarFormatter(useOffset=False))\n",
    "    ax.set_xlabel('Longitude in decimal degrees')\n",
    "    ax.set_ylabel('Latitude in decimal degrees')\n",
    "\n",
    "    plt.show()\n",
    "    # plt.savefig('simra_vs_sumo_ride_path.png', transparent=True)\n",
    "    # plt.legend()"
   ]
  },
  {
   "cell_type": "code",
   "execution_count": null,
   "metadata": {},
   "outputs": [],
   "source": [
    "for cluster_standstills in standstills_filtered_by_cluster:\n",
    "    plot_filtered_standstills(cluster_standstills)\n",
    "\n",
    "    for data_name, cluster_standstills_ in cluster_standstills.items():    \n",
    "        cluster_standstill_lengths = list(zip(*cluster_standstills_))[0]\n",
    "        plt.hist(cluster_standstill_lengths, density=True)\n",
    "\n",
    "        n_stillstands = len(cluster_standstill_lengths)\n",
    "        print(f\"Number of stillstands in {data_name}: {n_stillstands} (Percentage of rides: {n_stillstands / n_rides[data_name] * 100:.2f})\")"
   ]
  }
 ],
 "metadata": {
  "kernelspec": {
   "display_name": "Python 3.8.10 64-bit",
   "language": "python",
   "name": "python3"
  },
  "language_info": {
   "codemirror_mode": {
    "name": "ipython",
    "version": 3
   },
   "file_extension": ".py",
   "mimetype": "text/x-python",
   "name": "python",
   "nbconvert_exporter": "python",
   "pygments_lexer": "ipython3"
  },
  "vscode": {
   "interpreter": {
    "hash": "916dbcbb3f70747c44a77c7bcd40155683ae19c65e1c03b4aa3499c5328201f1"
   }
  }
 },
 "nbformat": 4,
 "nbformat_minor": 4
}
