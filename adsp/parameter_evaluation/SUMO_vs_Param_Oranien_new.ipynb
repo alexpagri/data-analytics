{
 "cells": [
  {
   "cell_type": "code",
   "execution_count": 1,
   "metadata": {},
   "outputs": [],
   "source": [
    "import pandas as pd\n",
    "import matplotlib\n",
    "import matplotlib.pyplot as plt\n",
    "import numpy as np\n",
    "from scipy.stats import ks_2samp\n",
    "import psycopg2\n",
    "import sys\n",
    "sys.path.extend(['..', '../..'])\n",
    "from postgis.psycopg import register\n",
    "from shapely.geometry import Point\n",
    "from shapely.geometry.polygon import Polygon\n",
    "from shapely.geometry import box\n",
    "from db_importer.settings import *\n",
    "\n",
    "class DatabaseConnection(object):\n",
    "    def __enter__(self):\n",
    "        self.conn = psycopg2.connect(f\"dbname='{DB_NAME}' user='{DB_USER}' password='{DB_PASSWORD}' host='{DB_HOST}' port='{DB_PORT}'\")\n",
    "        self.conn.autocommit = True\n",
    "\n",
    "        register(self.conn)\n",
    "        self.cur = self.conn.cursor()\n",
    "\n",
    "        return self.cur\n",
    "\n",
    "    def __exit__(self, exc_type, exc_val, exc_tb):\n",
    "        if exc_tb is None:\n",
    "            self.conn.commit()\n",
    "            self.cur.close()\n",
    "            self.conn.close()\n",
    "        else:\n",
    "            self.conn.rollback()\n",
    "            self.cur.close()\n",
    "            self.conn.close()"
   ]
  },
  {
   "cell_type": "code",
   "execution_count": 2,
   "metadata": {},
   "outputs": [
    {
     "name": "stdout",
     "output_type": "stream",
     "text": [
      "sim_data/oranienstr_new_params_all.csv\n",
      "sim_data/oranienstr_new_params_slow.csv\n",
      "sim_data/oranienstr_new_params_medium.csv\n",
      "sim_data/oranienstr_new_params_fast.csv\n",
      "sim_data/oranienstr_default.csv\n"
     ]
    }
   ],
   "source": [
    "#files= ['sim_data/b1_default.csv', 'sim_data/b1_default_ped.csv', 'sim_data/b1_new_params.csv', 'sim_data/b1_new_params_ped.csv']\n",
    "files = ['sim_data/oranienstr_new_params_all.csv', 'sim_data/oranienstr_new_params_slow.csv', 'sim_data/oranienstr_new_params_medium.csv', 'sim_data/oranienstr_new_params_fast.csv', 'sim_data/oranienstr_default.csv',]\n",
    "\n",
    "def calc_a_min_filtered(group):\n",
    "    a = (group['vehicle_speed'] - group.shift(1)['vehicle_speed']) / 1 #timestep_time is always 1\n",
    "    a = a[a > -1.64]\n",
    "    return a.min()\n",
    "\n",
    "def calc_a_min(group):\n",
    "    a = (group['vehicle_speed'] - group.shift(1)['vehicle_speed']) / 1 #timestep_time is always 1\n",
    "    return a.min()\n",
    "\n",
    "def calc_a_max(group):\n",
    "    a = (group['vehicle_speed'] - group.shift(1)['vehicle_speed']) / 1 #timestep_time is always 1\n",
    "    return a.max()\n",
    "\n",
    "max_accs_arr = []\n",
    "max_decs_arr = []\n",
    "max_velos_arr = []\n",
    "\n",
    "for file in files:\n",
    "    df = pd.read_csv(file, delimiter=';')\n",
    "    # print(\"df:\\n{}\".format(df))\n",
    "    print(file)\n",
    "    # print(len(df))\n",
    "    df = df[df.vehicle_id.str.startswith('flow', na=False)]\n",
    "    # print(len(df))\n",
    "    grouped = df.groupby('vehicle_id')\n",
    "    # print(grouped)\n",
    "    max_accs_arr.append(grouped.apply(calc_a_max).values)\n",
    "    if \"default\" in file:\n",
    "        max_decs_arr.append(grouped.apply(calc_a_min).values)\n",
    "    else:\n",
    "        max_decs_arr.append(grouped.apply(calc_a_min_filtered).values)\n",
    "\n",
    "    max_velos = []\n",
    "    \n",
    "    for key, item in grouped:\n",
    "        max_velos.append(max(grouped.get_group(key)['vehicle_speed']))\n",
    "        \n",
    "    max_velos_arr.append(max_velos)"
   ]
  },
  {
   "cell_type": "code",
   "execution_count": 3,
   "metadata": {},
   "outputs": [],
   "source": [
    "##oranien\n",
    "with DatabaseConnection() as cur:\n",
    "    group_q = lambda perc: f\"\"\"SELECT percentile_cont({perc}) WITHIN GROUP (ORDER BY one.avg_v) FROM (SELECT AVG(velo) as avg_v FROM accels WHERE velo > 0.2 AND velo != 'NaN' AND velo < 15 GROUP BY filename) as one\"\"\"\n",
    "    cur.execute(f\"\"\"\n",
    "            SELECT two.filename, two.max_v, one.accel, one.decel, CASE WHEN two.avg_v < ({group_q(0.25)}) THEN 0 ELSE CASE WHEN two.avg_v < ({group_q(0.75)}) THEN 1 ELSE 2 END END as group FROM (\n",
    "                SELECT filename, MAX(accel) as accel, MIN(accel) as decel FROM accels GROUP BY filename\n",
    "            ) as one JOIN (\n",
    "                SELECT filename, SUM(velo * duration)/SUM(duration) as avg_v, MAX(velo) as max_v FROM accels WHERE velo > 0.2 AND velo != 'NaN' and velo < 15 GROUP BY filename\n",
    "            ) as two ON (one.filename = two.filename) JOIN ride as r ON (one.filename = r.filename)\n",
    "            WHERE st_intersects(r.geom,\n",
    "                    st_setsrid( st_makebox2d( st_makepoint(13.4112,52.5031), st_makepoint(13.4117,52.5039)), 4326))\n",
    "                AND st_intersects(r.geom,\n",
    "                    st_setsrid( st_makebox2d( st_makepoint(13.426,52.4991), st_makepoint(13.4264,52.4998)), 4326))\"\"\")\n",
    "    res = cur.fetchall()\n",
    "    df = pd.DataFrame(res, columns=['filename', 'max_v', 'max_accel', 'max_decel', 'group'])"
   ]
  },
  {
   "cell_type": "code",
   "execution_count": 4,
   "metadata": {},
   "outputs": [
    {
     "name": "stdout",
     "output_type": "stream",
     "text": [
      "<class 'pandas.core.frame.DataFrame'>\n",
      "Int64Index: 9 entries, 13 to 145\n",
      "Data columns (total 1 columns):\n",
      " #   Column     Non-Null Count  Dtype  \n",
      "---  ------     --------------  -----  \n",
      " 0   max_accel  9 non-null      float64\n",
      "dtypes: float64(1)\n",
      "memory usage: 144.0 bytes\n",
      "None\n",
      "<class 'pandas.core.frame.DataFrame'>\n",
      "Int64Index: 105 entries, 0 to 146\n",
      "Data columns (total 1 columns):\n",
      " #   Column     Non-Null Count  Dtype  \n",
      "---  ------     --------------  -----  \n",
      " 0   max_accel  105 non-null    float64\n",
      "dtypes: float64(1)\n",
      "memory usage: 1.6 KB\n",
      "None\n",
      "<class 'pandas.core.frame.DataFrame'>\n",
      "Int64Index: 33 entries, 6 to 135\n",
      "Data columns (total 1 columns):\n",
      " #   Column     Non-Null Count  Dtype  \n",
      "---  ------     --------------  -----  \n",
      " 0   max_accel  33 non-null     float64\n",
      "dtypes: float64(1)\n",
      "memory usage: 528.0 bytes\n",
      "None\n"
     ]
    }
   ],
   "source": [
    "a_simra = df.query('max_accel >= 0.3')[['max_accel']]\n",
    "a_simra_slow = df.query('group == 0 and max_accel >= 0.3')[['max_accel']]\n",
    "a_simra_medium = df.query('group == 1 and max_accel >= 0.3')[['max_accel']]\n",
    "a_simra_fast = df.query('group == 2 and max_accel >= 0.3')[['max_accel']]\n",
    "print(a_simra_slow.info())\n",
    "print(a_simra_medium.info())\n",
    "print(a_simra_fast.info())\n"
   ]
  },
  {
   "cell_type": "code",
   "execution_count": 5,
   "metadata": {},
   "outputs": [],
   "source": [
    "v = df[['max_v']]\n",
    "v_slow = df.query('group == 0')[['max_v']]\n",
    "v_medium = df.query('group == 1')[['max_v']]\n",
    "v_fast = df.query('group == 2')[['max_v']]"
   ]
  },
  {
   "cell_type": "code",
   "execution_count": 6,
   "metadata": {},
   "outputs": [],
   "source": [
    "d_simra = df.query('max_decel < -0.1')[['max_decel']]\n",
    "d_simra_slow = df.query('group == 0 and max_decel < -0.1')[['max_decel']]\n",
    "d_simra_medium = df.query('group == 1 and max_decel < -0.1')[['max_decel']]\n",
    "d_simra_fast = df.query('group == 2 and max_decel < -0.1')[['max_decel']]"
   ]
  },
  {
   "cell_type": "code",
   "execution_count": 7,
   "metadata": {},
   "outputs": [],
   "source": [
    "# plotting config\n",
    "columnwidth = 3.5\n",
    "textwidth = 3.5 * 2 + 0.25\n",
    "figsize = (columnwidth * 0.97, 1.75)\n",
    "# figsize = (columnwidth * 1.94, 1.75)\n",
    "params = {\n",
    "     \"pdf.fonttype\": 42,\n",
    "     \"font.family\": \"serif\",\n",
    "     \"font.serif\": \"Linux Libertine\",\n",
    "     \"font.sans-serif\": [],\n",
    "     \"font.monospace\": [],\n",
    "     # Make the legend/label fonts a little smaller\n",
    "     \"font.size\": 8,\n",
    "     \"axes.labelsize\": 8,\n",
    "     \"axes.titlesize\": 8,\n",
    "     \"legend.fontsize\": 6,\n",
    "     \"legend.title_fontsize\": 8,\n",
    "     \"xtick.labelsize\": 7,\n",
    "     \"ytick.labelsize\": 7,\n",
    "     \"figure.figsize\": figsize,\n",
    "     \"figure.autolayout\": True,\n",
    "     # save some space around figures when saving\n",
    "     \"savefig.bbox\": \"tight\",\n",
    "     \"savefig.pad_inches\": 0.025,\n",
    "}\n",
    "pdf_params = {\n",
    "     \"text.usetex\": True,\n",
    "     \"pgf.texsystem\": \"pdflatex\",\n",
    "     \"pgf.rcfonts\": False,\n",
    "     \"pgf.preamble\": \"\\n\".join(\n",
    "         [\n",
    "             # put LaTeX preamble declarations here\n",
    "             r\"\\usepackage[utf8x]{inputenc}\",\n",
    "             r\"\\usepackage[T1]{fontenc}\",\n",
    "         ]\n",
    "     ),\n",
    "}\n",
    "# for PFG plotting:\n",
    "params.update(**pdf_params)\n",
    "plt.rcParams.update(params)"
   ]
  },
  {
   "cell_type": "code",
   "execution_count": 8,
   "metadata": {},
   "outputs": [],
   "source": [
    "def calc_stats(default, our, simra, group, type):\n",
    "    #mean, std, median - amax (fast)\n",
    "\n",
    "    print(f\"(SUMO Default) {type} - mean: \" + str(np.mean(default)))\n",
    "    print(f\"(SUMO Default) {type} - std: \" + str(np.std(default)))\n",
    "    print(f\"(SUMO Default) {type} - median: \" + str(np.median(default)))\n",
    "\n",
    "    print(f\"(Our approach - {group}) {type} - mean: \" + str(np.mean(our)))\n",
    "    print(f\"(Our approach - {group}) {type} - std: \" + str(np.std(our)))\n",
    "    print(f\"(Our approach - {group}) {type} - median: \" + str(np.median(our)))\n",
    "\n",
    "    print(f\"(SimRa - {group}) {type} - mean: \" + str(np.mean(simra)))\n",
    "    print(f\"(SimRa - {group}) {type} - std: \" + str(np.std(simra)))\n",
    "    print(f\"(SimRa - {group}) {type} - median: \" + str(np.median(simra)))"
   ]
  },
  {
   "cell_type": "code",
   "execution_count": 9,
   "metadata": {},
   "outputs": [
    {
     "data": {
      "image/png": "[encoded data removed]",
      "text/plain": [
       "<Figure size 339.5x175 with 1 Axes>"
      ]
     },
     "metadata": {},
     "output_type": "display_data"
    }
   ],
   "source": [
    "# a_max - all\n",
    "# plt.subplots(figsize = (10, 5))\n",
    "bins = np.linspace(0.5,1.3,40)\n",
    "plt.hist(max_accs_arr[4], bins=bins, label='SUMO default', color = 'red', density=True)\n",
    "plt.hist(max_accs_arr[0], bins=bins, label='Our approach (All)', color = 'black', density=True, alpha=0.7)\n",
    "plt.hist(a_simra.values.flatten(), bins=bins, label='SimRa (All)', color = 'black', density=True, alpha=0.3)\n",
    "plt.ylim(0,10)\n",
    "plt.xlim(0.5,1.265)\n",
    "plt.ylabel('Rel. frequency')\n",
    "plt.legend()\n",
    "plt.xlabel(r'$a_{max}$ in m/s²')\n",
    "# plt.savefig('images/sim_oranien_acc_all.pdf', bbox_inches='tight')\n",
    "plt.show()\n"
   ]
  },
  {
   "cell_type": "code",
   "execution_count": 10,
   "metadata": {},
   "outputs": [
    {
     "data": {
      "image/png": "[encoded data removed]",
      "text/plain": [
       "<Figure size 339.5x175 with 1 Axes>"
      ]
     },
     "metadata": {},
     "output_type": "display_data"
    }
   ],
   "source": [
    "# a_max - everything\n",
    "# plt.subplots(figsize = (10, 5))\n",
    "red = matplotlib.colors.to_rgba('red', alpha=1)\n",
    "grey = matplotlib.colors.to_rgba('grey', alpha=0.7)\n",
    "lightgrey = matplotlib.colors.to_rgba('grey', alpha=0.3)\n",
    "blue = matplotlib.colors.to_rgba('blue', alpha=0.7)\n",
    "lightblue = matplotlib.colors.to_rgba('blue', alpha=0.3)\n",
    "green = matplotlib.colors.to_rgba('green', alpha=0.7)\n",
    "lightgreen = matplotlib.colors.to_rgba('green', alpha=0.3)\n",
    "orange = matplotlib.colors.to_rgba('darkorange', alpha=0.7)\n",
    "lightorange = matplotlib.colors.to_rgba('darkorange', alpha=0.3)\n",
    "colors = [red, grey, lightgrey, blue, lightblue, green, lightgreen, orange, lightorange]\n",
    "plt.hist([max_accs_arr[4], max_accs_arr[0], a_simra.values.flatten(), max_accs_arr[1], a_simra_slow.values.flatten(), max_accs_arr[2], a_simra_medium.values.flatten(), max_accs_arr[3], a_simra_fast.values.flatten()], bins = 15, label=['SUMO default', 'Our approach (All)', 'SimRa (All)', 'Our approach (Slow)', 'SimRa (Slow)', 'Our approach (Medium)', 'SimRa (Medium)' 'Our approach (Fast)', 'SimRa (Fast)'], color = colors, density=True)\n",
    "plt.legend()\n",
    "plt.ylim(0,10)\n",
    "# plt.xlim(0.5,1.265)\n",
    "plt.ylabel('Rel. frequency')\n",
    "plt.xlabel(r'$a_{max}$ in m/s²')\n",
    "plt.savefig('images/sim_oranien_acc_everything.pdf', bbox_inches='tight')\n",
    "plt.show()"
   ]
  },
  {
   "cell_type": "code",
   "execution_count": 11,
   "metadata": {},
   "outputs": [
    {
     "data": {
      "image/png": "[encoded data removed]",
      "text/plain": [
       "<Figure size 339.5x175 with 1 Axes>"
      ]
     },
     "metadata": {},
     "output_type": "display_data"
    },
    {
     "name": "stdout",
     "output_type": "stream",
     "text": [
      "(SUMO Default) amax - mean: 1.1671385366666664\n",
      "(SUMO Default) amax - std: 0.0291396276317204\n",
      "(SUMO Default) amax - median: 1.1750394999999998\n",
      "(Our approach - all) amax - mean: 0.93701546\n",
      "(Our approach - all) amax - std: 0.20423719561516798\n",
      "(Our approach - all) amax - median: 0.9490000000000002\n",
      "(SimRa - all) amax - mean: 1.0221430258279827\n",
      "(SimRa - all) amax - std: 0.18282436781364597\n",
      "(SimRa - all) amax - median: 1.0322960642565107\n"
     ]
    }
   ],
   "source": [
    "# a_max - all\n",
    "# plt.subplots(figsize = (10, 5))\n",
    "red = matplotlib.colors.to_rgba('red', alpha=1)\n",
    "grey = matplotlib.colors.to_rgba('grey', alpha=0.7)\n",
    "lightgrey = matplotlib.colors.to_rgba('grey', alpha=0.3)\n",
    "colors = [red, grey, lightgrey]\n",
    "plt.hist([max_accs_arr[4], max_accs_arr[0], a_simra.values.flatten()], bins = 15, label=['SUMO default', 'Our approach (All)', 'SimRa (All)'], color = colors, density=True)\n",
    "plt.legend()\n",
    "plt.ylim(0,10)\n",
    "plt.xlim(0.5,1.265)\n",
    "plt.ylabel('Rel. frequency')\n",
    "plt.xlabel(r'$a_{max}$ in m/s²')\n",
    "plt.savefig('images/sim_oranien_acc_all.pdf', bbox_inches='tight')\n",
    "plt.show()\n",
    "calc_stats(max_accs_arr[4], max_accs_arr[0], a_simra.values.flatten(), \"all\", \"amax\")"
   ]
  },
  {
   "cell_type": "code",
   "execution_count": 12,
   "metadata": {},
   "outputs": [
    {
     "data": {
      "image/png": "[encoded data removed]",
      "text/plain": [
       "<Figure size 339.5x175 with 1 Axes>"
      ]
     },
     "metadata": {},
     "output_type": "display_data"
    }
   ],
   "source": [
    "# a_max - slow\n",
    "# plt.subplots(figsize = (10, 5))\n",
    "red = matplotlib.colors.to_rgba('red', alpha=1)\n",
    "blue = matplotlib.colors.to_rgba('blue', alpha=0.7)\n",
    "lightblue = matplotlib.colors.to_rgba('blue', alpha=0.3)\n",
    "colors = [red, blue, lightblue]\n",
    "plt.hist([max_accs_arr[4], max_accs_arr[1], a_simra_slow.values.flatten()], bins = 15, label=['SUMO default', r'Our approach ($s$)', r'SimRa ($s$)'], color = colors, density=True)\n",
    "plt.legend()\n",
    "plt.ylim(0,10)\n",
    "plt.ylabel('Rel. frequency')\n",
    "plt.xlabel(r'$a_{max}$ in m/s²')\n",
    "plt.savefig('images/sim_oranien_acc_slow.pdf', bbox_inches='tight')\n",
    "plt.show()\n"
   ]
  },
  {
   "cell_type": "code",
   "execution_count": 13,
   "metadata": {},
   "outputs": [
    {
     "data": {
      "image/png": "[encoded data removed]",
      "text/plain": [
       "<Figure size 339.5x175 with 1 Axes>"
      ]
     },
     "metadata": {},
     "output_type": "display_data"
    },
    {
     "name": "stdout",
     "output_type": "stream",
     "text": [
      "(SUMO Default) amax - mean: 1.1671385366666664\n",
      "(SUMO Default) amax - std: 0.0291396276317204\n",
      "(SUMO Default) amax - median: 1.1750394999999998\n",
      "(Our approach - medium) amax - mean: 0.9610949233333334\n",
      "(Our approach - medium) amax - std: 0.1608517476188269\n",
      "(Our approach - medium) amax - median: 0.9280000000000002\n",
      "(SimRa - medium) amax - mean: 1.0343128596242326\n",
      "(SimRa - medium) amax - std: 0.17480061638247504\n",
      "(SimRa - medium) amax - median: 1.0444478620005324\n"
     ]
    }
   ],
   "source": [
    "# a_max - medium\n",
    "# plt.subplots(figsize = (10, 5))\n",
    "red = matplotlib.colors.to_rgba('red', alpha=1)\n",
    "green = matplotlib.colors.to_rgba('green', alpha=0.7)\n",
    "lightgreen = matplotlib.colors.to_rgba('green', alpha=0.3)\n",
    "colors = [red, green, lightgreen]\n",
    "plt.hist([max_accs_arr[4], max_accs_arr[2], a_simra_medium.values.flatten()], bins = 15, label=['SUMO default', 'Our approach (Medium)', 'SimRa (Medium)'], color = colors, density=True)\n",
    "plt.legend()\n",
    "plt.ylim(0,10)\n",
    "plt.xlim(0.5,1.265)\n",
    "plt.ylabel('Rel. frequency')\n",
    "plt.xlabel(r'$a_{max}$ in m/s²')\n",
    "plt.savefig('images/sim_oranien_acc_medium.pdf', bbox_inches='tight')\n",
    "plt.show()\n",
    "calc_stats(max_accs_arr[4], max_accs_arr[2], a_simra_medium.values.flatten(), \"medium\", \"amax\")"
   ]
  },
  {
   "cell_type": "code",
   "execution_count": 14,
   "metadata": {},
   "outputs": [
    {
     "data": {
      "image/png": "[encoded data removed]",
      "text/plain": [
       "<Figure size 339.5x175 with 1 Axes>"
      ]
     },
     "metadata": {},
     "output_type": "display_data"
    },
    {
     "name": "stdout",
     "output_type": "stream",
     "text": [
      "(SUMO Default) amax - mean: 1.1671385366666664\n",
      "(SUMO Default) amax - std: 0.0291396276317204\n",
      "(SUMO Default) amax - median: 1.1750394999999998\n",
      "(Our approach - fast) amax - mean: 1.1577555266666668\n",
      "(Our approach - fast) amax - std: 0.1996438315720505\n",
      "(Our approach - fast) amax - median: 1.155\n",
      "(SimRa - fast) amax - mean: 1.0556085057408426\n",
      "(SimRa - fast) amax - std: 0.16325073470187565\n",
      "(SimRa - fast) amax - median: 1.0278900153759776\n"
     ]
    }
   ],
   "source": [
    "# a_max - fast\n",
    "# plt.subplots(figsize = (10, 5))\n",
    "red = matplotlib.colors.to_rgba('red', alpha=1)\n",
    "orange = matplotlib.colors.to_rgba('darkorange', alpha=0.7)\n",
    "lightorange = matplotlib.colors.to_rgba('darkorange', alpha=0.3)\n",
    "colors = [red, orange, lightorange]\n",
    "plt.hist([max_accs_arr[4], max_accs_arr[3], a_simra_fast.values.flatten()], bins = 15, label=['SUMO default', 'Our approach (Fast)', 'SimRa (Fast)'], color = colors, density=True)\n",
    "plt.legend()\n",
    "plt.ylim(0,10)\n",
    "plt.xlim(0.5,1.6)\n",
    "plt.ylabel('Rel. frequency')\n",
    "plt.xlabel(r'$a_{max}$ in m/s²')\n",
    "plt.savefig('images/sim_oranien_acc_fast.pdf', bbox_inches='tight')\n",
    "plt.show()\n",
    "calc_stats(max_accs_arr[4], max_accs_arr[3], a_simra_fast.values.flatten(), \"fast\", \"amax\")"
   ]
  },
  {
   "cell_type": "code",
   "execution_count": 24,
   "metadata": {},
   "outputs": [
    {
     "data": {
      "image/png": "[encoded data removed]",
      "text/plain": [
       "<Figure size 339.5x175 with 1 Axes>"
      ]
     },
     "metadata": {},
     "output_type": "display_data"
    },
    {
     "name": "stdout",
     "output_type": "stream",
     "text": [
      "(SUMO Default) vmax - mean: 5.554618023333334\n",
      "(SUMO Default) vmax - std: 0.0016665360990556868\n",
      "(SUMO Default) vmax - median: 5.555556\n",
      "(Our approach - all) vmax - mean: 6.589273696666667\n",
      "(Our approach - all) vmax - std: 1.2341122053767306\n",
      "(Our approach - all) vmax - median: 6.576463\n",
      "(SimRa - all) vmax - mean: 7.072351734027077\n",
      "(SimRa - all) vmax - std: 0.9040503260592537\n",
      "(SimRa - all) vmax - median: 7.095196365756374\n"
     ]
    }
   ],
   "source": [
    "# v_max - all\n",
    "# plt.subplots(figsize = (10, 5))\n",
    "red = matplotlib.colors.to_rgba('red', alpha=1)\n",
    "grey = matplotlib.colors.to_rgba('grey', alpha=0.7)\n",
    "lightgrey = matplotlib.colors.to_rgba('grey', alpha=0.3)\n",
    "colors = [red, grey, lightgrey]\n",
    "plt.hist([max_velos_arr[4], max_velos_arr[0], v.values.flatten()], bins = 10, label=['SUMO default', 'Our approach (All)', 'SimRa (All)'], color = colors, density=True)\n",
    "plt.legend()\n",
    "plt.ylim(0,2.0)\n",
    "plt.xlim(4,10.2)\n",
    "plt.ylabel('Rel. frequency')\n",
    "plt.xlabel(r'$v_{max}$ in m/s')\n",
    "plt.savefig('images/sim_oranien_vel_all.pdf', bbox_inches='tight')\n",
    "plt.show()\n",
    "calc_stats(max_velos_arr[4], max_velos_arr[0], v.values.flatten(), \"all\", \"vmax\")"
   ]
  },
  {
   "cell_type": "code",
   "execution_count": 16,
   "metadata": {},
   "outputs": [
    {
     "data": {
      "image/png": "[encoded data removed]",
      "text/plain": [
       "<Figure size 339.5x175 with 1 Axes>"
      ]
     },
     "metadata": {},
     "output_type": "display_data"
    }
   ],
   "source": [
    "# v_max - slow\n",
    "# plt.subplots(figsize = (10, 5))\n",
    "red = matplotlib.colors.to_rgba('red', alpha=1)\n",
    "blue = matplotlib.colors.to_rgba('blue', alpha=0.7)\n",
    "lightblue = matplotlib.colors.to_rgba('blue', alpha=0.3)\n",
    "colors = [red, blue, lightblue]\n",
    "plt.hist([max_velos_arr[4], max_velos_arr[1], v_slow.values.flatten()], bins = 10, label=['SUMO default', 'Our approach (Slow)', 'SimRa (Slow)'], color = colors, density=True)\n",
    "plt.legend()\n",
    "plt.ylim(0,2.0)\n",
    "plt.ylabel('Rel. frequency')\n",
    "plt.xlabel(r'$v_{max}$ in m/s')\n",
    "plt.savefig('images/sim_oranien_vel_slow.pdf', bbox_inches='tight')\n",
    "plt.show()"
   ]
  },
  {
   "cell_type": "code",
   "execution_count": 17,
   "metadata": {},
   "outputs": [
    {
     "data": {
      "image/png": "[encoded data removed]",
      "text/plain": [
       "<Figure size 339.5x175 with 1 Axes>"
      ]
     },
     "metadata": {},
     "output_type": "display_data"
    }
   ],
   "source": [
    "# v_max - medium\n",
    "# plt.subplots(figsize = (10, 5))\n",
    "red = matplotlib.colors.to_rgba('red', alpha=1)\n",
    "green = matplotlib.colors.to_rgba('green', alpha=0.7)\n",
    "lightgreen = matplotlib.colors.to_rgba('green', alpha=0.3)\n",
    "colors = [red, green, lightgreen]\n",
    "plt.hist([max_velos_arr[4], max_velos_arr[2], v_medium.values.flatten()], bins = 10, label=['SUMO default', 'Our approach (Medium)', 'SimRa (Medium)'], color = colors, density=True)\n",
    "plt.legend()\n",
    "plt.ylim(0,2.0)\n",
    "# plt.xlim(5.4,8.1)\n",
    "plt.ylabel('Rel. frequency')\n",
    "plt.xlabel(r'$v_{max}$ in m/s')\n",
    "plt.savefig('images/sim_oranien_vel_medium.pdf', bbox_inches='tight')\n",
    "plt.show()"
   ]
  },
  {
   "cell_type": "code",
   "execution_count": 23,
   "metadata": {},
   "outputs": [
    {
     "data": {
      "image/png": "[encoded data removed]",
      "text/plain": [
       "<Figure size 339.5x175 with 1 Axes>"
      ]
     },
     "metadata": {},
     "output_type": "display_data"
    },
    {
     "name": "stdout",
     "output_type": "stream",
     "text": [
      "(SUMO Default) vmax - mean: 5.554618023333334\n",
      "(SUMO Default) vmax - std: 0.0016665360990556868\n",
      "(SUMO Default) vmax - median: 5.555556\n",
      "(Our approach - fast) vmax - mean: 8.271735706666668\n",
      "(Our approach - fast) vmax - std: 0.9022168140491253\n",
      "(Our approach - fast) vmax - median: 8.197818999999999\n",
      "(SimRa - fast) vmax - mean: 7.87231826995501\n",
      "(SimRa - fast) vmax - std: 0.737862141028286\n",
      "(SimRa - fast) vmax - median: 7.861540667737794\n"
     ]
    }
   ],
   "source": [
    "# v_max - fast\n",
    "# plt.subplots(figsize = (10, 5))\n",
    "red = matplotlib.colors.to_rgba('red', alpha=1)\n",
    "orange = matplotlib.colors.to_rgba('darkorange', alpha=0.7)\n",
    "lightorange = matplotlib.colors.to_rgba('darkorange', alpha=0.3)\n",
    "colors = [red, orange, lightorange]\n",
    "plt.hist([max_velos_arr[4], max_velos_arr[3], v_fast.values.flatten()], bins = 10, label=['SUMO default', r'Our approach ($f$)', r'SimRa ($f$)'], color = colors, density=True)\n",
    "plt.legend()\n",
    "plt.ylim(0,2.0)\n",
    "plt.xlim(4,10.2)\n",
    "plt.ylabel('Rel. frequency')\n",
    "plt.xlabel(r'$v_{max}$ in m/s')\n",
    "plt.savefig('images/sim_oranien_vel_fast.pdf', bbox_inches='tight')\n",
    "plt.show()\n",
    "#take\n",
    "calc_stats(max_velos_arr[4], max_velos_arr[3], v_fast.values.flatten(), \"fast\", \"vmax\")"
   ]
  },
  {
   "cell_type": "code",
   "execution_count": 19,
   "metadata": {},
   "outputs": [
    {
     "data": {
      "image/png": "[encoded data removed]",
      "text/plain": [
       "<Figure size 339.5x175 with 1 Axes>"
      ]
     },
     "metadata": {},
     "output_type": "display_data"
    }
   ],
   "source": [
    "# d_max - all\n",
    "# plt.subplots(figsize = (10, 5))\n",
    "red = matplotlib.colors.to_rgba('red', alpha=1)\n",
    "grey = matplotlib.colors.to_rgba('grey', alpha=0.7)\n",
    "lightgrey = matplotlib.colors.to_rgba('grey', alpha=0.3)\n",
    "colors = [red, grey, lightgrey]\n",
    "plt.hist([np.absolute(max_decs_arr[4]), np.absolute(max_decs_arr[0]), np.absolute(d_simra.values.flatten())], bins = 15, label=['SUMO default', 'Our approach (All)', 'SimRa (All)'], color = colors, density=True)\n",
    "plt.legend()\n",
    "plt.ylim(0,5)\n",
    "plt.ylabel('Rel. frequency')\n",
    "plt.xlabel(r'$d_{max}$ in m/s²')\n",
    "plt.savefig('images/sim_oranien_dec_all.pdf', bbox_inches='tight')\n",
    "plt.show()"
   ]
  },
  {
   "cell_type": "code",
   "execution_count": 20,
   "metadata": {},
   "outputs": [
    {
     "data": {
      "image/png": "[encoded data removed]",
      "text/plain": [
       "<Figure size 339.5x175 with 1 Axes>"
      ]
     },
     "metadata": {},
     "output_type": "display_data"
    }
   ],
   "source": [
    "# d_max - slow\n",
    "# plt.subplots(figsize = (10, 5))\n",
    "red = matplotlib.colors.to_rgba('red', alpha=1)\n",
    "blue = matplotlib.colors.to_rgba('blue', alpha=0.7)\n",
    "lightblue = matplotlib.colors.to_rgba('blue', alpha=0.3)\n",
    "colors = [red, blue, lightblue]\n",
    "plt.hist([np.absolute(max_decs_arr[4]), np.absolute(max_decs_arr[1]), np.absolute(d_simra_slow.values.flatten())], bins = 15, label=['SUMO default', 'Our approach (Slow)', 'SimRa (Slow)'], color = colors, density=True)\n",
    "plt.legend()\n",
    "plt.ylim(0,5)\n",
    "plt.ylabel('Rel. frequency')\n",
    "plt.xlabel(r'$d_{max}$ in m/s²')\n",
    "plt.savefig('images/sim_oranien_dec_slow.pdf', bbox_inches='tight')\n",
    "plt.show()"
   ]
  },
  {
   "cell_type": "code",
   "execution_count": 21,
   "metadata": {},
   "outputs": [
    {
     "data": {
      "image/png": "[encoded data removed]",
      "text/plain": [
       "<Figure size 339.5x175 with 1 Axes>"
      ]
     },
     "metadata": {},
     "output_type": "display_data"
    }
   ],
   "source": [
    "# d_max - medium\n",
    "# plt.subplots(figsize = (10, 5))\n",
    "red = matplotlib.colors.to_rgba('red', alpha=1)\n",
    "green = matplotlib.colors.to_rgba('green', alpha=0.7)\n",
    "lightgreen = matplotlib.colors.to_rgba('green', alpha=0.3)\n",
    "colors = [red, green, lightgreen]\n",
    "plt.hist([np.absolute(max_decs_arr[4]), np.absolute(max_decs_arr[2]), np.absolute(d_simra_medium.values.flatten())], bins = 15, label=['SUMO default', r'Our approach ($m$)', r'SimRa ($m$)'], color = colors, density=True)\n",
    "plt.legend()\n",
    "plt.ylim(0,5)\n",
    "plt.ylabel('Rel. frequency')\n",
    "plt.xlabel(r'$d_{max}$ in m/s²')\n",
    "plt.savefig('images/sim_oranien_dec_medium.pdf', bbox_inches='tight')\n",
    "plt.show()"
   ]
  },
  {
   "cell_type": "code",
   "execution_count": 22,
   "metadata": {},
   "outputs": [
    {
     "data": {
      "image/png": "[encoded data removed]",
      "text/plain": [
       "<Figure size 339.5x175 with 1 Axes>"
      ]
     },
     "metadata": {},
     "output_type": "display_data"
    }
   ],
   "source": [
    "# d_max - fast\n",
    "# plt.subplots(figsize = (10, 5))\n",
    "red = matplotlib.colors.to_rgba('red', alpha=1)\n",
    "orange = matplotlib.colors.to_rgba('darkorange', alpha=0.7)\n",
    "lightorange = matplotlib.colors.to_rgba('darkorange', alpha=0.3)\n",
    "colors = [red, orange, lightorange]\n",
    "plt.hist([np.absolute(max_decs_arr[4]), np.absolute(max_decs_arr[3]), np.absolute(d_simra_medium.values.flatten())], bins = 15, label=['SUMO default', 'Our approach (Fast)', 'SimRa (Fast)'], color = colors, density=True)\n",
    "plt.legend()\n",
    "plt.ylim(0,5)\n",
    "plt.ylabel('Rel. frequency')\n",
    "plt.xlabel(r'$d_{max}$ in m/s²')\n",
    "plt.savefig('images/sim_oranien_dec_fast.pdf', bbox_inches='tight')\n",
    "plt.show()"
   ]
  }
 ],
 "metadata": {
  "kernelspec": {
   "display_name": "Python 3.8.10 64-bit",
   "language": "python",
   "name": "python3"
  },
  "language_info": {
   "codemirror_mode": {
    "name": "ipython",
    "version": 3
   },
   "file_extension": ".py",
   "mimetype": "text/x-python",
   "name": "python",
   "nbconvert_exporter": "python",
   "pygments_lexer": "ipython3",
   "version": "3.10.6"
  },
  "vscode": {
   "interpreter": {
    "hash": "916dbcbb3f70747c44a77c7bcd40155683ae19c65e1c03b4aa3499c5328201f1"
   }
  }
 },
 "nbformat": 4,
 "nbformat_minor": 4
}
