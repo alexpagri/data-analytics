{
 "cells": [
  {
   "cell_type": "code",
   "execution_count": null,
   "metadata": {},
   "outputs": [],
   "source": [
    "from datetime import datetime\n",
    "\n",
    "import numpy as np\n",
    "import pandas as pd\n",
    "\n",
    "\n",
    "from db_utils import get_rect_to_rect_data"
   ]
  },
  {
   "cell_type": "code",
   "execution_count": null,
   "metadata": {},
   "outputs": [],
   "source": [
    "ped_files = ['VM2_-2112701535', 'VM2_-217686115','VM2_-1247665811','VM2_-104300786', 'VM2_330973206', 'VM2_1100569031', 'VM2_421371629', 'VM2_421371629', 'VM2_1476499235', 'VM2_-1451152685', 'VM2_-1523872256']"
   ]
  },
  {
   "cell_type": "code",
   "execution_count": null,
   "metadata": {},
   "outputs": [],
   "source": [
    "# from matplotlib import rc\n",
    "\n",
    "# rc('font', **{'family': 'serif', 'serif': ['Computer Modern'], 'size': 16})\n",
    "# rc('text', usetex=True)"
   ]
  },
  {
   "cell_type": "code",
   "execution_count": null,
   "metadata": {},
   "outputs": [],
   "source": [
    "\n",
    "start_point_coords = (52.52181, 13.41645)\n",
    "end_point_coords = (52.52231, 13.41703)\n",
    "\n",
    "# start_rect_coords = get_rect_coords_from_center_point(start_point_coords)\n",
    "# end_rect_coords = get_rect_coords_from_center_point(end_point_coords)\n",
    "\n",
    "start_rect_coords = (13.416354, 52.521752, 13.416705, 52.521961)\n",
    "end_rect_coords = (13.416912, 52.522261, 13.417263, 52.52247)\n",
    "\n",
    "end_date_str = '2021-01-01 00:00:00'\n",
    "end_date = datetime.strptime(end_date_str, '%Y-%m-%d %H:%M:%S')\n",
    "\n",
    "df_simra = get_rect_to_rect_data(start_rect_coords, end_rect_coords, end_date=end_date)\n",
    "df_simra\n"
   ]
  },
  {
   "cell_type": "code",
   "execution_count": null,
   "metadata": {},
   "outputs": [],
   "source": [
    "from matplotlib.collections import LineCollection\n",
    "from matplotlib import pyplot as plt, ticker\n",
    "\n",
    "fig, ax = plt.subplots(figsize=(12, 12))\n",
    "ax.set_aspect('equal')\n",
    "# Create a continuous norm to map from data points to colors\n",
    "norm = plt.Normalize(df_simra.velo.min(), df_simra.velo.max())\n",
    "\n",
    "df_simra_grouped = df_simra.groupby('filename')\n",
    "for ride_group_name in df_simra_grouped.groups:\n",
    "    df_ride_group = df_simra_grouped.get_group(ride_group_name)\n",
    "    points = np.array([df_ride_group.lon, df_ride_group.lat]).T.reshape(-1, 1, 2)\n",
    "    segments = np.concatenate([points[:-1], points[1:]], axis=1)\n",
    "\n",
    "    lc = LineCollection(segments, cmap='viridis', norm=norm)\n",
    "    # Set the values used for colormapping\n",
    "    lc.set_array(df_ride_group.velo.values)\n",
    "    lc.set_linewidth(2)\n",
    "    line = ax.add_collection(lc)\n",
    "\n",
    "ax.set_xlim(min(df_simra.lon), max(df_simra.lon))\n",
    "ax.set_ylim(min(df_simra.lat), max(df_simra.lat))\n",
    "\n",
    "axcb = fig.colorbar(lc, ax=ax, shrink=0.8, pad=0.1)\n",
    "axcb.set_label('Velocity in m/s')\n",
    "\n",
    "ax.xaxis.set_major_locator(ticker.LinearLocator(4))\n",
    "ax.xaxis.set_major_formatter(ticker.ScalarFormatter(useOffset=False))\n",
    "ax.yaxis.set_major_locator(ticker.LinearLocator(4))\n",
    "ax.yaxis.set_major_formatter(ticker.ScalarFormatter(useOffset=False))\n",
    "ax.set_xlabel('Longitude in decimal degrees')\n",
    "ax.set_ylabel('Latitude in decimal degrees')\n",
    "\n",
    "\n",
    "plt.show()"
   ]
  }
 ],
 "metadata": {
  "kernelspec": {
   "display_name": "Python 3",
   "language": "python",
   "name": "python3"
  },
  "language_info": {
   "codemirror_mode": {
    "name": "ipython",
    "version": 3
   },
   "file_extension": ".py",
   "mimetype": "text/x-python",
   "name": "python",
   "nbconvert_exporter": "python",
   "pygments_lexer": "ipython3"
  }
 },
 "nbformat": 4,
 "nbformat_minor": 4
}
