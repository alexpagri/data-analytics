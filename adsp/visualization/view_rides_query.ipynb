{
 "cells": [
  {
   "cell_type": "code",
   "execution_count": 1,
   "metadata": {},
   "outputs": [],
   "source": [
    "from view_rides import add_path, show_path\n",
    "import pandas as pd\n",
    "import sys\n",
    "sys.path.extend(['..', '../..'])\n",
    "import psycopg2\n",
    "from postgis.psycopg import register\n",
    "from db_importer.settings import *\n",
    "from adsp.db_utils import build_and_execute_query\n",
    "import matplotlib.pyplot as plt\n",
    "from matplotlib.collections import LineCollection\n",
    "import matplotlib as mpl\n",
    "from matplotlib import ticker\n",
    "from ipywidgets import interact, interactive, fixed, interact_manual\n",
    "import ipywidgets as widgets\n",
    "import numpy as np\n",
    "import contextily as cx\n",
    "\n",
    "class DatabaseConnection(object):\n",
    "    def __enter__(self):\n",
    "        self.conn = psycopg2.connect(f\"dbname='{DB_NAME}' user='{DB_USER}' password='{DB_PASSWORD}' host='{DB_HOST}' port='{DB_PORT}'\")\n",
    "        self.conn.autocommit = True\n",
    "\n",
    "        register(self.conn)\n",
    "        self.cur = self.conn.cursor()\n",
    "\n",
    "        return self.cur\n",
    "\n",
    "    def __exit__(self, exc_type, exc_val, exc_tb):\n",
    "        if exc_tb is None:\n",
    "            self.conn.commit()\n",
    "            self.cur.close()\n",
    "            self.conn.close()\n",
    "        else:\n",
    "            self.conn.rollback()\n",
    "            self.cur.close()\n",
    "            self.conn.close()"
   ]
  },
  {
   "cell_type": "code",
   "execution_count": null,
   "metadata": {},
   "outputs": [],
   "source": [
    "#filename = 'VM2_-186381149'"
   ]
  },
  {
   "cell_type": "code",
   "execution_count": 23,
   "metadata": {},
   "outputs": [],
   "source": [
    "def get_dataframe(start, end, exclude = (0, 0, 0, 0)):\n",
    "    res = build_and_execute_query(start, end, exclude)\n",
    "    df = pd.DataFrame(res, columns=['filename', 'coords', 'velo', 'dur', 'dist', 'timestamp', 'min_ts', 'max_ts', 'time_diff', 'avg_v', 'group'])\n",
    "\n",
    "    df['rad'] = 1\n",
    "\n",
    "    df = df[~(df.rad.isnull() | df.timestamp.isnull() | df.coords.isnull())]\n",
    "\n",
    "    df['lon'], df['lat'] = zip(*df.coords.values)\n",
    "\n",
    "    return df"
   ]
  },
  {
   "cell_type": "code",
   "execution_count": 27,
   "metadata": {},
   "outputs": [],
   "source": [
    "def analyze_scenario(df):\n",
    "\n",
    "    #plt.xlim(0, 200)\n",
    "\n",
    "    df2 = df[~df.velo.isna()]\n",
    "\n",
    "    xmin = df2['lon'].min()\n",
    "    xmax = df2['lon'].max()\n",
    "    ymin = df2['lat'].min()\n",
    "    ymax = df2['lat'].max()\n",
    "\n",
    "    df_grouped = df2.groupby('filename', sort=False)\n",
    "\n",
    "    def interact_plot(val):\n",
    "        fig, ax = plt.subplots(1, 2, figsize=[30, 10])\n",
    "        #ax = plt.axes()\n",
    "        ax[0].grid()\n",
    "        ax[0].xaxis.set_major_locator(ticker.LinearLocator(numticks=20))\n",
    "        ax[0].set_ylabel('Speed (Km/h)')\n",
    "        ax[0].set_xlabel('Time (timestamp / 1e9 -> seconds)')\n",
    "        for ride_group_name in list(df_grouped.groups.keys())[val-1:val]:\n",
    "            df_ride_group = df_grouped.get_group(ride_group_name)\n",
    "            points = np.array([df_ride_group['timestamp'].map(lambda v: (v.value - df_ride_group['timestamp'].iloc[0].value) / 1e9), df_ride_group['velo'] * 3.6]).T.reshape(-1, 1, 2)\n",
    "            segments = np.concatenate([points[:-1], points[1:]], axis=1)\n",
    "            lc = LineCollection(segments, cmap='copper')\n",
    "            lc.set_array(df_ride_group['velo'] * 3.6)\n",
    "            lc.set_linewidth(df_ride_group['velo']* 3.6 + 1)\n",
    "            ax[0].add_collection(lc)\n",
    "            ax[0].autoscale()\n",
    "            #ax[0].plot(df_ride_group['timestamp'].map(lambda v: (v.value - df_ride_group['timestamp'].iloc[0].value) / 1e9), df_ride_group['velo'] * 3.6, label=\"One ride\")\n",
    "            points = np.array([df_ride_group['lon'], df_ride_group['lat']]).T.reshape(-1, 1, 2)\n",
    "            segments = np.concatenate([points[:-1], points[1:]], axis=1)\n",
    "            lc = LineCollection(segments, cmap='copper')\n",
    "            lc.set_array(df_ride_group['velo'] * 3.6)\n",
    "            lc.set_linewidth(df_ride_group['velo']* 3.6 + 1)\n",
    "            ax[1].add_collection(lc)\n",
    "            ax[1].autoscale()\n",
    "            #ax[1].plot(df_ride_group['lon'], df_ride_group['lat'])\n",
    "        ax[1].set_xlim(xmin = xmin, xmax = xmax)\n",
    "        ax[1].set_ylim(ymin = ymin, ymax = ymax)\n",
    "        cx.add_basemap(ax[1], crs='EPSG:4326', source=cx.providers.Esri.WorldImagery)\n",
    "        ax[1].set_aspect(1.7)\n",
    "\n",
    "    interact(interact_plot, val=(1,len(df_grouped),1))"
   ]
  },
  {
   "cell_type": "code",
   "execution_count": 25,
   "metadata": {},
   "outputs": [],
   "source": [
    "df = get_dataframe((13.416169,52.521508,13.416513,52.521832), (13.41591,52.522275,13.416421,52.522569), (13.415467,52.521919,13.416219,52.522107))"
   ]
  },
  {
   "cell_type": "code",
   "execution_count": 28,
   "metadata": {},
   "outputs": [
    {
     "data": {
      "application/vnd.jupyter.widget-view+json": {
       "model_id": "613aff2f3e1f4f0e8ab28517c0445127",
       "version_major": 2,
       "version_minor": 0
      },
      "text/plain": [
       "interactive(children=(IntSlider(value=155, description='val', max=309, min=1), Output()), _dom_classes=('widge…"
      ]
     },
     "metadata": {},
     "output_type": "display_data"
    }
   ],
   "source": [
    "analyze_scenario(df)"
   ]
  },
  {
   "cell_type": "code",
   "execution_count": null,
   "metadata": {},
   "outputs": [],
   "source": [
    "df_grouped = df.groupby('filename', sort=False)\n",
    "for i, ride_group_name in enumerate(df_grouped.groups):\n",
    "    df_ride_group = df_grouped.get_group(ride_group_name)\n",
    "    add_path(df_ride_group, lod=1)\n",
    "\n",
    "show_path()"
   ]
  }
 ],
 "metadata": {
  "kernelspec": {
   "display_name": "Python 3",
   "language": "python",
   "name": "python3"
  },
  "language_info": {
   "codemirror_mode": {
    "name": "ipython",
    "version": 3
   },
   "file_extension": ".py",
   "mimetype": "text/x-python",
   "name": "python",
   "nbconvert_exporter": "python",
   "pygments_lexer": "ipython3",
   "version": "3.9.15"
  },
  "orig_nbformat": 4,
  "vscode": {
   "interpreter": {
    "hash": "19820f6c91c9924cba312a6458523eed095a2f92ef8c1ff90af84579467e22ce"
   }
  }
 },
 "nbformat": 4,
 "nbformat_minor": 2
}
