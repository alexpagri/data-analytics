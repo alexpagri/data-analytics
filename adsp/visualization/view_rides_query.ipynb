{
 "cells": [
  {
   "cell_type": "code",
   "execution_count": 1,
   "metadata": {},
   "outputs": [],
   "source": [
    "from view_rides import add_path, show_path\n",
    "import pandas as pd\n",
    "import sys\n",
    "sys.path.extend(['..', '../..'])\n",
    "import psycopg2\n",
    "from postgis.psycopg import register\n",
    "from db_importer.settings import *\n",
    "from adsp.db_utils import build_and_execute_query, getRideLocation\n",
    "import matplotlib.pyplot as plt\n",
    "from matplotlib.collections import LineCollection\n",
    "import matplotlib as mpl\n",
    "from matplotlib import ticker\n",
    "from ipywidgets import interact, interactive, fixed, interact_manual\n",
    "import ipywidgets as widgets\n",
    "import numpy as np\n",
    "import contextily as cx\n",
    "\n",
    "class DatabaseConnection(object):\n",
    "    def __enter__(self):\n",
    "        self.conn = psycopg2.connect(f\"dbname='{DB_NAME}' user='{DB_USER}' password='{DB_PASSWORD}' host='{DB_HOST}' port='{DB_PORT}'\")\n",
    "        self.conn.autocommit = True\n",
    "\n",
    "        register(self.conn)\n",
    "        self.cur = self.conn.cursor()\n",
    "\n",
    "        return self.cur\n",
    "\n",
    "    def __exit__(self, exc_type, exc_val, exc_tb):\n",
    "        if exc_tb is None:\n",
    "            self.conn.commit()\n",
    "            self.cur.close()\n",
    "            self.conn.close()\n",
    "        else:\n",
    "            self.conn.rollback()\n",
    "            self.cur.close()\n",
    "            self.conn.close()"
   ]
  },
  {
   "cell_type": "code",
   "execution_count": 2,
   "metadata": {},
   "outputs": [],
   "source": [
    "#filename = 'VM2_-186381149'"
   ]
  },
  {
   "cell_type": "code",
   "execution_count": 2,
   "metadata": {},
   "outputs": [],
   "source": [
    "def get_sumo(file):\n",
    "    #files = ['../parameter_evaluation/sim_data/oranienstr_new_params_all.csv', 'sim_data/oranienstr_new_params_slow.csv', 'sim_data/oranienstr_new_params_medium.csv', 'sim_data/oranienstr_new_params_fast.csv', 'sim_data/oranienstr_default.csv',]\n",
    "\n",
    "    max_velos_arr = []\n",
    "\n",
    "    df = pd.read_csv(file, delimiter=';')\n",
    "    df = df[df.vehicle_id.str.startswith('f', na=False)]\n",
    "    df['timestep_time'] *= 1e9\n",
    "    #grouped = df.groupby('vehicle_id', group_keys=False)\n",
    "    return df.rename(columns={'timestep_time':'timestamp', 'vehicle_id':'filename', 'vehicle_speed':'velo', 'vehicle_x':'lon','vehicle_y':'lat'})"
   ]
  },
  {
   "cell_type": "code",
   "execution_count": 3,
   "metadata": {},
   "outputs": [],
   "source": [
    "def get_dataframe(start, end, exclude = (0, 0, 0, 0)):\n",
    "    res = getRideLocation(start, end, exclude, time_diff=\"500\")\n",
    "    df = pd.DataFrame(res, columns=['filename', 'duration', 'timestamp', 'velo', 'coords', 'bike'])\n",
    "\n",
    "    df['rad'] = 1\n",
    "\n",
    "    df = df[~(df.rad.isnull() | df.timestamp.isnull() | df.coords.isnull())]\n",
    "\n",
    "    df['lon'], df['lat'] = zip(*df.coords.values)\n",
    "\n",
    "    return df"
   ]
  },
  {
   "cell_type": "code",
   "execution_count": 65,
   "metadata": {},
   "outputs": [],
   "source": [
    "def analyze_scenario(df):\n",
    "\n",
    "    #plt.xlim(0, 200)\n",
    "\n",
    "    df2 = df[~df.velo.isna()]\n",
    "\n",
    "    xmin = df2['lon'].min()\n",
    "    xmax = df2['lon'].max()\n",
    "    ymin = df2['lat'].min()\n",
    "    ymax = df2['lat'].max()\n",
    "\n",
    "    df_grouped = df2.groupby('filename', sort=False)\n",
    "\n",
    "    def interact_plot(val):\n",
    "        fig, ax = plt.subplots(1, 2, figsize=[30, 10])\n",
    "        #ax = plt.axes()\n",
    "        ax[0].grid()\n",
    "        ax[0].xaxis.set_major_locator(ticker.LinearLocator(numticks=20))\n",
    "        ax[0].set_ylabel('Speed (Km/h)')\n",
    "        ax[0].set_xlabel('Time (timestamp / 1e9 -> seconds)')\n",
    "        for ride_group_name in list(df_grouped.groups.keys())[:val]:\n",
    "            df_ride_group = df_grouped.get_group(ride_group_name)\n",
    "            points = np.array([df_ride_group['timestamp'].map(lambda v: (v - df_ride_group['timestamp'].iloc[0]) / 1e9), df_ride_group['velo'] * 3.6]).T.reshape(-1, 1, 2)\n",
    "            segments = np.concatenate([points[:-1], points[1:]], axis=1)\n",
    "            lc = LineCollection(segments, cmap='copper', norm = plt.Normalize(0, 30))\n",
    "            lc.set_array(df_ride_group['velo'] * 3.6)\n",
    "            lc.set_linewidth(df_ride_group['velo']* 3.6 / 10 + 1)\n",
    "            ax[0].add_collection(lc)\n",
    "            ax[0].autoscale()\n",
    "            #ax[0].plot(df_ride_group['timestamp'].map(lambda v: (v.value - df_ride_group['timestamp'].iloc[0].value) / 1e9), df_ride_group['velo'] * 3.6, label=\"One ride\")\n",
    "            points = np.array([df_ride_group['lon'], df_ride_group['lat']]).T.reshape(-1, 1, 2)\n",
    "            segments = np.concatenate([points[:-1], points[1:]], axis=1)\n",
    "            lc = LineCollection(segments, cmap='copper', norm = plt.Normalize(0, 30))\n",
    "            lc.set_array(df_ride_group['velo'] * 3.6)\n",
    "            lc.set_linewidth(df_ride_group['velo']* 3.6 / 10 + 1)\n",
    "            ax[1].add_collection(lc)\n",
    "            ax[1].autoscale()\n",
    "            ax[0].set_ylim(bottom=0, top=30)\n",
    "            ax[0].set_xlim(left=0, right=450)\n",
    "            #ax[1].plot(df_ride_group['lon'], df_ride_group['lat'])\n",
    "        ax[1].set_xlim(xmin = xmin - 0.001, xmax = xmax + 0.001)\n",
    "        ax[1].set_ylim(ymin = ymin - 0.001, ymax = ymax + 0.001)\n",
    "        cx.add_basemap(ax[1], crs='EPSG:4326', source=cx.providers.Esri.WorldImagery)\n",
    "        ax[1].set_aspect(1.7)\n",
    "\n",
    "    interact(interact_plot, val=(1,len(df_grouped),1))"
   ]
  },
  {
   "cell_type": "code",
   "execution_count": 5,
   "metadata": {},
   "outputs": [],
   "source": [
    "df = get_dataframe((13.416169,52.521508,13.416513,52.521832), (13.41591,52.522275,13.416421,52.522569), (13.415467,52.521919,13.416219,52.522107))"
   ]
  },
  {
   "cell_type": "code",
   "execution_count": null,
   "metadata": {},
   "outputs": [],
   "source": [
    "df = get_dataframe((11.55562,48.14897,11.56095,48.14509), (11.55562,48.14897,11.56095,48.14509))"
   ]
  },
  {
   "cell_type": "code",
   "execution_count": null,
   "metadata": {},
   "outputs": [],
   "source": [
    "df = get_dataframe((11.5570192378,48.1508535494,11.5581296723,48.1515603946), (11.5470709245,48.1589342674,11.5481813591,48.1596410013))"
   ]
  },
  {
   "cell_type": "code",
   "execution_count": null,
   "metadata": {},
   "outputs": [],
   "source": [
    "df = get_dataframe((11.5470709245,48.1589342674,11.5481813591,48.1596410013), (11.5570192378,48.1508535494,11.5581296723,48.1515603946))"
   ]
  },
  {
   "cell_type": "code",
   "execution_count": 4,
   "metadata": {},
   "outputs": [],
   "source": [
    "df = get_dataframe((11.067365735,49.4470913205,11.0686722994,49.4476597962), (11.079800456,49.446282173,11.0811070204,49.446850658))"
   ]
  },
  {
   "cell_type": "code",
   "execution_count": 21,
   "metadata": {},
   "outputs": [],
   "source": [
    "df = get_dataframe((11.079800456,49.446282173,11.0811070204,49.446850658), (11.067365735,49.4470913205,11.0686722994,49.4476597962))"
   ]
  },
  {
   "cell_type": "code",
   "execution_count": 14,
   "metadata": {},
   "outputs": [],
   "source": [
    "df = get_dataframe((9.7665499269,52.3569338146,9.7695218145,52.3594499164), (9.7447167455,52.3531397341,9.7476886331,52.3556560518))"
   ]
  },
  {
   "cell_type": "code",
   "execution_count": 12,
   "metadata": {},
   "outputs": [],
   "source": [
    "df = get_dataframe((9.7447167455,52.3531397341,9.7476886331,52.3556560518), (9.7665499269,52.3569338146,9.7695218145,52.3594499164))"
   ]
  },
  {
   "cell_type": "code",
   "execution_count": 4,
   "metadata": {},
   "outputs": [],
   "source": [
    "df = get_dataframe((9.720901382,52.3772149968,9.7238732696,52.3797299437), (9.7292698742,52.3694334729,9.7322417617,52.3719488629))"
   ]
  },
  {
   "cell_type": "code",
   "execution_count": 6,
   "metadata": {},
   "outputs": [],
   "source": [
    "df = get_dataframe((9.7292698742,52.3694334729,9.7322417617,52.3719488629), (9.720901382,52.3772149968,9.7238732696,52.3797299437))"
   ]
  },
  {
   "cell_type": "code",
   "execution_count": 8,
   "metadata": {},
   "outputs": [],
   "source": [
    "df = get_dataframe((9.7332093628,52.3788438556,9.7361812504,52.3813587096), (9.7237679871,52.3756083899,9.7267398747,52.3781234282))"
   ]
  },
  {
   "cell_type": "code",
   "execution_count": 10,
   "metadata": {},
   "outputs": [],
   "source": [
    "df = get_dataframe((9.7237679871,52.3756083899,9.7267398747,52.3781234282), (9.7332093628,52.3788438556,9.7361812504,52.3813587096))"
   ]
  },
  {
   "cell_type": "code",
   "execution_count": 12,
   "metadata": {},
   "outputs": [],
   "source": [
    "df = get_dataframe((11.059355754,49.4492168083,11.0606623184,49.4497852593), (11.0453386092,49.4538360222,11.0466451735,49.4544044196))"
   ]
  },
  {
   "cell_type": "code",
   "execution_count": 14,
   "metadata": {},
   "outputs": [],
   "source": [
    "df = get_dataframe((11.0453386092,49.4538360222,11.0466451735,49.4544044196), (11.059355754,49.4492168083,11.0606623184,49.4497852593))"
   ]
  },
  {
   "cell_type": "code",
   "execution_count": 7,
   "metadata": {},
   "outputs": [],
   "source": [
    "df = get_dataframe((11.079457580593482,49.44649236041058,11.080019894093809,49.446769576148), (11.06712002269169,49.44740684578576,11.068310105562006,49.44763829209129))"
   ]
  },
  {
   "cell_type": "code",
   "execution_count": 63,
   "metadata": {},
   "outputs": [],
   "source": [
    "df_s = get_sumo('../parameter_evaluation/sim_data/frauentorgraben_new_params_all.csv')"
   ]
  },
  {
   "cell_type": "code",
   "execution_count": 64,
   "metadata": {},
   "outputs": [
    {
     "data": {
      "application/vnd.jupyter.widget-view+json": {
       "model_id": "90a55fbd54694db7b6bd89ef6c6cc775",
       "version_major": 2,
       "version_minor": 0
      },
      "text/plain": [
       "interactive(children=(IntSlider(value=50, description='val', min=1), Output()), _dom_classes=('widget-interact…"
      ]
     },
     "metadata": {},
     "output_type": "display_data"
    }
   ],
   "source": [
    "analyze_scenario(df_s)"
   ]
  },
  {
   "cell_type": "code",
   "execution_count": 66,
   "metadata": {},
   "outputs": [
    {
     "data": {
      "application/vnd.jupyter.widget-view+json": {
       "model_id": "f18af19afe3541b7bf992908d8e4089c",
       "version_major": 2,
       "version_minor": 0
      },
      "text/plain": [
       "interactive(children=(IntSlider(value=29, description='val', max=58, min=1), Output()), _dom_classes=('widget-…"
      ]
     },
     "metadata": {},
     "output_type": "display_data"
    }
   ],
   "source": [
    "analyze_scenario(df)"
   ]
  },
  {
   "cell_type": "code",
   "execution_count": null,
   "metadata": {},
   "outputs": [
    {
     "name": "stdout",
     "output_type": "stream",
     "text": [
      "Your map should have been opened in your browser automatically.\n",
      "Press ctrl+c to return.\n"
     ]
    }
   ],
   "source": [
    "with DatabaseConnection() as con:\n",
    "    cur = con.execute(\"\"\"\n",
    "\n",
    "    SELECT filename, unnest(timestamps) ts, (ST_DumpPoints(geom::geometry)).geom::json -> 'coordinates' as coords FROM ride WHERE st_intersects(geom,\n",
    "            st_setsrid(st_makebox2d(st_makepoint(11.5595377784,48.1469343773), st_makepoint(11.5606482129,48.1476412765)), 4326))\n",
    "\n",
    "    \"\"\")\n",
    "    df = pd.DataFrame(con.fetchall(), columns=['filename', 'timestamp', 'coords'])\n",
    "    df = df[~(df.timestamp.isnull() | df.coords.isnull())]\n",
    "    df['lon'], df['lat'] = zip(*df.coords.values)\n",
    "    df['rad'] = 1\n",
    "\n",
    "df_grouped = df.groupby('filename', sort=False)\n",
    "for i, ride_group_name in enumerate(df_grouped.groups):\n",
    "    df_ride_group = df_grouped.get_group(ride_group_name)\n",
    "    add_path(df_ride_group, lod=1)\n",
    "\n",
    "show_path()"
   ]
  },
  {
   "cell_type": "code",
   "execution_count": 3,
   "metadata": {},
   "outputs": [
    {
     "name": "stdout",
     "output_type": "stream",
     "text": [
      "Your map should have been opened in your browser automatically.\n",
      "Press ctrl+c to return.\n"
     ]
    }
   ],
   "source": [
    "with DatabaseConnection() as con:\n",
    "    cur = con.execute(\"\"\"\n",
    "\n",
    "    SELECT filename, json_array_elements(coords) FROM (\n",
    "    SELECT filename, ST_SimplifyPreserveTopology(geom::geometry, 0.01)::json -> 'coordinates' as coords FROM ride\n",
    "    ) one\n",
    "\n",
    "    \"\"\")\n",
    "    df = pd.DataFrame(con.fetchall(), columns=['filename', 'coords'])\n",
    "    df['timestamp'] = 0\n",
    "    df = df[~(df.timestamp.isnull() | df.coords.isnull())]\n",
    "    df['lon'], df['lat'] = zip(*df.coords.values)\n",
    "    df['rad'] = 1\n",
    "\n",
    "df_grouped = df.groupby('filename', sort=False)\n",
    "for i, ride_group_name in enumerate(df_grouped.groups):\n",
    "    df_ride_group = df_grouped.get_group(ride_group_name)\n",
    "    add_path(df_ride_group, lod=1)\n",
    "\n",
    "show_path()"
   ]
  },
  {
   "cell_type": "code",
   "execution_count": 55,
   "metadata": {},
   "outputs": [
    {
     "ename": "MemoryError",
     "evalue": "std::bad_alloc: out_of_memory: CUDA error at: /project/include/rmm/mr/device/cuda_memory_resource.hpp:70: cudaErrorMemoryAllocation out of memory",
     "output_type": "error",
     "traceback": [
      "\u001b[0;31m---------------------------------------------------------------------------\u001b[0m",
      "\u001b[0;31mMemoryError\u001b[0m                               Traceback (most recent call last)",
      "Cell \u001b[0;32mIn[55], line 25\u001b[0m\n\u001b[1;32m     22\u001b[0m dscan \u001b[39m=\u001b[39m cml\u001b[39m.\u001b[39mAgglomerativeClustering(n_clusters\u001b[39m=\u001b[39m\u001b[39m1000\u001b[39m, n_neighbors\u001b[39m=\u001b[39m\u001b[39m30\u001b[39m)\n\u001b[1;32m     23\u001b[0m \u001b[39m#re = dscan.fit_predict(df[['lon', 'lat']])\u001b[39;00m\n\u001b[1;32m     24\u001b[0m \u001b[39m#dscan.fit(df[['lon', 'lat']])\u001b[39;00m\n\u001b[0;32m---> 25\u001b[0m re \u001b[39m=\u001b[39m dscan\u001b[39m.\u001b[39;49mfit_predict(df[[\u001b[39m'\u001b[39;49m\u001b[39mlon\u001b[39;49m\u001b[39m'\u001b[39;49m, \u001b[39m'\u001b[39;49m\u001b[39mlat\u001b[39;49m\u001b[39m'\u001b[39;49m]])\n\u001b[1;32m     26\u001b[0m \u001b[39m#print(dscan.score_samples(cp.array([[8.0, 50.0]])))\u001b[39;00m\n\u001b[1;32m     27\u001b[0m ag \u001b[39m=\u001b[39m re\u001b[39m.\u001b[39mgroupby(re)\u001b[39m.\u001b[39mcount()\n",
      "File \u001b[0;32m/mnt/simra/data-analytics/.conda/lib/python3.9/site-packages/cuml/internals/api_decorators.py:586\u001b[0m, in \u001b[0;36mBaseReturnArrayDecorator.__call__.<locals>.inner_get\u001b[0;34m(*args, **kwargs)\u001b[0m\n\u001b[1;32m    583\u001b[0m         \u001b[39mself\u001b[39m\u001b[39m.\u001b[39mdo_getters_with_self_no_input(self_val\u001b[39m=\u001b[39mself_val)\n\u001b[1;32m    585\u001b[0m     \u001b[39m# Call the function\u001b[39;00m\n\u001b[0;32m--> 586\u001b[0m     ret_val \u001b[39m=\u001b[39m func(\u001b[39m*\u001b[39;49margs, \u001b[39m*\u001b[39;49m\u001b[39m*\u001b[39;49mkwargs)\n\u001b[1;32m    588\u001b[0m \u001b[39mreturn\u001b[39;00m cm\u001b[39m.\u001b[39mprocess_return(ret_val)\n",
      "File \u001b[0;32magglomerative.pyx:244\u001b[0m, in \u001b[0;36mcuml.cluster.agglomerative.AgglomerativeClustering.fit_predict\u001b[0;34m()\u001b[0m\n",
      "File \u001b[0;32m/mnt/simra/data-analytics/.conda/lib/python3.9/site-packages/cuml/internals/api_decorators.py:409\u001b[0m, in \u001b[0;36mBaseReturnAnyDecorator.__call__.<locals>.inner_with_setters\u001b[0;34m(*args, **kwargs)\u001b[0m\n\u001b[1;32m    402\u001b[0m self_val, input_val, target_val \u001b[39m=\u001b[39m \\\n\u001b[1;32m    403\u001b[0m     \u001b[39mself\u001b[39m\u001b[39m.\u001b[39mget_arg_values(\u001b[39m*\u001b[39margs, \u001b[39m*\u001b[39m\u001b[39m*\u001b[39mkwargs)\n\u001b[1;32m    405\u001b[0m \u001b[39mself\u001b[39m\u001b[39m.\u001b[39mdo_setters(self_val\u001b[39m=\u001b[39mself_val,\n\u001b[1;32m    406\u001b[0m                 input_val\u001b[39m=\u001b[39minput_val,\n\u001b[1;32m    407\u001b[0m                 target_val\u001b[39m=\u001b[39mtarget_val)\n\u001b[0;32m--> 409\u001b[0m \u001b[39mreturn\u001b[39;00m func(\u001b[39m*\u001b[39;49margs, \u001b[39m*\u001b[39;49m\u001b[39m*\u001b[39;49mkwargs)\n",
      "File \u001b[0;32magglomerative.pyx:216\u001b[0m, in \u001b[0;36mcuml.cluster.agglomerative.AgglomerativeClustering.fit\u001b[0;34m()\u001b[0m\n",
      "\u001b[0;31mMemoryError\u001b[0m: std::bad_alloc: out_of_memory: CUDA error at: /project/include/rmm/mr/device/cuda_memory_resource.hpp:70: cudaErrorMemoryAllocation out of memory"
     ]
    }
   ],
   "source": [
    "import cudf as cu\n",
    "import cupy as cp\n",
    "import cuml as cml\n",
    "\n",
    "with DatabaseConnection() as con:\n",
    "    cur = con.execute(\"\"\"\n",
    "\n",
    "    SELECT filename, timestamp, ((coords).geom::json -> 'coordinates' -> 0), ((coords).geom::json -> 'coordinates' -> 1) FROM unnested_ride LIMIT 1200000\n",
    "\n",
    "    \"\"\")\n",
    "    #arrx = con.fetchall()\n",
    "    df = cu.DataFrame(con.fetchall(), columns=['filename', 'timestamp', 'lon', 'lat'])\n",
    "    df = df[~(df.timestamp.isnull() | df.lon.isnull() | df.lat.isnull())]\n",
    "    \n",
    "    #df['lon'], df['lat'] = zip(*df.coords.values)\n",
    "    #df['rad'] = 1\n",
    "\n",
    "#cu_df = cu.DataFrame(df['coords'].values)\n",
    "\n",
    "#dscan = cml.DBSCAN(eps=0.0005, min_samples=0, max_mbytes_per_batch=8192)\n",
    "#dscan = cml.KernelDensity()\n",
    "dscan = cml.AgglomerativeClustering(n_clusters=1000, n_neighbors=30)\n",
    "#re = dscan.fit_predict(df[['lon', 'lat']])\n",
    "#dscan.fit(df[['lon', 'lat']])\n",
    "re = dscan.fit_predict(df[['lon', 'lat']])\n",
    "#print(dscan.score_samples(cp.array([[8.0, 50.0]])))\n",
    "ag = re.groupby(re).count()\n",
    "print(ag)"
   ]
  }
 ],
 "metadata": {
  "kernelspec": {
   "display_name": "Python 3",
   "language": "python",
   "name": "python3"
  },
  "language_info": {
   "codemirror_mode": {
    "name": "ipython",
    "version": 3
   },
   "file_extension": ".py",
   "mimetype": "text/x-python",
   "name": "python",
   "nbconvert_exporter": "python",
   "pygments_lexer": "ipython3",
   "version": "3.9.15 (main, Nov 24 2022, 14:31:59) \n[GCC 11.2.0]"
  },
  "orig_nbformat": 4,
  "vscode": {
   "interpreter": {
    "hash": "19820f6c91c9924cba312a6458523eed095a2f92ef8c1ff90af84579467e22ce"
   }
  }
 },
 "nbformat": 4,
 "nbformat_minor": 2
}
