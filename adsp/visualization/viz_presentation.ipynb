{
 "cells": [
  {
   "cell_type": "code",
   "execution_count": null,
   "metadata": {},
   "outputs": [],
   "source": [
    "import sys\n",
    "# add parent directory and its parent to sys.path so that python finds the modules\n",
    "sys.path.extend(['..', '../..'])\n",
    "\n",
    "# import numpy as np\n",
    "# import pandas as pd\n",
    "import matplotlib.pyplot as plt\n",
    "from matplotlib import ticker\n",
    "import contextily as cx\n",
    "\n",
    "from .db_utils_viz import get_rect_data"
   ]
  },
  {
   "cell_type": "code",
   "execution_count": null,
   "metadata": {},
   "outputs": [],
   "source": [
    "# rect_coords = (13.315518,52.5073,13.340082,52.51698) #erp\n",
    "rect_coords = (13.411647,52.496276,13.422113,52.501871)\n",
    "df = get_rect_data(rect_coords, limit_rows=100000000)"
   ]
  },
  {
   "cell_type": "code",
   "execution_count": null,
   "metadata": {},
   "outputs": [],
   "source": [
    "df.rename({'filename': 'ride_id'}, axis='columns', inplace=True)"
   ]
  },
  {
   "cell_type": "code",
   "execution_count": null,
   "metadata": {},
   "outputs": [],
   "source": [
    "ride_data = {'df': df}\n",
    "fig, ax = plt.subplots(figsize=(20, 20))\n",
    "\n",
    "# plot rides for each dataframe\n",
    "for data_idx, (data_name, df) in enumerate(ride_data.items()):\n",
    "    df_grouped = df.groupby('ride_id')\n",
    "    for ride_group_name in df_grouped.groups:\n",
    "        df_ride_group = df_grouped.get_group(ride_group_name)\n",
    "        ax.plot(df_ride_group.lon, df_ride_group.lat, color='blue', linewidth=1)\n",
    "        # add labels to legend\n",
    "\n",
    "ax.xaxis.set_major_locator(ticker.LinearLocator(4))\n",
    "ax.xaxis.set_major_formatter(ticker.ScalarFormatter(useOffset=False))\n",
    "ax.yaxis.set_major_locator(ticker.LinearLocator(4))\n",
    "ax.yaxis.set_major_formatter(ticker.ScalarFormatter(useOffset=False))\n",
    "ax.set_xlabel('Longitude in decimal degrees')\n",
    "ax.set_ylabel('Latitude in decimal degrees')\n",
    "\n",
    "cx.add_basemap(ax, crs='EPSG:4326', source=cx.providers.Stamen.Toner)\n",
    "ax.set_xlim(rect_coords[0], rect_coords[2])\n",
    "ax.set_ylim(rect_coords[1], rect_coords[3])\n",
    "\n",
    "ax.set_aspect(1.7)\n",
    "\n",
    "# plt.legend()\n",
    "plt.savefig('simra_data_viz.png')\n",
    "plt.show()\n",
    "\n"
   ]
  }
 ],
 "metadata": {
  "kernelspec": {
   "display_name": "Python 3.8.10 64-bit",
   "language": "python",
   "name": "python3"
  },
  "language_info": {
   "codemirror_mode": {
    "name": "ipython",
    "version": 3
   },
   "file_extension": ".py",
   "mimetype": "text/x-python",
   "name": "python",
   "nbconvert_exporter": "python",
   "pygments_lexer": "ipython3"
  },
  "vscode": {
   "interpreter": {
    "hash": "916dbcbb3f70747c44a77c7bcd40155683ae19c65e1c03b4aa3499c5328201f1"
   }
  }
 },
 "nbformat": 4,
 "nbformat_minor": 2
}
